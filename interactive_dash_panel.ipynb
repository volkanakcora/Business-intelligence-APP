{
 "metadata": {
  "language_info": {
   "codemirror_mode": {
    "name": "ipython",
    "version": 3
   },
   "file_extension": ".py",
   "mimetype": "text/x-python",
   "name": "python",
   "nbconvert_exporter": "python",
   "pygments_lexer": "ipython3",
   "version": "3.8.5-final"
  },
  "orig_nbformat": 2,
  "kernelspec": {
   "name": "python38264bit4d8d1a608d0345d58a0ff17be4288663",
   "display_name": "Python 3.8.2 64-bit",
   "language": "python"
  }
 },
 "nbformat": 4,
 "nbformat_minor": 2,
 "cells": [
  {
   "cell_type": "code",
   "execution_count": 144,
   "metadata": {},
   "outputs": [],
   "source": [
    "import panel as pn\n",
    "import pandas as pd \n",
    "import numpy as np \n",
    "import hvplot\n"
   ]
  },
  {
   "cell_type": "code",
   "execution_count": 31,
   "metadata": {},
   "outputs": [],
   "source": [
    "df = pd.read_csv(\"/home/volkan/Desktop/PY/TRY/Automobile_data.csv\")"
   ]
  },
  {
   "cell_type": "code",
   "execution_count": 189,
   "metadata": {},
   "outputs": [],
   "source": [
    "year = pn.widgets.IntRangeSlider(name=\"year\",width=500,start= 61, end=326,value=(61,326), value_throttled=(61,326))\n",
    "\n",
    "@pn.depends(year.param.value_throttled)\n",
    "def year_range(year):\n",
    "    return (\"Floods Between:{start} —  {end}\".format(start=year[0], end=year[1]))"
   ]
  },
  {
   "cell_type": "code",
   "execution_count": null,
   "metadata": {},
   "outputs": [],
   "source": [
    "#KPI- ENGİNE SİZE"
   ]
  },
  {
   "cell_type": "code",
   "execution_count": 211,
   "metadata": {},
   "outputs": [
    {
     "output_type": "display_data",
     "data": {},
     "metadata": {}
    },
    {
     "output_type": "execute_result",
     "data": {
      "text/html": "<div id='1530'>\n\n\n\n\n\n  <div class=\"bk-root\" id=\"222c4ea4-5bca-40e4-8987-f2a1bf02a279\" data-root-id=\"1530\"></div>\n</div>\n<script type=\"application/javascript\">(function(root) {\n  function embed_document(root) {\n    var docs_json = {\"b5e9c0fa-5122-4bb8-a6fb-a9f7a49295ef\":{\"roots\":{\"references\":[{\"attributes\":{\"children\":[{\"id\":\"1532\"}],\"margin\":[0,0,0,0],\"name\":\"Row03051\"},\"id\":\"1531\",\"type\":\"Row\"},{\"attributes\":{\"css_classes\":[\"markdown\"],\"margin\":[5,5,5,5],\"name\":\"ParamFunction03047\",\"text\":\"&lt;p&gt;Average Price 2654633.0&lt;/p&gt;\"},\"id\":\"1532\",\"type\":\"panel.models.markup.HTML\"},{\"attributes\":{\"children\":[{\"id\":\"1531\"}],\"margin\":[0,0,0,0],\"name\":\"Row03054\"},\"id\":\"1530\",\"type\":\"Row\"},{\"attributes\":{\"client_comm_id\":\"461eadc4b8b64fd4bfb6e7e7372b2897\",\"comm_id\":\"bc4dc3710a5c4747b4699edb0207e2cd\",\"plot_id\":\"1530\"},\"id\":\"1533\",\"type\":\"panel.models.comm_manager.CommManager\"}],\"root_ids\":[\"1530\",\"1533\"]},\"title\":\"Bokeh Application\",\"version\":\"2.2.3\"}};\n    var render_items = [{\"docid\":\"b5e9c0fa-5122-4bb8-a6fb-a9f7a49295ef\",\"root_ids\":[\"1530\"],\"roots\":{\"1530\":\"222c4ea4-5bca-40e4-8987-f2a1bf02a279\"}}];\n    root.Bokeh.embed.embed_items_notebook(docs_json, render_items);\n  }\n  if (root.Bokeh !== undefined && root.Bokeh.Panel !== undefined) {\n    embed_document(root);\n  } else {\n    var attempts = 0;\n    var timer = setInterval(function(root) {\n      if (root.Bokeh !== undefined && root.Bokeh.Panel !== undefined) {\n        clearInterval(timer);\n        embed_document(root);\n      } else if (document.readyState == \"complete\") {\n        attempts++;\n        if (attempts > 100) {\n          clearInterval(timer);\n          console.log(\"Bokeh: ERROR: Unable to run BokehJS code because BokehJS library is missing\");\n        }\n      }\n    }, 10, root)\n  }\n})(window);</script>",
      "application/vnd.holoviews_exec.v0+json": "",
      "text/plain": [
       "Row\n",
       "    [0] ParamFunction(function)"
      ]
     },
     "metadata": {
      "application/vnd.holoviews_exec.v0+json": {
       "id": "1530"
      }
     },
     "execution_count": 211
    }
   ],
   "source": [
    "\n",
    "@pn.depends(year.param.value_throttled)\n",
    "def dead_stat(year):\n",
    "    return  \"Average Price {}\".format(df[df[\"engine.size\"].between(year[0],year[1])][\"price\"].sum())\n",
    "        \n",
    "pn.Row(dead_stat)"
   ]
  },
  {
   "cell_type": "code",
   "execution_count": 200,
   "metadata": {},
   "outputs": [],
   "source": [
    "# Bar chart\n",
    "@pn.depends(year.param.value_throttled)\n",
    "def plot_bar(year):\n",
    "    years_df = df[df[\"engine.size\"].year.between(year[0],year[1])]\n",
    "    bar_table = years_df[\"make\"].value_counts().reset_index().rename(columns={\"index\":\"cause\", \"make\":\"brands\"})\n",
    "    return bar_table[:10].sort_values(\"brands\").hvplot.barh(\"cause\", \"brands\", \n",
    "       invert=False, legend=\"bottom_right\", height=600)\n",
    "# # Map\n",
    "# @pn.depends(year.param.value_throttled)\n",
    "# def plot_map(year):\n",
    "#     years_df = df[df[\"engine.size\"].between(year[0],year[1])]\n",
    "#     return df.hvplot.points('horsepower', 'city.mpg', xaxis=None, yaxis=None, geo=True, color='red', alpha=0.5, tiles='CartoLight', hover_cols=[\"Began\", \"Ended\", \"Dead\", \"Displaced\"], size=5)"
   ]
  },
  {
   "cell_type": "code",
   "execution_count": 208,
   "metadata": {},
   "outputs": [
    {
     "output_type": "display_data",
     "data": {},
     "metadata": {}
    },
    {
     "output_type": "execute_result",
     "data": {
      "text/html": "<div id='1508'>\n\n\n\n\n\n  <div class=\"bk-root\" id=\"35b4c0cc-3280-437b-b42a-e8be7a3fc62e\" data-root-id=\"1508\"></div>\n</div>\n<script type=\"application/javascript\">(function(root) {\n  function embed_document(root) {\n    var docs_json = {\"b599f200-bfea-47e6-a6af-46e8ad32e402\":{\"roots\":{\"references\":[{\"attributes\":{\"children\":[{\"id\":\"1524\"}],\"margin\":[0,0,0,0],\"name\":\"Row03022\"},\"id\":\"1523\",\"type\":\"Row\"},{\"attributes\":{\"css_classes\":[\"markdown\"],\"margin\":[5,5,5,5],\"name\":\"ParamFunction03009\",\"text\":\"&lt;p&gt;Floods Between:61 \\u2014  326&lt;/p&gt;\"},\"id\":\"1520\",\"type\":\"panel.models.markup.HTML\"},{\"attributes\":{\"client_comm_id\":\"a98f7aaa599344da9814463fabc1ff5f\",\"comm_id\":\"18fb0e5df2dd4317b816d7028c341c94\",\"plot_id\":\"1508\"},\"id\":\"1525\",\"type\":\"panel.models.comm_manager.CommManager\"},{\"attributes\":{\"end\":326,\"format\":\"0[.]00\",\"margin\":[5,10,5,10],\"min_width\":500,\"start\":61,\"title\":\"year\",\"value\":[61,326],\"value_throttled\":[61,326],\"width\":500},\"id\":\"1512\",\"type\":\"RangeSlider\"},{\"attributes\":{\"css_classes\":[\"markdown\"],\"margin\":[5,5,5,5],\"name\":\"Markdown03006\",\"text\":\"&lt;p&gt;Dataset:Global Active Archive of Large Flood Events &lt;/p&gt;\"},\"id\":\"1514\",\"type\":\"panel.models.markup.HTML\"},{\"attributes\":{\"align\":\"center\",\"children\":[{\"id\":\"1510\"},{\"id\":\"1511\"},{\"id\":\"1512\"},{\"id\":\"1513\"},{\"id\":\"1514\"}],\"css_classes\":[\"panel-widget-box\"],\"height\":500,\"margin\":[5,5,5,5],\"name\":\"WidgetBox03008\",\"sizing_mode\":\"fixed\",\"width\":550},\"id\":\"1509\",\"type\":\"Column\"},{\"attributes\":{\"css_classes\":[\"markdown\"],\"margin\":[5,5,5,5],\"name\":\"Markdown03004\",\"text\":\"&lt;h1&gt;Worldwide Floods&lt;/h1&gt;\"},\"id\":\"1510\",\"type\":\"panel.models.markup.HTML\"},{\"attributes\":{\"css_classes\":[\"markdown\"],\"margin\":[5,5,5,5],\"name\":\"ParamFunction03018\",\"text\":\"&lt;p&gt;Average Price 2654633.0&lt;/p&gt;\"},\"id\":\"1524\",\"type\":\"panel.models.markup.HTML\"},{\"attributes\":{\"css_classes\":[\"markdown\"],\"margin\":[5,5,5,5],\"name\":\"Markdown03001\",\"text\":\"&lt;p&gt;floodsImage.png&lt;/p&gt;\",\"width\":200},\"id\":\"1511\",\"type\":\"panel.models.markup.HTML\"},{\"attributes\":{\"children\":[{\"id\":\"1517\"}],\"margin\":[0,0,0,0],\"name\":\"Column03027\",\"sizing_mode\":\"stretch_width\",\"width\":300},\"id\":\"1516\",\"type\":\"Column\"},{\"attributes\":{\"margin\":[5,5,5,5],\"name\":\"HSpacer03017\",\"sizing_mode\":\"stretch_width\"},\"id\":\"1521\",\"type\":\"Spacer\"},{\"attributes\":{\"children\":[{\"id\":\"1509\"},{\"id\":\"1515\"}],\"margin\":[0,0,0,0],\"name\":\"Row03029\",\"sizing_mode\":\"stretch_width\"},\"id\":\"1508\",\"type\":\"Row\"},{\"attributes\":{\"margin\":[2000,2000,2000,2000],\"name\":\"Spacer03003\"},\"id\":\"1513\",\"type\":\"Spacer\"},{\"attributes\":{\"children\":[{\"id\":\"1523\"}],\"margin\":[0,0,0,0],\"name\":\"Column03025\"},\"id\":\"1522\",\"type\":\"Column\"},{\"attributes\":{\"children\":[{\"id\":\"1520\"}],\"margin\":[0,0,0,0],\"name\":\"Row03013\"},\"id\":\"1519\",\"type\":\"Row\"},{\"attributes\":{\"children\":[{\"id\":\"1519\"}],\"margin\":[0,0,0,0],\"name\":\"Column03016\"},\"id\":\"1518\",\"type\":\"Column\"},{\"attributes\":{\"children\":[{\"id\":\"1518\"},{\"id\":\"1521\"},{\"id\":\"1522\"}],\"margin\":[0,0,0,0],\"name\":\"Row03026\"},\"id\":\"1517\",\"type\":\"Row\"},{\"attributes\":{\"children\":[{\"id\":\"1516\"}],\"css_classes\":[\"panel-widget-box\"],\"margin\":[5,5,5,5],\"name\":\"WidgetBox03028\"},\"id\":\"1515\",\"type\":\"Column\"}],\"root_ids\":[\"1508\",\"1525\"]},\"title\":\"Bokeh Application\",\"version\":\"2.2.3\"}};\n    var render_items = [{\"docid\":\"b599f200-bfea-47e6-a6af-46e8ad32e402\",\"root_ids\":[\"1508\"],\"roots\":{\"1508\":\"35b4c0cc-3280-437b-b42a-e8be7a3fc62e\"}}];\n    root.Bokeh.embed.embed_items_notebook(docs_json, render_items);\n  }\n  if (root.Bokeh !== undefined && root.Bokeh.Panel !== undefined) {\n    embed_document(root);\n  } else {\n    var attempts = 0;\n    var timer = setInterval(function(root) {\n      if (root.Bokeh !== undefined && root.Bokeh.Panel !== undefined) {\n        clearInterval(timer);\n        embed_document(root);\n      } else if (document.readyState == \"complete\") {\n        attempts++;\n        if (attempts > 100) {\n          clearInterval(timer);\n          console.log(\"Bokeh: ERROR: Unable to run BokehJS code because BokehJS library is missing\");\n        }\n      }\n    }, 10, root)\n  }\n})(window);</script>",
      "application/vnd.holoviews_exec.v0+json": "",
      "text/plain": [
       "Row(sizing_mode='stretch_width')\n",
       "    [0] WidgetBox(align='center', height=500, sizing_mode='fixed', width=550)\n",
       "        [0] Markdown(str)\n",
       "        [1] Markdown(str, width=200)\n",
       "        [2] IntRangeSlider(end=326, name='year', start=61, value=(61, 326), value_throttled=(61, 326), width=500)\n",
       "        [3] Spacer(margin=2000)\n",
       "        [4] Markdown(str)\n",
       "    [1] WidgetBox\n",
       "        [0] Column(sizing_mode='stretch_width', width=300)\n",
       "            [0] Row\n",
       "                [0] Column\n",
       "                    [0] ParamFunction(function)\n",
       "                [1] HSpacer()\n",
       "                [2] Column\n",
       "                    [0] ParamFunction(function)"
      ]
     },
     "metadata": {
      "application/vnd.holoviews_exec.v0+json": {
       "id": "1508"
      }
     },
     "execution_count": 208
    }
   ],
   "source": [
    "title = \"# Worldwide Floods\"\n",
    "logo = pn.panel(\"floodsImage.png\", width=200, align=\"start\")\n",
    "text = \"Dataset:Global Active Archive of Large Flood Events \"\n",
    "# Header box\n",
    "header_box = pn.WidgetBox(title, logo, year,\n",
    "  pn.layout.Spacer(margin=2000), text, width=550, height=500, align=\"center\")\n",
    "# Plot Box\n",
    "plots_box = pn.WidgetBox(pn.Column(pn.Row(pn.Column(year_range), pn.layout.HSpacer(), pn.Column(dead_stat)), align=\"start\", width=300,sizing_mode=\"stretch_width\"))\n",
    "# Dashboard\n",
    "dashboard = pn.Row(header_box, plots_box, sizing_mode=\"stretch_width\")\n",
    "dashboard\n",
    "\n"
   ]
  },
  {
   "cell_type": "code",
   "execution_count": 250,
   "metadata": {},
   "outputs": [],
   "source": [
    "import numpy as np\n",
    "import pandas as pd \n",
    "import statsmodels.api as sm\n",
    "import statsmodels.formula.api as smf\n",
    "import seaborn as sns\n",
    "import altair as alt\n",
    "\n",
    "from sklearn.preprocessing import scale \n",
    "from sklearn.model_selection import train_test_split, GridSearchCV, cross_val_score\n",
    "from sklearn.metrics import confusion_matrix, accuracy_score, classification_report\n",
    "from sklearn.metrics import roc_auc_score,roc_curve\n",
    "import statsmodels.formula.api as smf\n",
    "import matplotlib.pyplot as plt\n",
    "from sklearn.neighbors import KNeighborsClassifier\n",
    "from sklearn.discriminant_analysis import LinearDiscriminantAnalysis\n",
    "from sklearn.linear_model import LogisticRegression\n",
    "from sklearn.neighbors import KNeighborsRegressor"
   ]
  },
  {
   "cell_type": "code",
   "execution_count": 216,
   "metadata": {},
   "outputs": [
    {
     "output_type": "execute_result",
     "data": {
      "text/plain": [
       "                   count          mean          std      min      25%  \\\n",
       "symboling          205.0      0.834146     1.245307    -2.00     0.00   \n",
       "normalized.losses  164.0    122.000000    35.442168    65.00    94.00   \n",
       "wheel.base         205.0     98.756585     6.021776    86.60    94.50   \n",
       "length             205.0    174.049268    12.337289   141.10   166.30   \n",
       "width              205.0     65.907805     2.145204    60.30    64.10   \n",
       "height             205.0     53.724878     2.443522    47.80    52.00   \n",
       "curb.weight        205.0   2555.565854   520.680204  1488.00  2145.00   \n",
       "engine.size        205.0    126.907317    41.642693    61.00    97.00   \n",
       "bore               201.0      3.329751     0.273539     2.54     3.15   \n",
       "stroke             201.0      3.255423     0.316717     2.07     3.11   \n",
       "compression.ratio  205.0     10.142537     3.972040     7.00     8.60   \n",
       "horsepower         203.0    104.256158    39.714369    48.00    70.00   \n",
       "peak.rpm           203.0   5125.369458   479.334560  4150.00  4800.00   \n",
       "city.mpg           205.0     25.219512     6.542142    13.00    19.00   \n",
       "highway.mpg        205.0     30.751220     6.886443    16.00    25.00   \n",
       "price              201.0  13207.129353  7947.066342  5118.00  7775.00   \n",
       "\n",
       "                        50%       75%       max  \n",
       "symboling              1.00      2.00      3.00  \n",
       "normalized.losses    115.00    150.00    256.00  \n",
       "wheel.base            97.00    102.40    120.90  \n",
       "length               173.20    183.10    208.10  \n",
       "width                 65.50     66.90     72.30  \n",
       "height                54.10     55.50     59.80  \n",
       "curb.weight         2414.00   2935.00   4066.00  \n",
       "engine.size          120.00    141.00    326.00  \n",
       "bore                   3.31      3.59      3.94  \n",
       "stroke                 3.29      3.41      4.17  \n",
       "compression.ratio      9.00      9.40     23.00  \n",
       "horsepower            95.00    116.00    288.00  \n",
       "peak.rpm            5200.00   5500.00   6600.00  \n",
       "city.mpg              24.00     30.00     49.00  \n",
       "highway.mpg           30.00     34.00     54.00  \n",
       "price              10295.00  16500.00  45400.00  "
      ],
      "text/html": "<div>\n<style scoped>\n    .dataframe tbody tr th:only-of-type {\n        vertical-align: middle;\n    }\n\n    .dataframe tbody tr th {\n        vertical-align: top;\n    }\n\n    .dataframe thead th {\n        text-align: right;\n    }\n</style>\n<table border=\"1\" class=\"dataframe\">\n  <thead>\n    <tr style=\"text-align: right;\">\n      <th></th>\n      <th>count</th>\n      <th>mean</th>\n      <th>std</th>\n      <th>min</th>\n      <th>25%</th>\n      <th>50%</th>\n      <th>75%</th>\n      <th>max</th>\n    </tr>\n  </thead>\n  <tbody>\n    <tr>\n      <th>symboling</th>\n      <td>205.0</td>\n      <td>0.834146</td>\n      <td>1.245307</td>\n      <td>-2.00</td>\n      <td>0.00</td>\n      <td>1.00</td>\n      <td>2.00</td>\n      <td>3.00</td>\n    </tr>\n    <tr>\n      <th>normalized.losses</th>\n      <td>164.0</td>\n      <td>122.000000</td>\n      <td>35.442168</td>\n      <td>65.00</td>\n      <td>94.00</td>\n      <td>115.00</td>\n      <td>150.00</td>\n      <td>256.00</td>\n    </tr>\n    <tr>\n      <th>wheel.base</th>\n      <td>205.0</td>\n      <td>98.756585</td>\n      <td>6.021776</td>\n      <td>86.60</td>\n      <td>94.50</td>\n      <td>97.00</td>\n      <td>102.40</td>\n      <td>120.90</td>\n    </tr>\n    <tr>\n      <th>length</th>\n      <td>205.0</td>\n      <td>174.049268</td>\n      <td>12.337289</td>\n      <td>141.10</td>\n      <td>166.30</td>\n      <td>173.20</td>\n      <td>183.10</td>\n      <td>208.10</td>\n    </tr>\n    <tr>\n      <th>width</th>\n      <td>205.0</td>\n      <td>65.907805</td>\n      <td>2.145204</td>\n      <td>60.30</td>\n      <td>64.10</td>\n      <td>65.50</td>\n      <td>66.90</td>\n      <td>72.30</td>\n    </tr>\n    <tr>\n      <th>height</th>\n      <td>205.0</td>\n      <td>53.724878</td>\n      <td>2.443522</td>\n      <td>47.80</td>\n      <td>52.00</td>\n      <td>54.10</td>\n      <td>55.50</td>\n      <td>59.80</td>\n    </tr>\n    <tr>\n      <th>curb.weight</th>\n      <td>205.0</td>\n      <td>2555.565854</td>\n      <td>520.680204</td>\n      <td>1488.00</td>\n      <td>2145.00</td>\n      <td>2414.00</td>\n      <td>2935.00</td>\n      <td>4066.00</td>\n    </tr>\n    <tr>\n      <th>engine.size</th>\n      <td>205.0</td>\n      <td>126.907317</td>\n      <td>41.642693</td>\n      <td>61.00</td>\n      <td>97.00</td>\n      <td>120.00</td>\n      <td>141.00</td>\n      <td>326.00</td>\n    </tr>\n    <tr>\n      <th>bore</th>\n      <td>201.0</td>\n      <td>3.329751</td>\n      <td>0.273539</td>\n      <td>2.54</td>\n      <td>3.15</td>\n      <td>3.31</td>\n      <td>3.59</td>\n      <td>3.94</td>\n    </tr>\n    <tr>\n      <th>stroke</th>\n      <td>201.0</td>\n      <td>3.255423</td>\n      <td>0.316717</td>\n      <td>2.07</td>\n      <td>3.11</td>\n      <td>3.29</td>\n      <td>3.41</td>\n      <td>4.17</td>\n    </tr>\n    <tr>\n      <th>compression.ratio</th>\n      <td>205.0</td>\n      <td>10.142537</td>\n      <td>3.972040</td>\n      <td>7.00</td>\n      <td>8.60</td>\n      <td>9.00</td>\n      <td>9.40</td>\n      <td>23.00</td>\n    </tr>\n    <tr>\n      <th>horsepower</th>\n      <td>203.0</td>\n      <td>104.256158</td>\n      <td>39.714369</td>\n      <td>48.00</td>\n      <td>70.00</td>\n      <td>95.00</td>\n      <td>116.00</td>\n      <td>288.00</td>\n    </tr>\n    <tr>\n      <th>peak.rpm</th>\n      <td>203.0</td>\n      <td>5125.369458</td>\n      <td>479.334560</td>\n      <td>4150.00</td>\n      <td>4800.00</td>\n      <td>5200.00</td>\n      <td>5500.00</td>\n      <td>6600.00</td>\n    </tr>\n    <tr>\n      <th>city.mpg</th>\n      <td>205.0</td>\n      <td>25.219512</td>\n      <td>6.542142</td>\n      <td>13.00</td>\n      <td>19.00</td>\n      <td>24.00</td>\n      <td>30.00</td>\n      <td>49.00</td>\n    </tr>\n    <tr>\n      <th>highway.mpg</th>\n      <td>205.0</td>\n      <td>30.751220</td>\n      <td>6.886443</td>\n      <td>16.00</td>\n      <td>25.00</td>\n      <td>30.00</td>\n      <td>34.00</td>\n      <td>54.00</td>\n    </tr>\n    <tr>\n      <th>price</th>\n      <td>201.0</td>\n      <td>13207.129353</td>\n      <td>7947.066342</td>\n      <td>5118.00</td>\n      <td>7775.00</td>\n      <td>10295.00</td>\n      <td>16500.00</td>\n      <td>45400.00</td>\n    </tr>\n  </tbody>\n</table>\n</div>"
     },
     "metadata": {},
     "execution_count": 216
    }
   ],
   "source": [
    "df.describe().T"
   ]
  },
  {
   "cell_type": "code",
   "execution_count": 217,
   "metadata": {},
   "outputs": [
    {
     "output_type": "execute_result",
     "data": {
      "text/plain": [
       "                   symboling  normalized.losses  wheel.base    length  \\\n",
       "symboling           1.000000           0.528667   -0.531954 -0.357612   \n",
       "normalized.losses   0.528667           1.000000   -0.074362  0.023220   \n",
       "wheel.base         -0.531954          -0.074362    1.000000  0.874587   \n",
       "length             -0.357612           0.023220    0.874587  1.000000   \n",
       "width              -0.232919           0.105073    0.795144  0.841118   \n",
       "height             -0.541038          -0.432335    0.589435  0.491029   \n",
       "curb.weight        -0.227691           0.119893    0.776386  0.877728   \n",
       "engine.size        -0.105790           0.167365    0.569329  0.683360   \n",
       "bore               -0.134205          -0.036167    0.490378  0.607480   \n",
       "stroke             -0.008965           0.065627    0.161477  0.129739   \n",
       "compression.ratio  -0.178515          -0.132654    0.249786  0.158414   \n",
       "horsepower          0.071622           0.295772    0.352297  0.555003   \n",
       "peak.rpm            0.274573           0.264597   -0.361052 -0.287325   \n",
       "city.mpg           -0.035823          -0.258502   -0.470414 -0.670909   \n",
       "highway.mpg         0.034606          -0.210768   -0.544082 -0.704662   \n",
       "price              -0.082391           0.203254    0.584642  0.690628   \n",
       "\n",
       "                      width    height  curb.weight  engine.size      bore  \\\n",
       "symboling         -0.232919 -0.541038    -0.227691    -0.105790 -0.134205   \n",
       "normalized.losses  0.105073 -0.432335     0.119893     0.167365 -0.036167   \n",
       "wheel.base         0.795144  0.589435     0.776386     0.569329  0.490378   \n",
       "length             0.841118  0.491029     0.877728     0.683360  0.607480   \n",
       "width              1.000000  0.279210     0.867032     0.735433  0.559204   \n",
       "height             0.279210  1.000000     0.295572     0.067149  0.176195   \n",
       "curb.weight        0.867032  0.295572     1.000000     0.850594  0.649045   \n",
       "engine.size        0.735433  0.067149     0.850594     1.000000  0.594090   \n",
       "bore               0.559204  0.176195     0.649045     0.594090  1.000000   \n",
       "stroke             0.182956 -0.056999     0.168929     0.206675 -0.055909   \n",
       "compression.ratio  0.181129  0.261214     0.151362     0.028971  0.005203   \n",
       "horsepower         0.642482 -0.110711     0.751034     0.810773  0.577273   \n",
       "peak.rpm          -0.219957 -0.322272    -0.266306    -0.244618 -0.264269   \n",
       "city.mpg          -0.642704 -0.048640    -0.757414    -0.653658 -0.594584   \n",
       "highway.mpg       -0.677218 -0.107358    -0.797465    -0.677470 -0.594572   \n",
       "price              0.751265  0.135486     0.834415     0.872335  0.543436   \n",
       "\n",
       "                     stroke  compression.ratio  horsepower  peak.rpm  \\\n",
       "symboling         -0.008965          -0.178515    0.071622  0.274573   \n",
       "normalized.losses  0.065627          -0.132654    0.295772  0.264597   \n",
       "wheel.base         0.161477           0.249786    0.352297 -0.361052   \n",
       "length             0.129739           0.158414    0.555003 -0.287325   \n",
       "width              0.182956           0.181129    0.642482 -0.219957   \n",
       "height            -0.056999           0.261214   -0.110711 -0.322272   \n",
       "curb.weight        0.168929           0.151362    0.751034 -0.266306   \n",
       "engine.size        0.206675           0.028971    0.810773 -0.244618   \n",
       "bore              -0.055909           0.005203    0.577273 -0.264269   \n",
       "stroke             1.000000           0.186170    0.090254 -0.071493   \n",
       "compression.ratio  0.186170           1.000000   -0.205874 -0.436221   \n",
       "horsepower         0.090254          -0.205874    1.000000  0.130971   \n",
       "peak.rpm          -0.071493          -0.436221    0.130971  1.000000   \n",
       "city.mpg          -0.042906           0.324701   -0.803620 -0.113788   \n",
       "highway.mpg       -0.044528           0.265201   -0.770908 -0.054257   \n",
       "price              0.082310           0.071107    0.810533 -0.101649   \n",
       "\n",
       "                   city.mpg  highway.mpg     price  \n",
       "symboling         -0.035823     0.034606 -0.082391  \n",
       "normalized.losses -0.258502    -0.210768  0.203254  \n",
       "wheel.base        -0.470414    -0.544082  0.584642  \n",
       "length            -0.670909    -0.704662  0.690628  \n",
       "width             -0.642704    -0.677218  0.751265  \n",
       "height            -0.048640    -0.107358  0.135486  \n",
       "curb.weight       -0.757414    -0.797465  0.834415  \n",
       "engine.size       -0.653658    -0.677470  0.872335  \n",
       "bore              -0.594584    -0.594572  0.543436  \n",
       "stroke            -0.042906    -0.044528  0.082310  \n",
       "compression.ratio  0.324701     0.265201  0.071107  \n",
       "horsepower        -0.803620    -0.770908  0.810533  \n",
       "peak.rpm          -0.113788    -0.054257 -0.101649  \n",
       "city.mpg           1.000000     0.971337 -0.686571  \n",
       "highway.mpg        0.971337     1.000000 -0.704692  \n",
       "price             -0.686571    -0.704692  1.000000  "
      ],
      "text/html": "<div>\n<style scoped>\n    .dataframe tbody tr th:only-of-type {\n        vertical-align: middle;\n    }\n\n    .dataframe tbody tr th {\n        vertical-align: top;\n    }\n\n    .dataframe thead th {\n        text-align: right;\n    }\n</style>\n<table border=\"1\" class=\"dataframe\">\n  <thead>\n    <tr style=\"text-align: right;\">\n      <th></th>\n      <th>symboling</th>\n      <th>normalized.losses</th>\n      <th>wheel.base</th>\n      <th>length</th>\n      <th>width</th>\n      <th>height</th>\n      <th>curb.weight</th>\n      <th>engine.size</th>\n      <th>bore</th>\n      <th>stroke</th>\n      <th>compression.ratio</th>\n      <th>horsepower</th>\n      <th>peak.rpm</th>\n      <th>city.mpg</th>\n      <th>highway.mpg</th>\n      <th>price</th>\n    </tr>\n  </thead>\n  <tbody>\n    <tr>\n      <th>symboling</th>\n      <td>1.000000</td>\n      <td>0.528667</td>\n      <td>-0.531954</td>\n      <td>-0.357612</td>\n      <td>-0.232919</td>\n      <td>-0.541038</td>\n      <td>-0.227691</td>\n      <td>-0.105790</td>\n      <td>-0.134205</td>\n      <td>-0.008965</td>\n      <td>-0.178515</td>\n      <td>0.071622</td>\n      <td>0.274573</td>\n      <td>-0.035823</td>\n      <td>0.034606</td>\n      <td>-0.082391</td>\n    </tr>\n    <tr>\n      <th>normalized.losses</th>\n      <td>0.528667</td>\n      <td>1.000000</td>\n      <td>-0.074362</td>\n      <td>0.023220</td>\n      <td>0.105073</td>\n      <td>-0.432335</td>\n      <td>0.119893</td>\n      <td>0.167365</td>\n      <td>-0.036167</td>\n      <td>0.065627</td>\n      <td>-0.132654</td>\n      <td>0.295772</td>\n      <td>0.264597</td>\n      <td>-0.258502</td>\n      <td>-0.210768</td>\n      <td>0.203254</td>\n    </tr>\n    <tr>\n      <th>wheel.base</th>\n      <td>-0.531954</td>\n      <td>-0.074362</td>\n      <td>1.000000</td>\n      <td>0.874587</td>\n      <td>0.795144</td>\n      <td>0.589435</td>\n      <td>0.776386</td>\n      <td>0.569329</td>\n      <td>0.490378</td>\n      <td>0.161477</td>\n      <td>0.249786</td>\n      <td>0.352297</td>\n      <td>-0.361052</td>\n      <td>-0.470414</td>\n      <td>-0.544082</td>\n      <td>0.584642</td>\n    </tr>\n    <tr>\n      <th>length</th>\n      <td>-0.357612</td>\n      <td>0.023220</td>\n      <td>0.874587</td>\n      <td>1.000000</td>\n      <td>0.841118</td>\n      <td>0.491029</td>\n      <td>0.877728</td>\n      <td>0.683360</td>\n      <td>0.607480</td>\n      <td>0.129739</td>\n      <td>0.158414</td>\n      <td>0.555003</td>\n      <td>-0.287325</td>\n      <td>-0.670909</td>\n      <td>-0.704662</td>\n      <td>0.690628</td>\n    </tr>\n    <tr>\n      <th>width</th>\n      <td>-0.232919</td>\n      <td>0.105073</td>\n      <td>0.795144</td>\n      <td>0.841118</td>\n      <td>1.000000</td>\n      <td>0.279210</td>\n      <td>0.867032</td>\n      <td>0.735433</td>\n      <td>0.559204</td>\n      <td>0.182956</td>\n      <td>0.181129</td>\n      <td>0.642482</td>\n      <td>-0.219957</td>\n      <td>-0.642704</td>\n      <td>-0.677218</td>\n      <td>0.751265</td>\n    </tr>\n    <tr>\n      <th>height</th>\n      <td>-0.541038</td>\n      <td>-0.432335</td>\n      <td>0.589435</td>\n      <td>0.491029</td>\n      <td>0.279210</td>\n      <td>1.000000</td>\n      <td>0.295572</td>\n      <td>0.067149</td>\n      <td>0.176195</td>\n      <td>-0.056999</td>\n      <td>0.261214</td>\n      <td>-0.110711</td>\n      <td>-0.322272</td>\n      <td>-0.048640</td>\n      <td>-0.107358</td>\n      <td>0.135486</td>\n    </tr>\n    <tr>\n      <th>curb.weight</th>\n      <td>-0.227691</td>\n      <td>0.119893</td>\n      <td>0.776386</td>\n      <td>0.877728</td>\n      <td>0.867032</td>\n      <td>0.295572</td>\n      <td>1.000000</td>\n      <td>0.850594</td>\n      <td>0.649045</td>\n      <td>0.168929</td>\n      <td>0.151362</td>\n      <td>0.751034</td>\n      <td>-0.266306</td>\n      <td>-0.757414</td>\n      <td>-0.797465</td>\n      <td>0.834415</td>\n    </tr>\n    <tr>\n      <th>engine.size</th>\n      <td>-0.105790</td>\n      <td>0.167365</td>\n      <td>0.569329</td>\n      <td>0.683360</td>\n      <td>0.735433</td>\n      <td>0.067149</td>\n      <td>0.850594</td>\n      <td>1.000000</td>\n      <td>0.594090</td>\n      <td>0.206675</td>\n      <td>0.028971</td>\n      <td>0.810773</td>\n      <td>-0.244618</td>\n      <td>-0.653658</td>\n      <td>-0.677470</td>\n      <td>0.872335</td>\n    </tr>\n    <tr>\n      <th>bore</th>\n      <td>-0.134205</td>\n      <td>-0.036167</td>\n      <td>0.490378</td>\n      <td>0.607480</td>\n      <td>0.559204</td>\n      <td>0.176195</td>\n      <td>0.649045</td>\n      <td>0.594090</td>\n      <td>1.000000</td>\n      <td>-0.055909</td>\n      <td>0.005203</td>\n      <td>0.577273</td>\n      <td>-0.264269</td>\n      <td>-0.594584</td>\n      <td>-0.594572</td>\n      <td>0.543436</td>\n    </tr>\n    <tr>\n      <th>stroke</th>\n      <td>-0.008965</td>\n      <td>0.065627</td>\n      <td>0.161477</td>\n      <td>0.129739</td>\n      <td>0.182956</td>\n      <td>-0.056999</td>\n      <td>0.168929</td>\n      <td>0.206675</td>\n      <td>-0.055909</td>\n      <td>1.000000</td>\n      <td>0.186170</td>\n      <td>0.090254</td>\n      <td>-0.071493</td>\n      <td>-0.042906</td>\n      <td>-0.044528</td>\n      <td>0.082310</td>\n    </tr>\n    <tr>\n      <th>compression.ratio</th>\n      <td>-0.178515</td>\n      <td>-0.132654</td>\n      <td>0.249786</td>\n      <td>0.158414</td>\n      <td>0.181129</td>\n      <td>0.261214</td>\n      <td>0.151362</td>\n      <td>0.028971</td>\n      <td>0.005203</td>\n      <td>0.186170</td>\n      <td>1.000000</td>\n      <td>-0.205874</td>\n      <td>-0.436221</td>\n      <td>0.324701</td>\n      <td>0.265201</td>\n      <td>0.071107</td>\n    </tr>\n    <tr>\n      <th>horsepower</th>\n      <td>0.071622</td>\n      <td>0.295772</td>\n      <td>0.352297</td>\n      <td>0.555003</td>\n      <td>0.642482</td>\n      <td>-0.110711</td>\n      <td>0.751034</td>\n      <td>0.810773</td>\n      <td>0.577273</td>\n      <td>0.090254</td>\n      <td>-0.205874</td>\n      <td>1.000000</td>\n      <td>0.130971</td>\n      <td>-0.803620</td>\n      <td>-0.770908</td>\n      <td>0.810533</td>\n    </tr>\n    <tr>\n      <th>peak.rpm</th>\n      <td>0.274573</td>\n      <td>0.264597</td>\n      <td>-0.361052</td>\n      <td>-0.287325</td>\n      <td>-0.219957</td>\n      <td>-0.322272</td>\n      <td>-0.266306</td>\n      <td>-0.244618</td>\n      <td>-0.264269</td>\n      <td>-0.071493</td>\n      <td>-0.436221</td>\n      <td>0.130971</td>\n      <td>1.000000</td>\n      <td>-0.113788</td>\n      <td>-0.054257</td>\n      <td>-0.101649</td>\n    </tr>\n    <tr>\n      <th>city.mpg</th>\n      <td>-0.035823</td>\n      <td>-0.258502</td>\n      <td>-0.470414</td>\n      <td>-0.670909</td>\n      <td>-0.642704</td>\n      <td>-0.048640</td>\n      <td>-0.757414</td>\n      <td>-0.653658</td>\n      <td>-0.594584</td>\n      <td>-0.042906</td>\n      <td>0.324701</td>\n      <td>-0.803620</td>\n      <td>-0.113788</td>\n      <td>1.000000</td>\n      <td>0.971337</td>\n      <td>-0.686571</td>\n    </tr>\n    <tr>\n      <th>highway.mpg</th>\n      <td>0.034606</td>\n      <td>-0.210768</td>\n      <td>-0.544082</td>\n      <td>-0.704662</td>\n      <td>-0.677218</td>\n      <td>-0.107358</td>\n      <td>-0.797465</td>\n      <td>-0.677470</td>\n      <td>-0.594572</td>\n      <td>-0.044528</td>\n      <td>0.265201</td>\n      <td>-0.770908</td>\n      <td>-0.054257</td>\n      <td>0.971337</td>\n      <td>1.000000</td>\n      <td>-0.704692</td>\n    </tr>\n    <tr>\n      <th>price</th>\n      <td>-0.082391</td>\n      <td>0.203254</td>\n      <td>0.584642</td>\n      <td>0.690628</td>\n      <td>0.751265</td>\n      <td>0.135486</td>\n      <td>0.834415</td>\n      <td>0.872335</td>\n      <td>0.543436</td>\n      <td>0.082310</td>\n      <td>0.071107</td>\n      <td>0.810533</td>\n      <td>-0.101649</td>\n      <td>-0.686571</td>\n      <td>-0.704692</td>\n      <td>1.000000</td>\n    </tr>\n  </tbody>\n</table>\n</div>"
     },
     "metadata": {},
     "execution_count": 217
    }
   ],
   "source": [
    "df.corr()"
   ]
  },
  {
   "cell_type": "code",
   "execution_count": 219,
   "metadata": {},
   "outputs": [
    {
     "output_type": "execute_result",
     "data": {
      "text/plain": [
       "symboling            0.000000\n",
       "normalized.losses    0.200000\n",
       "make                 0.000000\n",
       "fuel.type            0.000000\n",
       "aspiration           0.000000\n",
       "num.of.doors         0.009756\n",
       "body.style           0.000000\n",
       "drive.wheels         0.000000\n",
       "engine.location      0.000000\n",
       "wheel.base           0.000000\n",
       "length               0.000000\n",
       "width                0.000000\n",
       "height               0.000000\n",
       "curb.weight          0.000000\n",
       "engine.type          0.000000\n",
       "num.of.cylinders     0.000000\n",
       "engine.size          0.000000\n",
       "fuel.system          0.000000\n",
       "bore                 0.019512\n",
       "stroke               0.019512\n",
       "compression.ratio    0.000000\n",
       "horsepower           0.009756\n",
       "peak.rpm             0.009756\n",
       "city.mpg             0.000000\n",
       "highway.mpg          0.000000\n",
       "price                0.019512\n",
       "dtype: float64"
      ]
     },
     "metadata": {},
     "execution_count": 219
    }
   ],
   "source": [
    "df.isnull().mean()"
   ]
  },
  {
   "cell_type": "code",
   "execution_count": 222,
   "metadata": {},
   "outputs": [
    {
     "output_type": "execute_result",
     "data": {
      "text/plain": [
       "                                price  horsepower\n",
       "make          fuel.type                          \n",
       "alfa-romero   gas        15498.333333  125.333333\n",
       "audi          gas        17859.166667  121.000000\n",
       "bmw           gas        26118.750000  138.875000\n",
       "chevrolet     gas         6007.000000   62.666667\n",
       "dodge         gas         7875.444444   86.333333\n",
       "honda         gas         8184.692308   80.230769\n",
       "isuzu         gas         8916.500000   77.000000\n",
       "jaguar        gas        34600.000000  204.666667\n",
       "mazda         diesel     14569.500000   68.000000\n",
       "              gas        10130.666667   87.866667\n",
       "mercedes-benz diesel     28394.000000  123.000000\n",
       "              gas        38900.000000  169.500000\n",
       "mercury       gas        16503.000000  175.000000\n",
       "mitsubishi    gas         9239.769231  104.076923\n",
       "nissan        diesel      7099.000000   55.000000\n",
       "              gas        10610.764706  105.352941\n",
       "peugot        diesel     15797.000000   95.000000\n",
       "              gas        15232.500000  103.833333\n",
       "plymouth      gas         7963.428571   86.714286\n",
       "porsche       gas        31400.500000  210.400000\n",
       "renault       gas         9595.000000         NaN\n",
       "saab          gas        15223.333333  126.666667\n",
       "subaru        gas         8541.250000   86.250000\n",
       "toyota        diesel      8794.666667   61.666667\n",
       "              gas         9998.689655   96.000000\n",
       "volkswagen    diesel      9777.500000   60.000000\n",
       "              gas        10227.500000   91.625000\n",
       "volvo         diesel     22470.000000  106.000000\n",
       "              gas        17622.500000  130.200000"
      ],
      "text/html": "<div>\n<style scoped>\n    .dataframe tbody tr th:only-of-type {\n        vertical-align: middle;\n    }\n\n    .dataframe tbody tr th {\n        vertical-align: top;\n    }\n\n    .dataframe thead th {\n        text-align: right;\n    }\n</style>\n<table border=\"1\" class=\"dataframe\">\n  <thead>\n    <tr style=\"text-align: right;\">\n      <th></th>\n      <th></th>\n      <th>price</th>\n      <th>horsepower</th>\n    </tr>\n    <tr>\n      <th>make</th>\n      <th>fuel.type</th>\n      <th></th>\n      <th></th>\n    </tr>\n  </thead>\n  <tbody>\n    <tr>\n      <th>alfa-romero</th>\n      <th>gas</th>\n      <td>15498.333333</td>\n      <td>125.333333</td>\n    </tr>\n    <tr>\n      <th>audi</th>\n      <th>gas</th>\n      <td>17859.166667</td>\n      <td>121.000000</td>\n    </tr>\n    <tr>\n      <th>bmw</th>\n      <th>gas</th>\n      <td>26118.750000</td>\n      <td>138.875000</td>\n    </tr>\n    <tr>\n      <th>chevrolet</th>\n      <th>gas</th>\n      <td>6007.000000</td>\n      <td>62.666667</td>\n    </tr>\n    <tr>\n      <th>dodge</th>\n      <th>gas</th>\n      <td>7875.444444</td>\n      <td>86.333333</td>\n    </tr>\n    <tr>\n      <th>honda</th>\n      <th>gas</th>\n      <td>8184.692308</td>\n      <td>80.230769</td>\n    </tr>\n    <tr>\n      <th>isuzu</th>\n      <th>gas</th>\n      <td>8916.500000</td>\n      <td>77.000000</td>\n    </tr>\n    <tr>\n      <th>jaguar</th>\n      <th>gas</th>\n      <td>34600.000000</td>\n      <td>204.666667</td>\n    </tr>\n    <tr>\n      <th rowspan=\"2\" valign=\"top\">mazda</th>\n      <th>diesel</th>\n      <td>14569.500000</td>\n      <td>68.000000</td>\n    </tr>\n    <tr>\n      <th>gas</th>\n      <td>10130.666667</td>\n      <td>87.866667</td>\n    </tr>\n    <tr>\n      <th rowspan=\"2\" valign=\"top\">mercedes-benz</th>\n      <th>diesel</th>\n      <td>28394.000000</td>\n      <td>123.000000</td>\n    </tr>\n    <tr>\n      <th>gas</th>\n      <td>38900.000000</td>\n      <td>169.500000</td>\n    </tr>\n    <tr>\n      <th>mercury</th>\n      <th>gas</th>\n      <td>16503.000000</td>\n      <td>175.000000</td>\n    </tr>\n    <tr>\n      <th>mitsubishi</th>\n      <th>gas</th>\n      <td>9239.769231</td>\n      <td>104.076923</td>\n    </tr>\n    <tr>\n      <th rowspan=\"2\" valign=\"top\">nissan</th>\n      <th>diesel</th>\n      <td>7099.000000</td>\n      <td>55.000000</td>\n    </tr>\n    <tr>\n      <th>gas</th>\n      <td>10610.764706</td>\n      <td>105.352941</td>\n    </tr>\n    <tr>\n      <th rowspan=\"2\" valign=\"top\">peugot</th>\n      <th>diesel</th>\n      <td>15797.000000</td>\n      <td>95.000000</td>\n    </tr>\n    <tr>\n      <th>gas</th>\n      <td>15232.500000</td>\n      <td>103.833333</td>\n    </tr>\n    <tr>\n      <th>plymouth</th>\n      <th>gas</th>\n      <td>7963.428571</td>\n      <td>86.714286</td>\n    </tr>\n    <tr>\n      <th>porsche</th>\n      <th>gas</th>\n      <td>31400.500000</td>\n      <td>210.400000</td>\n    </tr>\n    <tr>\n      <th>renault</th>\n      <th>gas</th>\n      <td>9595.000000</td>\n      <td>NaN</td>\n    </tr>\n    <tr>\n      <th>saab</th>\n      <th>gas</th>\n      <td>15223.333333</td>\n      <td>126.666667</td>\n    </tr>\n    <tr>\n      <th>subaru</th>\n      <th>gas</th>\n      <td>8541.250000</td>\n      <td>86.250000</td>\n    </tr>\n    <tr>\n      <th rowspan=\"2\" valign=\"top\">toyota</th>\n      <th>diesel</th>\n      <td>8794.666667</td>\n      <td>61.666667</td>\n    </tr>\n    <tr>\n      <th>gas</th>\n      <td>9998.689655</td>\n      <td>96.000000</td>\n    </tr>\n    <tr>\n      <th rowspan=\"2\" valign=\"top\">volkswagen</th>\n      <th>diesel</th>\n      <td>9777.500000</td>\n      <td>60.000000</td>\n    </tr>\n    <tr>\n      <th>gas</th>\n      <td>10227.500000</td>\n      <td>91.625000</td>\n    </tr>\n    <tr>\n      <th rowspan=\"2\" valign=\"top\">volvo</th>\n      <th>diesel</th>\n      <td>22470.000000</td>\n      <td>106.000000</td>\n    </tr>\n    <tr>\n      <th>gas</th>\n      <td>17622.500000</td>\n      <td>130.200000</td>\n    </tr>\n  </tbody>\n</table>\n</div>"
     },
     "metadata": {},
     "execution_count": 222
    }
   ],
   "source": [
    "df.groupby([\"make\",\"fuel.type\"]).agg({\"price\":'mean',\"horsepower\":\"mean\"})"
   ]
  },
  {
   "cell_type": "code",
   "execution_count": 224,
   "metadata": {},
   "outputs": [
    {
     "output_type": "execute_result",
     "data": {
      "text/plain": [
       "<AxesSubplot:ylabel='make'>"
      ]
     },
     "metadata": {},
     "execution_count": 224
    },
    {
     "output_type": "display_data",
     "data": {
      "text/plain": "<Figure size 432x288 with 1 Axes>",
      "image/png": "[encoded data removed]"
     },
     "metadata": {
      "image/png": {
       "width": 450,
       "height": 248
      },
      "needs_background": "light"
     }
    }
   ],
   "source": [
    "%config InlineBackend.figure_format = 'retina'\n",
    "df.groupby(\"make\").mean()[\"price\"].plot.barh()"
   ]
  },
  {
   "cell_type": "code",
   "execution_count": 225,
   "metadata": {},
   "outputs": [
    {
     "output_type": "display_data",
     "data": {
      "text/plain": "<Figure size 1080x1080 with 1 Axes>",
      "image/png": "[encoded data removed]"
     },
     "metadata": {
      "image/png": {
       "width": 1086,
       "height": 1085
      },
      "needs_background": "light"
     }
    }
   ],
   "source": [
    "sns.catplot(x = 'make' , y = \"horsepower\", data = df,height=15); "
   ]
  },
  {
   "cell_type": "code",
   "execution_count": 226,
   "metadata": {},
   "outputs": [
    {
     "output_type": "execute_result",
     "data": {
      "text/plain": [
       "   symboling  normalized.losses         make fuel.type aspiration  \\\n",
       "0          3                NaN  alfa-romero       gas        std   \n",
       "1          3                NaN  alfa-romero       gas        std   \n",
       "2          1                NaN  alfa-romero       gas        std   \n",
       "3          2              164.0         audi       gas        std   \n",
       "4          2              164.0         audi       gas        std   \n",
       "\n",
       "  num.of.doors   body.style drive.wheels engine.location  wheel.base  ...  \\\n",
       "0          two  convertible          rwd           front        88.6  ...   \n",
       "1          two  convertible          rwd           front        88.6  ...   \n",
       "2          two    hatchback          rwd           front        94.5  ...   \n",
       "3         four        sedan          fwd           front        99.8  ...   \n",
       "4         four        sedan          4wd           front        99.4  ...   \n",
       "\n",
       "   engine.size  fuel.system  bore  stroke compression.ratio horsepower  \\\n",
       "0          130         mpfi  3.47    2.68               9.0      111.0   \n",
       "1          130         mpfi  3.47    2.68               9.0      111.0   \n",
       "2          152         mpfi  2.68    3.47               9.0      154.0   \n",
       "3          109         mpfi  3.19    3.40              10.0      102.0   \n",
       "4          136         mpfi  3.19    3.40               8.0      115.0   \n",
       "\n",
       "   peak.rpm city.mpg  highway.mpg    price  \n",
       "0    5000.0       21           27  13495.0  \n",
       "1    5000.0       21           27  16500.0  \n",
       "2    5000.0       19           26  16500.0  \n",
       "3    5500.0       24           30  13950.0  \n",
       "4    5500.0       18           22  17450.0  \n",
       "\n",
       "[5 rows x 26 columns]"
      ],
      "text/html": "<div>\n<style scoped>\n    .dataframe tbody tr th:only-of-type {\n        vertical-align: middle;\n    }\n\n    .dataframe tbody tr th {\n        vertical-align: top;\n    }\n\n    .dataframe thead th {\n        text-align: right;\n    }\n</style>\n<table border=\"1\" class=\"dataframe\">\n  <thead>\n    <tr style=\"text-align: right;\">\n      <th></th>\n      <th>symboling</th>\n      <th>normalized.losses</th>\n      <th>make</th>\n      <th>fuel.type</th>\n      <th>aspiration</th>\n      <th>num.of.doors</th>\n      <th>body.style</th>\n      <th>drive.wheels</th>\n      <th>engine.location</th>\n      <th>wheel.base</th>\n      <th>...</th>\n      <th>engine.size</th>\n      <th>fuel.system</th>\n      <th>bore</th>\n      <th>stroke</th>\n      <th>compression.ratio</th>\n      <th>horsepower</th>\n      <th>peak.rpm</th>\n      <th>city.mpg</th>\n      <th>highway.mpg</th>\n      <th>price</th>\n    </tr>\n  </thead>\n  <tbody>\n    <tr>\n      <th>0</th>\n      <td>3</td>\n      <td>NaN</td>\n      <td>alfa-romero</td>\n      <td>gas</td>\n      <td>std</td>\n      <td>two</td>\n      <td>convertible</td>\n      <td>rwd</td>\n      <td>front</td>\n      <td>88.6</td>\n      <td>...</td>\n      <td>130</td>\n      <td>mpfi</td>\n      <td>3.47</td>\n      <td>2.68</td>\n      <td>9.0</td>\n      <td>111.0</td>\n      <td>5000.0</td>\n      <td>21</td>\n      <td>27</td>\n      <td>13495.0</td>\n    </tr>\n    <tr>\n      <th>1</th>\n      <td>3</td>\n      <td>NaN</td>\n      <td>alfa-romero</td>\n      <td>gas</td>\n      <td>std</td>\n      <td>two</td>\n      <td>convertible</td>\n      <td>rwd</td>\n      <td>front</td>\n      <td>88.6</td>\n      <td>...</td>\n      <td>130</td>\n      <td>mpfi</td>\n      <td>3.47</td>\n      <td>2.68</td>\n      <td>9.0</td>\n      <td>111.0</td>\n      <td>5000.0</td>\n      <td>21</td>\n      <td>27</td>\n      <td>16500.0</td>\n    </tr>\n    <tr>\n      <th>2</th>\n      <td>1</td>\n      <td>NaN</td>\n      <td>alfa-romero</td>\n      <td>gas</td>\n      <td>std</td>\n      <td>two</td>\n      <td>hatchback</td>\n      <td>rwd</td>\n      <td>front</td>\n      <td>94.5</td>\n      <td>...</td>\n      <td>152</td>\n      <td>mpfi</td>\n      <td>2.68</td>\n      <td>3.47</td>\n      <td>9.0</td>\n      <td>154.0</td>\n      <td>5000.0</td>\n      <td>19</td>\n      <td>26</td>\n      <td>16500.0</td>\n    </tr>\n    <tr>\n      <th>3</th>\n      <td>2</td>\n      <td>164.0</td>\n      <td>audi</td>\n      <td>gas</td>\n      <td>std</td>\n      <td>four</td>\n      <td>sedan</td>\n      <td>fwd</td>\n      <td>front</td>\n      <td>99.8</td>\n      <td>...</td>\n      <td>109</td>\n      <td>mpfi</td>\n      <td>3.19</td>\n      <td>3.40</td>\n      <td>10.0</td>\n      <td>102.0</td>\n      <td>5500.0</td>\n      <td>24</td>\n      <td>30</td>\n      <td>13950.0</td>\n    </tr>\n    <tr>\n      <th>4</th>\n      <td>2</td>\n      <td>164.0</td>\n      <td>audi</td>\n      <td>gas</td>\n      <td>std</td>\n      <td>four</td>\n      <td>sedan</td>\n      <td>4wd</td>\n      <td>front</td>\n      <td>99.4</td>\n      <td>...</td>\n      <td>136</td>\n      <td>mpfi</td>\n      <td>3.19</td>\n      <td>3.40</td>\n      <td>8.0</td>\n      <td>115.0</td>\n      <td>5500.0</td>\n      <td>18</td>\n      <td>22</td>\n      <td>17450.0</td>\n    </tr>\n  </tbody>\n</table>\n<p>5 rows × 26 columns</p>\n</div>"
     },
     "metadata": {},
     "execution_count": 226
    }
   ],
   "source": [
    "df.head()"
   ]
  },
  {
   "cell_type": "code",
   "execution_count": 229,
   "metadata": {},
   "outputs": [
    {
     "output_type": "display_data",
     "data": {
      "text/plain": "<Figure size 432x288 with 1 Axes>",
      "image/png": "[encoded data removed]"
     },
     "metadata": {
      "image/png": {
       "width": 382,
       "height": 248
      },
      "needs_background": "light"
     }
    }
   ],
   "source": [
    "df.groupby(\"city.mpg\").agg({\"engine.size\":\"mean\"}).plot.barh();"
   ]
  },
  {
   "cell_type": "code",
   "execution_count": 232,
   "metadata": {},
   "outputs": [],
   "source": [
    "def power(horsepower):\n",
    "    if horsepower >=150:\n",
    "        return \"powerful\"\n",
    "    else:\n",
    "        return \"low power\""
   ]
  },
  {
   "cell_type": "code",
   "execution_count": 231,
   "metadata": {},
   "outputs": [
    {
     "output_type": "execute_result",
     "data": {
      "text/plain": [
       "0      low power\n",
       "1      low power\n",
       "2       powerful\n",
       "3      low power\n",
       "4      low power\n",
       "         ...    \n",
       "200    low power\n",
       "201     powerful\n",
       "202    low power\n",
       "203    low power\n",
       "204    low power\n",
       "Name: horsepower, Length: 205, dtype: object"
      ]
     },
     "metadata": {},
     "execution_count": 231
    }
   ],
   "source": [
    "df[\"horsepower\"].apply(power)"
   ]
  },
  {
   "cell_type": "code",
   "execution_count": 236,
   "metadata": {},
   "outputs": [
    {
     "output_type": "display_data",
     "data": {
      "application/vnd.plotly.v1+json": {
       "config": {
        "plotlyServerURL": "https://plot.ly"
       },
       "data": [
        {
         "dimensions": [
          {
           "axis": {
            "matches": true
           },
           "label": "horsepower",
           "values": [
            111,
            111,
            154,
            102,
            115,
            110,
            110,
            110,
            140,
            160,
            101,
            101,
            121,
            121,
            121,
            182,
            182,
            182,
            48,
            70,
            70,
            68,
            68,
            102,
            68,
            68,
            68,
            102,
            88,
            145,
            58,
            76,
            60,
            76,
            76,
            76,
            76,
            86,
            86,
            86,
            86,
            101,
            100,
            78,
            70,
            70,
            90,
            176,
            176,
            262,
            68,
            68,
            68,
            68,
            68,
            101,
            101,
            101,
            135,
            84,
            84,
            84,
            84,
            64,
            84,
            120,
            72,
            123,
            123,
            123,
            123,
            155,
            155,
            184,
            184,
            175,
            68,
            68,
            68,
            102,
            116,
            88,
            145,
            145,
            145,
            88,
            88,
            116,
            116,
            69,
            55,
            69,
            69,
            69,
            69,
            69,
            69,
            69,
            69,
            97,
            97,
            152,
            152,
            152,
            160,
            200,
            160,
            97,
            95,
            97,
            95,
            95,
            95,
            95,
            95,
            97,
            95,
            142,
            68,
            102,
            68,
            68,
            68,
            88,
            145,
            143,
            207,
            207,
            207,
            288,
            null,
            null,
            110,
            110,
            110,
            110,
            160,
            160,
            69,
            73,
            73,
            82,
            82,
            94,
            82,
            111,
            82,
            94,
            82,
            111,
            62,
            62,
            62,
            62,
            62,
            62,
            70,
            70,
            56,
            56,
            70,
            70,
            70,
            70,
            70,
            112,
            112,
            116,
            116,
            116,
            116,
            116,
            116,
            92,
            73,
            92,
            92,
            92,
            161,
            161,
            156,
            156,
            52,
            85,
            52,
            85,
            85,
            68,
            100,
            90,
            90,
            110,
            68,
            88,
            114,
            114,
            114,
            114,
            162,
            162,
            114,
            160,
            134,
            106,
            114
           ]
          },
          {
           "axis": {
            "matches": true
           },
           "label": "price",
           "values": [
            13495,
            16500,
            16500,
            13950,
            17450,
            15250,
            17710,
            18920,
            23875,
            null,
            16430,
            16925,
            20970,
            21105,
            24565,
            30760,
            41315,
            36880,
            5151,
            6295,
            6575,
            5572,
            6377,
            7957,
            6229,
            6692,
            7609,
            8558,
            8921,
            12964,
            6479,
            6855,
            5399,
            6529,
            7129,
            7295,
            7295,
            7895,
            9095,
            8845,
            10295,
            12945,
            10345,
            6785,
            null,
            null,
            11048,
            32250,
            35550,
            36000,
            5195,
            6095,
            6795,
            6695,
            7395,
            10945,
            11845,
            13645,
            15645,
            8845,
            8495,
            10595,
            10245,
            10795,
            11245,
            18280,
            18344,
            25552,
            28248,
            28176,
            31600,
            34184,
            35056,
            40960,
            45400,
            16503,
            5389,
            6189,
            6669,
            7689,
            9959,
            8499,
            12629,
            14869,
            14489,
            6989,
            8189,
            9279,
            9279,
            5499,
            7099,
            6649,
            6849,
            7349,
            7299,
            7799,
            7499,
            7999,
            8249,
            8949,
            9549,
            13499,
            14399,
            13499,
            17199,
            19699,
            18399,
            11900,
            13200,
            12440,
            13860,
            15580,
            16900,
            16695,
            17075,
            16630,
            17950,
            18150,
            5572,
            7957,
            6229,
            6692,
            7609,
            8921,
            12764,
            22018,
            32528,
            34028,
            37028,
            null,
            9295,
            9895,
            11850,
            12170,
            15040,
            15510,
            18150,
            18620,
            5118,
            7053,
            7603,
            7126,
            7775,
            9960,
            9233,
            11259,
            7463,
            10198,
            8013,
            11694,
            5348,
            6338,
            6488,
            6918,
            7898,
            8778,
            6938,
            7198,
            7898,
            7788,
            7738,
            8358,
            9258,
            8058,
            8238,
            9298,
            9538,
            8449,
            9639,
            9989,
            11199,
            11549,
            17669,
            8948,
            10698,
            9988,
            10898,
            11248,
            16558,
            15998,
            15690,
            15750,
            7775,
            7975,
            7995,
            8195,
            8495,
            9495,
            9995,
            11595,
            9980,
            13295,
            13845,
            12290,
            12940,
            13415,
            15985,
            16515,
            18420,
            18950,
            16845,
            19045,
            21485,
            22470,
            22625
           ]
          },
          {
           "axis": {
            "matches": true
           },
           "label": "city.mpg",
           "values": [
            21,
            21,
            19,
            24,
            18,
            19,
            19,
            19,
            17,
            16,
            23,
            23,
            21,
            21,
            20,
            16,
            16,
            15,
            47,
            38,
            38,
            37,
            31,
            24,
            31,
            31,
            31,
            24,
            24,
            19,
            49,
            31,
            38,
            30,
            30,
            30,
            30,
            27,
            27,
            27,
            27,
            24,
            25,
            24,
            38,
            38,
            24,
            15,
            15,
            13,
            30,
            31,
            31,
            31,
            31,
            17,
            17,
            17,
            16,
            26,
            26,
            26,
            26,
            36,
            26,
            19,
            31,
            22,
            22,
            22,
            22,
            16,
            16,
            14,
            14,
            19,
            37,
            31,
            31,
            24,
            23,
            25,
            19,
            19,
            19,
            25,
            25,
            23,
            23,
            31,
            45,
            31,
            31,
            31,
            31,
            31,
            31,
            31,
            31,
            27,
            27,
            17,
            17,
            19,
            19,
            17,
            19,
            19,
            28,
            19,
            25,
            19,
            28,
            19,
            25,
            19,
            28,
            18,
            37,
            24,
            31,
            31,
            31,
            24,
            19,
            19,
            17,
            17,
            17,
            17,
            23,
            23,
            21,
            21,
            21,
            21,
            19,
            19,
            31,
            26,
            26,
            32,
            28,
            26,
            24,
            24,
            28,
            25,
            23,
            23,
            35,
            31,
            31,
            31,
            27,
            27,
            30,
            30,
            34,
            38,
            38,
            28,
            28,
            29,
            29,
            26,
            26,
            24,
            24,
            24,
            24,
            24,
            24,
            29,
            30,
            27,
            27,
            27,
            20,
            19,
            20,
            19,
            37,
            27,
            37,
            27,
            27,
            37,
            26,
            24,
            24,
            19,
            33,
            25,
            23,
            23,
            24,
            24,
            17,
            17,
            23,
            19,
            18,
            26,
            19
           ]
          },
          {
           "axis": {
            "matches": true
           },
           "label": "wheel.base",
           "values": [
            88.6,
            88.6,
            94.5,
            99.8,
            99.4,
            99.8,
            105.8,
            105.8,
            105.8,
            99.5,
            101.2,
            101.2,
            101.2,
            101.2,
            103.5,
            103.5,
            103.5,
            110,
            88.4,
            94.5,
            94.5,
            93.7,
            93.7,
            93.7,
            93.7,
            93.7,
            93.7,
            93.7,
            103.3,
            95.9,
            86.6,
            86.6,
            93.7,
            93.7,
            93.7,
            96.5,
            96.5,
            96.5,
            96.5,
            96.5,
            96.5,
            96.5,
            96.5,
            94.3,
            94.5,
            94.5,
            96,
            113,
            113,
            102,
            93.1,
            93.1,
            93.1,
            93.1,
            93.1,
            95.3,
            95.3,
            95.3,
            95.3,
            98.8,
            98.8,
            98.8,
            98.8,
            98.8,
            98.8,
            104.9,
            104.9,
            110,
            110,
            106.7,
            115.6,
            115.6,
            96.6,
            120.9,
            112,
            102.7,
            93.7,
            93.7,
            93.7,
            93,
            96.3,
            96.3,
            95.9,
            95.9,
            95.9,
            96.3,
            96.3,
            96.3,
            96.3,
            94.5,
            94.5,
            94.5,
            94.5,
            94.5,
            94.5,
            94.5,
            94.5,
            94.5,
            95.1,
            97.2,
            97.2,
            100.4,
            100.4,
            100.4,
            91.3,
            91.3,
            99.2,
            107.9,
            107.9,
            114.2,
            114.2,
            107.9,
            107.9,
            114.2,
            114.2,
            107.9,
            107.9,
            108,
            93.7,
            93.7,
            93.7,
            93.7,
            93.7,
            103.3,
            95.9,
            94.5,
            89.5,
            89.5,
            89.5,
            98.4,
            96.1,
            96.1,
            99.1,
            99.1,
            99.1,
            99.1,
            99.1,
            99.1,
            93.7,
            93.7,
            93.3,
            97.2,
            97.2,
            97.2,
            97,
            97,
            97,
            97,
            96.9,
            96.9,
            95.7,
            95.7,
            95.7,
            95.7,
            95.7,
            95.7,
            95.7,
            95.7,
            95.7,
            95.7,
            95.7,
            95.7,
            95.7,
            94.5,
            94.5,
            94.5,
            94.5,
            98.4,
            98.4,
            98.4,
            98.4,
            98.4,
            98.4,
            102.4,
            102.4,
            102.4,
            102.4,
            102.4,
            102.9,
            102.9,
            104.5,
            104.5,
            97.3,
            97.3,
            97.3,
            97.3,
            97.3,
            97.3,
            97.3,
            94.5,
            94.5,
            100.4,
            100.4,
            100.4,
            104.3,
            104.3,
            104.3,
            104.3,
            104.3,
            104.3,
            109.1,
            109.1,
            109.1,
            109.1,
            109.1
           ]
          },
          {
           "axis": {
            "matches": true
           },
           "label": "bore",
           "values": [
            3.47,
            3.47,
            2.68,
            3.19,
            3.19,
            3.19,
            3.19,
            3.19,
            3.13,
            3.13,
            3.5,
            3.5,
            3.31,
            3.31,
            3.31,
            3.62,
            3.62,
            3.62,
            2.91,
            3.03,
            3.03,
            2.97,
            2.97,
            3.03,
            2.97,
            2.97,
            2.97,
            3.03,
            3.34,
            3.6,
            2.91,
            2.91,
            2.91,
            2.91,
            2.91,
            2.91,
            2.92,
            3.15,
            3.15,
            3.15,
            3.15,
            3.15,
            3.15,
            3.31,
            3.03,
            3.03,
            3.43,
            3.63,
            3.63,
            3.54,
            3.03,
            3.03,
            3.03,
            3.03,
            3.08,
            null,
            null,
            null,
            null,
            3.39,
            3.39,
            3.39,
            3.39,
            3.39,
            3.39,
            3.76,
            3.43,
            3.58,
            3.58,
            3.58,
            3.58,
            3.46,
            3.46,
            3.8,
            3.8,
            3.78,
            2.97,
            2.97,
            2.97,
            3.03,
            3.17,
            3.35,
            3.58,
            3.59,
            3.59,
            3.35,
            3.35,
            3.17,
            3.17,
            3.15,
            2.99,
            3.15,
            3.15,
            3.15,
            3.15,
            3.15,
            3.15,
            3.15,
            3.15,
            3.33,
            3.33,
            3.43,
            3.43,
            3.43,
            3.43,
            3.43,
            3.43,
            3.46,
            3.7,
            3.46,
            3.7,
            3.46,
            3.7,
            3.46,
            3.7,
            3.46,
            3.7,
            3.61,
            2.97,
            3.03,
            2.97,
            2.97,
            2.97,
            3.35,
            3.59,
            3.94,
            3.74,
            3.74,
            3.74,
            3.94,
            3.46,
            3.46,
            3.54,
            3.54,
            2.54,
            3.54,
            3.54,
            3.54,
            3.62,
            3.62,
            3.62,
            3.62,
            3.62,
            3.62,
            3.62,
            3.62,
            3.62,
            3.62,
            3.62,
            3.62,
            3.05,
            3.05,
            3.05,
            3.05,
            3.05,
            3.05,
            3.19,
            3.19,
            3.27,
            3.27,
            3.19,
            3.19,
            3.19,
            3.19,
            3.19,
            3.24,
            3.24,
            3.62,
            3.62,
            3.62,
            3.62,
            3.62,
            3.62,
            3.31,
            3.27,
            3.31,
            3.31,
            3.31,
            3.27,
            3.27,
            3.27,
            3.27,
            3.01,
            3.19,
            3.01,
            3.19,
            3.19,
            3.01,
            3.19,
            3.19,
            3.19,
            3.19,
            3.01,
            3.19,
            3.78,
            3.78,
            3.78,
            3.78,
            3.62,
            3.62,
            3.78,
            3.78,
            3.58,
            3.01,
            3.78
           ]
          },
          {
           "axis": {
            "matches": true
           },
           "label": "stroke",
           "values": [
            2.68,
            2.68,
            3.47,
            3.4,
            3.4,
            3.4,
            3.4,
            3.4,
            3.4,
            3.4,
            2.8,
            2.8,
            3.19,
            3.19,
            3.19,
            3.39,
            3.39,
            3.39,
            3.03,
            3.11,
            3.11,
            3.23,
            3.23,
            3.39,
            3.23,
            3.23,
            3.23,
            3.39,
            3.46,
            3.9,
            3.41,
            3.41,
            3.07,
            3.41,
            3.41,
            3.41,
            3.41,
            3.58,
            3.58,
            3.58,
            3.58,
            3.58,
            3.58,
            3.23,
            3.11,
            3.11,
            3.23,
            4.17,
            4.17,
            2.76,
            3.15,
            3.15,
            3.15,
            3.15,
            3.15,
            null,
            null,
            null,
            null,
            3.39,
            3.39,
            3.39,
            3.39,
            3.39,
            3.39,
            3.16,
            3.64,
            3.64,
            3.64,
            3.64,
            3.64,
            3.1,
            3.1,
            3.35,
            3.35,
            3.12,
            3.23,
            3.23,
            3.23,
            3.39,
            3.46,
            3.46,
            3.86,
            3.86,
            3.86,
            3.46,
            3.46,
            3.46,
            3.46,
            3.29,
            3.47,
            3.29,
            3.29,
            3.29,
            3.29,
            3.29,
            3.29,
            3.29,
            3.29,
            3.47,
            3.47,
            3.27,
            3.27,
            3.27,
            3.27,
            3.27,
            3.27,
            3.19,
            3.52,
            3.19,
            3.52,
            2.19,
            3.52,
            2.19,
            3.52,
            3.19,
            3.52,
            3.21,
            3.23,
            3.39,
            3.23,
            3.23,
            3.23,
            3.46,
            3.86,
            3.11,
            2.9,
            2.9,
            2.9,
            3.11,
            3.9,
            3.9,
            3.07,
            3.07,
            2.07,
            3.07,
            3.07,
            3.07,
            2.36,
            2.64,
            2.64,
            2.64,
            2.64,
            2.64,
            2.64,
            2.64,
            2.64,
            2.64,
            2.64,
            2.64,
            3.03,
            3.03,
            3.03,
            3.03,
            3.03,
            3.03,
            3.03,
            3.03,
            3.35,
            3.35,
            3.03,
            3.03,
            3.03,
            3.03,
            3.03,
            3.08,
            3.08,
            3.5,
            3.5,
            3.5,
            3.5,
            3.5,
            3.5,
            3.54,
            3.35,
            3.54,
            3.54,
            3.54,
            3.35,
            3.35,
            3.35,
            3.35,
            3.4,
            3.4,
            3.4,
            3.4,
            3.4,
            3.4,
            3.4,
            3.4,
            3.4,
            3.4,
            3.4,
            3.4,
            3.15,
            3.15,
            3.15,
            3.15,
            3.15,
            3.15,
            3.15,
            3.15,
            2.87,
            3.4,
            3.15
           ]
          },
          {
           "axis": {
            "matches": true
           },
           "label": "engine.size",
           "values": [
            130,
            130,
            152,
            109,
            136,
            136,
            136,
            136,
            131,
            131,
            108,
            108,
            164,
            164,
            164,
            209,
            209,
            209,
            61,
            90,
            90,
            90,
            90,
            98,
            90,
            90,
            90,
            98,
            122,
            156,
            92,
            92,
            79,
            92,
            92,
            92,
            92,
            110,
            110,
            110,
            110,
            110,
            110,
            111,
            90,
            90,
            119,
            258,
            258,
            326,
            91,
            91,
            91,
            91,
            91,
            70,
            70,
            70,
            80,
            122,
            122,
            122,
            122,
            122,
            122,
            140,
            134,
            183,
            183,
            183,
            183,
            234,
            234,
            308,
            304,
            140,
            92,
            92,
            92,
            98,
            110,
            122,
            156,
            156,
            156,
            122,
            122,
            110,
            110,
            97,
            103,
            97,
            97,
            97,
            97,
            97,
            97,
            97,
            97,
            120,
            120,
            181,
            181,
            181,
            181,
            181,
            181,
            120,
            152,
            120,
            152,
            120,
            152,
            120,
            152,
            120,
            152,
            134,
            90,
            98,
            90,
            90,
            98,
            122,
            156,
            151,
            194,
            194,
            194,
            203,
            132,
            132,
            121,
            121,
            121,
            121,
            121,
            121,
            97,
            108,
            108,
            108,
            108,
            108,
            108,
            108,
            108,
            108,
            108,
            108,
            92,
            92,
            92,
            92,
            92,
            92,
            98,
            98,
            110,
            110,
            98,
            98,
            98,
            98,
            98,
            98,
            98,
            146,
            146,
            146,
            146,
            146,
            146,
            122,
            110,
            122,
            122,
            122,
            171,
            171,
            171,
            161,
            97,
            109,
            97,
            109,
            109,
            97,
            109,
            109,
            109,
            136,
            97,
            109,
            141,
            141,
            141,
            141,
            130,
            130,
            141,
            141,
            173,
            145,
            141
           ]
          }
         ],
         "hovertemplate": "%{xaxis.title.text}=%{x}<br>%{yaxis.title.text}=%{y}<extra></extra>",
         "legendgroup": "",
         "marker": {
          "color": "#636efa",
          "symbol": "circle"
         },
         "name": "",
         "showlegend": false,
         "type": "splom"
        }
       ],
       "layout": {
        "dragmode": "select",
        "height": 1300,
        "legend": {
         "tracegroupgap": 0
        },
        "margin": {
         "t": 60
        },
        "template": {
         "data": {
          "bar": [
           {
            "error_x": {
             "color": "#2a3f5f"
            },
            "error_y": {
             "color": "#2a3f5f"
            },
            "marker": {
             "line": {
              "color": "#E5ECF6",
              "width": 0.5
             }
            },
            "type": "bar"
           }
          ],
          "barpolar": [
           {
            "marker": {
             "line": {
              "color": "#E5ECF6",
              "width": 0.5
             }
            },
            "type": "barpolar"
           }
          ],
          "carpet": [
           {
            "aaxis": {
             "endlinecolor": "#2a3f5f",
             "gridcolor": "white",
             "linecolor": "white",
             "minorgridcolor": "white",
             "startlinecolor": "#2a3f5f"
            },
            "baxis": {
             "endlinecolor": "#2a3f5f",
             "gridcolor": "white",
             "linecolor": "white",
             "minorgridcolor": "white",
             "startlinecolor": "#2a3f5f"
            },
            "type": "carpet"
           }
          ],
          "choropleth": [
           {
            "colorbar": {
             "outlinewidth": 0,
             "ticks": ""
            },
            "type": "choropleth"
           }
          ],
          "contour": [
           {
            "colorbar": {
             "outlinewidth": 0,
             "ticks": ""
            },
            "colorscale": [
             [
              0,
              "#0d0887"
             ],
             [
              0.1111111111111111,
              "#46039f"
             ],
             [
              0.2222222222222222,
              "#7201a8"
             ],
             [
              0.3333333333333333,
              "#9c179e"
             ],
             [
              0.4444444444444444,
              "#bd3786"
             ],
             [
              0.5555555555555556,
              "#d8576b"
             ],
             [
              0.6666666666666666,
              "#ed7953"
             ],
             [
              0.7777777777777778,
              "#fb9f3a"
             ],
             [
              0.8888888888888888,
              "#fdca26"
             ],
             [
              1,
              "#f0f921"
             ]
            ],
            "type": "contour"
           }
          ],
          "contourcarpet": [
           {
            "colorbar": {
             "outlinewidth": 0,
             "ticks": ""
            },
            "type": "contourcarpet"
           }
          ],
          "heatmap": [
           {
            "colorbar": {
             "outlinewidth": 0,
             "ticks": ""
            },
            "colorscale": [
             [
              0,
              "#0d0887"
             ],
             [
              0.1111111111111111,
              "#46039f"
             ],
             [
              0.2222222222222222,
              "#7201a8"
             ],
             [
              0.3333333333333333,
              "#9c179e"
             ],
             [
              0.4444444444444444,
              "#bd3786"
             ],
             [
              0.5555555555555556,
              "#d8576b"
             ],
             [
              0.6666666666666666,
              "#ed7953"
             ],
             [
              0.7777777777777778,
              "#fb9f3a"
             ],
             [
              0.8888888888888888,
              "#fdca26"
             ],
             [
              1,
              "#f0f921"
             ]
            ],
            "type": "heatmap"
           }
          ],
          "heatmapgl": [
           {
            "colorbar": {
             "outlinewidth": 0,
             "ticks": ""
            },
            "colorscale": [
             [
              0,
              "#0d0887"
             ],
             [
              0.1111111111111111,
              "#46039f"
             ],
             [
              0.2222222222222222,
              "#7201a8"
             ],
             [
              0.3333333333333333,
              "#9c179e"
             ],
             [
              0.4444444444444444,
              "#bd3786"
             ],
             [
              0.5555555555555556,
              "#d8576b"
             ],
             [
              0.6666666666666666,
              "#ed7953"
             ],
             [
              0.7777777777777778,
              "#fb9f3a"
             ],
             [
              0.8888888888888888,
              "#fdca26"
             ],
             [
              1,
              "#f0f921"
             ]
            ],
            "type": "heatmapgl"
           }
          ],
          "histogram": [
           {
            "marker": {
             "colorbar": {
              "outlinewidth": 0,
              "ticks": ""
             }
            },
            "type": "histogram"
           }
          ],
          "histogram2d": [
           {
            "colorbar": {
             "outlinewidth": 0,
             "ticks": ""
            },
            "colorscale": [
             [
              0,
              "#0d0887"
             ],
             [
              0.1111111111111111,
              "#46039f"
             ],
             [
              0.2222222222222222,
              "#7201a8"
             ],
             [
              0.3333333333333333,
              "#9c179e"
             ],
             [
              0.4444444444444444,
              "#bd3786"
             ],
             [
              0.5555555555555556,
              "#d8576b"
             ],
             [
              0.6666666666666666,
              "#ed7953"
             ],
             [
              0.7777777777777778,
              "#fb9f3a"
             ],
             [
              0.8888888888888888,
              "#fdca26"
             ],
             [
              1,
              "#f0f921"
             ]
            ],
            "type": "histogram2d"
           }
          ],
          "histogram2dcontour": [
           {
            "colorbar": {
             "outlinewidth": 0,
             "ticks": ""
            },
            "colorscale": [
             [
              0,
              "#0d0887"
             ],
             [
              0.1111111111111111,
              "#46039f"
             ],
             [
              0.2222222222222222,
              "#7201a8"
             ],
             [
              0.3333333333333333,
              "#9c179e"
             ],
             [
              0.4444444444444444,
              "#bd3786"
             ],
             [
              0.5555555555555556,
              "#d8576b"
             ],
             [
              0.6666666666666666,
              "#ed7953"
             ],
             [
              0.7777777777777778,
              "#fb9f3a"
             ],
             [
              0.8888888888888888,
              "#fdca26"
             ],
             [
              1,
              "#f0f921"
             ]
            ],
            "type": "histogram2dcontour"
           }
          ],
          "mesh3d": [
           {
            "colorbar": {
             "outlinewidth": 0,
             "ticks": ""
            },
            "type": "mesh3d"
           }
          ],
          "parcoords": [
           {
            "line": {
             "colorbar": {
              "outlinewidth": 0,
              "ticks": ""
             }
            },
            "type": "parcoords"
           }
          ],
          "pie": [
           {
            "automargin": true,
            "type": "pie"
           }
          ],
          "scatter": [
           {
            "marker": {
             "colorbar": {
              "outlinewidth": 0,
              "ticks": ""
             }
            },
            "type": "scatter"
           }
          ],
          "scatter3d": [
           {
            "line": {
             "colorbar": {
              "outlinewidth": 0,
              "ticks": ""
             }
            },
            "marker": {
             "colorbar": {
              "outlinewidth": 0,
              "ticks": ""
             }
            },
            "type": "scatter3d"
           }
          ],
          "scattercarpet": [
           {
            "marker": {
             "colorbar": {
              "outlinewidth": 0,
              "ticks": ""
             }
            },
            "type": "scattercarpet"
           }
          ],
          "scattergeo": [
           {
            "marker": {
             "colorbar": {
              "outlinewidth": 0,
              "ticks": ""
             }
            },
            "type": "scattergeo"
           }
          ],
          "scattergl": [
           {
            "marker": {
             "colorbar": {
              "outlinewidth": 0,
              "ticks": ""
             }
            },
            "type": "scattergl"
           }
          ],
          "scattermapbox": [
           {
            "marker": {
             "colorbar": {
              "outlinewidth": 0,
              "ticks": ""
             }
            },
            "type": "scattermapbox"
           }
          ],
          "scatterpolar": [
           {
            "marker": {
             "colorbar": {
              "outlinewidth": 0,
              "ticks": ""
             }
            },
            "type": "scatterpolar"
           }
          ],
          "scatterpolargl": [
           {
            "marker": {
             "colorbar": {
              "outlinewidth": 0,
              "ticks": ""
             }
            },
            "type": "scatterpolargl"
           }
          ],
          "scatterternary": [
           {
            "marker": {
             "colorbar": {
              "outlinewidth": 0,
              "ticks": ""
             }
            },
            "type": "scatterternary"
           }
          ],
          "surface": [
           {
            "colorbar": {
             "outlinewidth": 0,
             "ticks": ""
            },
            "colorscale": [
             [
              0,
              "#0d0887"
             ],
             [
              0.1111111111111111,
              "#46039f"
             ],
             [
              0.2222222222222222,
              "#7201a8"
             ],
             [
              0.3333333333333333,
              "#9c179e"
             ],
             [
              0.4444444444444444,
              "#bd3786"
             ],
             [
              0.5555555555555556,
              "#d8576b"
             ],
             [
              0.6666666666666666,
              "#ed7953"
             ],
             [
              0.7777777777777778,
              "#fb9f3a"
             ],
             [
              0.8888888888888888,
              "#fdca26"
             ],
             [
              1,
              "#f0f921"
             ]
            ],
            "type": "surface"
           }
          ],
          "table": [
           {
            "cells": {
             "fill": {
              "color": "#EBF0F8"
             },
             "line": {
              "color": "white"
             }
            },
            "header": {
             "fill": {
              "color": "#C8D4E3"
             },
             "line": {
              "color": "white"
             }
            },
            "type": "table"
           }
          ]
         },
         "layout": {
          "annotationdefaults": {
           "arrowcolor": "#2a3f5f",
           "arrowhead": 0,
           "arrowwidth": 1
          },
          "autotypenumbers": "strict",
          "coloraxis": {
           "colorbar": {
            "outlinewidth": 0,
            "ticks": ""
           }
          },
          "colorscale": {
           "diverging": [
            [
             0,
             "#8e0152"
            ],
            [
             0.1,
             "#c51b7d"
            ],
            [
             0.2,
             "#de77ae"
            ],
            [
             0.3,
             "#f1b6da"
            ],
            [
             0.4,
             "#fde0ef"
            ],
            [
             0.5,
             "#f7f7f7"
            ],
            [
             0.6,
             "#e6f5d0"
            ],
            [
             0.7,
             "#b8e186"
            ],
            [
             0.8,
             "#7fbc41"
            ],
            [
             0.9,
             "#4d9221"
            ],
            [
             1,
             "#276419"
            ]
           ],
           "sequential": [
            [
             0,
             "#0d0887"
            ],
            [
             0.1111111111111111,
             "#46039f"
            ],
            [
             0.2222222222222222,
             "#7201a8"
            ],
            [
             0.3333333333333333,
             "#9c179e"
            ],
            [
             0.4444444444444444,
             "#bd3786"
            ],
            [
             0.5555555555555556,
             "#d8576b"
            ],
            [
             0.6666666666666666,
             "#ed7953"
            ],
            [
             0.7777777777777778,
             "#fb9f3a"
            ],
            [
             0.8888888888888888,
             "#fdca26"
            ],
            [
             1,
             "#f0f921"
            ]
           ],
           "sequentialminus": [
            [
             0,
             "#0d0887"
            ],
            [
             0.1111111111111111,
             "#46039f"
            ],
            [
             0.2222222222222222,
             "#7201a8"
            ],
            [
             0.3333333333333333,
             "#9c179e"
            ],
            [
             0.4444444444444444,
             "#bd3786"
            ],
            [
             0.5555555555555556,
             "#d8576b"
            ],
            [
             0.6666666666666666,
             "#ed7953"
            ],
            [
             0.7777777777777778,
             "#fb9f3a"
            ],
            [
             0.8888888888888888,
             "#fdca26"
            ],
            [
             1,
             "#f0f921"
            ]
           ]
          },
          "colorway": [
           "#636efa",
           "#EF553B",
           "#00cc96",
           "#ab63fa",
           "#FFA15A",
           "#19d3f3",
           "#FF6692",
           "#B6E880",
           "#FF97FF",
           "#FECB52"
          ],
          "font": {
           "color": "#2a3f5f"
          },
          "geo": {
           "bgcolor": "white",
           "lakecolor": "white",
           "landcolor": "#E5ECF6",
           "showlakes": true,
           "showland": true,
           "subunitcolor": "white"
          },
          "hoverlabel": {
           "align": "left"
          },
          "hovermode": "closest",
          "mapbox": {
           "style": "light"
          },
          "paper_bgcolor": "white",
          "plot_bgcolor": "#E5ECF6",
          "polar": {
           "angularaxis": {
            "gridcolor": "white",
            "linecolor": "white",
            "ticks": ""
           },
           "bgcolor": "#E5ECF6",
           "radialaxis": {
            "gridcolor": "white",
            "linecolor": "white",
            "ticks": ""
           }
          },
          "scene": {
           "xaxis": {
            "backgroundcolor": "#E5ECF6",
            "gridcolor": "white",
            "gridwidth": 2,
            "linecolor": "white",
            "showbackground": true,
            "ticks": "",
            "zerolinecolor": "white"
           },
           "yaxis": {
            "backgroundcolor": "#E5ECF6",
            "gridcolor": "white",
            "gridwidth": 2,
            "linecolor": "white",
            "showbackground": true,
            "ticks": "",
            "zerolinecolor": "white"
           },
           "zaxis": {
            "backgroundcolor": "#E5ECF6",
            "gridcolor": "white",
            "gridwidth": 2,
            "linecolor": "white",
            "showbackground": true,
            "ticks": "",
            "zerolinecolor": "white"
           }
          },
          "shapedefaults": {
           "line": {
            "color": "#2a3f5f"
           }
          },
          "ternary": {
           "aaxis": {
            "gridcolor": "white",
            "linecolor": "white",
            "ticks": ""
           },
           "baxis": {
            "gridcolor": "white",
            "linecolor": "white",
            "ticks": ""
           },
           "bgcolor": "#E5ECF6",
           "caxis": {
            "gridcolor": "white",
            "linecolor": "white",
            "ticks": ""
           }
          },
          "title": {
           "x": 0.05
          },
          "xaxis": {
           "automargin": true,
           "gridcolor": "white",
           "linecolor": "white",
           "ticks": "",
           "title": {
            "standoff": 15
           },
           "zerolinecolor": "white",
           "zerolinewidth": 2
          },
          "yaxis": {
           "automargin": true,
           "gridcolor": "white",
           "linecolor": "white",
           "ticks": "",
           "title": {
            "standoff": 15
           },
           "zerolinecolor": "white",
           "zerolinewidth": 2
          }
         }
        },
        "width": 1300
       }
      }
     },
     "metadata": {}
    }
   ],
   "source": [
    "import plotly.express as px\n",
    "fig = px.scatter_matrix(df, dimensions=[\"horsepower\", \"price\",\"city.mpg\",\"wheel.base\",\"bore\",\"stroke\",\"engine.size\"],height=1300,width=1300)\n",
    "fig.show()"
   ]
  },
  {
   "cell_type": "code",
   "execution_count": 263,
   "metadata": {},
   "outputs": [
    {
     "output_type": "execute_result",
     "data": {
      "text/plain": [
       "symboling            0\n",
       "normalized.losses    0\n",
       "make                 0\n",
       "fuel.type            0\n",
       "aspiration           0\n",
       "num.of.doors         0\n",
       "body.style           0\n",
       "drive.wheels         0\n",
       "engine.location      0\n",
       "wheel.base           0\n",
       "length               0\n",
       "width                0\n",
       "height               0\n",
       "curb.weight          0\n",
       "engine.type          0\n",
       "num.of.cylinders     0\n",
       "engine.size          0\n",
       "fuel.system          0\n",
       "bore                 0\n",
       "stroke               0\n",
       "compression.ratio    0\n",
       "horsepower           0\n",
       "peak.rpm             0\n",
       "city.mpg             0\n",
       "highway.mpg          0\n",
       "price                0\n",
       "dtype: int64"
      ]
     },
     "metadata": {},
     "execution_count": 263
    }
   ],
   "source": [
    "df = df.fillna(value=0)\n",
    "df.isnull().sum()"
   ]
  },
  {
   "cell_type": "code",
   "execution_count": 268,
   "metadata": {},
   "outputs": [],
   "source": [
    "X = df[[\"width\",\"length\",\"curb.weight\",\"engine.size\",\"horsepower\"]]\n",
    "y = df.price"
   ]
  },
  {
   "cell_type": "code",
   "execution_count": 272,
   "metadata": {},
   "outputs": [],
   "source": []
  },
  {
   "cell_type": "code",
   "execution_count": 273,
   "metadata": {},
   "outputs": [],
   "source": [
    "X_train, X_test, y_train, y_test = train_test_split(X,y, test_size = 0.30,\n",
    "                                                          train_size = 0.70, random_state =0)"
   ]
  },
  {
   "cell_type": "code",
   "execution_count": 276,
   "metadata": {},
   "outputs": [],
   "source": [
    "knn_model = KNeighborsRegressor().fit(X_train, y_train)\n"
   ]
  },
  {
   "cell_type": "code",
   "execution_count": 279,
   "metadata": {},
   "outputs": [
    {
     "output_type": "execute_result",
     "data": {
      "text/plain": [
       "4986.151747234696"
      ]
     },
     "metadata": {},
     "execution_count": 279
    }
   ],
   "source": [
    "from sklearn.metrics import r2_score,mean_squared_error\n",
    "y_pred = knn_model.predict(X_test)\n",
    "np.sqrt(mean_squared_error(y_test,y_pred))"
   ]
  },
  {
   "cell_type": "code",
   "execution_count": 332,
   "metadata": {},
   "outputs": [],
   "source": [
    "new_data = [[64.1],[168.8],[2548],[130],[111.0]]\n",
    "new_data = pd.DataFrame(new_data).T\n",
    "y_pred1=knn_cv_model.predict(X)\n"
   ]
  },
  {
   "cell_type": "code",
   "execution_count": 333,
   "metadata": {},
   "outputs": [
    {
     "output_type": "execute_result",
     "data": {
      "text/plain": [
       "   Prediction  Real_vallue\n",
       "0     13495.0      13495.0\n",
       "1     13495.0      16500.0\n",
       "2     16500.0      16500.0\n",
       "3     13950.0      13950.0\n",
       "4     17710.0      17450.0\n",
       "5      9639.0      15250.0\n",
       "6     17710.0      17710.0\n",
       "7     16845.0      18920.0\n",
       "8     22625.0      23875.0\n",
       "9         0.0          0.0"
      ],
      "text/html": "<div>\n<style scoped>\n    .dataframe tbody tr th:only-of-type {\n        vertical-align: middle;\n    }\n\n    .dataframe tbody tr th {\n        vertical-align: top;\n    }\n\n    .dataframe thead th {\n        text-align: right;\n    }\n</style>\n<table border=\"1\" class=\"dataframe\">\n  <thead>\n    <tr style=\"text-align: right;\">\n      <th></th>\n      <th>Prediction</th>\n      <th>Real_vallue</th>\n    </tr>\n  </thead>\n  <tbody>\n    <tr>\n      <th>0</th>\n      <td>13495.0</td>\n      <td>13495.0</td>\n    </tr>\n    <tr>\n      <th>1</th>\n      <td>13495.0</td>\n      <td>16500.0</td>\n    </tr>\n    <tr>\n      <th>2</th>\n      <td>16500.0</td>\n      <td>16500.0</td>\n    </tr>\n    <tr>\n      <th>3</th>\n      <td>13950.0</td>\n      <td>13950.0</td>\n    </tr>\n    <tr>\n      <th>4</th>\n      <td>17710.0</td>\n      <td>17450.0</td>\n    </tr>\n    <tr>\n      <th>5</th>\n      <td>9639.0</td>\n      <td>15250.0</td>\n    </tr>\n    <tr>\n      <th>6</th>\n      <td>17710.0</td>\n      <td>17710.0</td>\n    </tr>\n    <tr>\n      <th>7</th>\n      <td>16845.0</td>\n      <td>18920.0</td>\n    </tr>\n    <tr>\n      <th>8</th>\n      <td>22625.0</td>\n      <td>23875.0</td>\n    </tr>\n    <tr>\n      <th>9</th>\n      <td>0.0</td>\n      <td>0.0</td>\n    </tr>\n  </tbody>\n</table>\n</div>"
     },
     "metadata": {},
     "execution_count": 333
    }
   ],
   "source": [
    "k_t = pd.DataFrame({\"Prediction\": y_pred1[0:10],\n",
    "                    \"Real_vallue\": y[0:10]})\n",
    "k_t"
   ]
  },
  {
   "cell_type": "code",
   "execution_count": 316,
   "metadata": {},
   "outputs": [
    {
     "output_type": "stream",
     "name": "stdout",
     "text": [
      "k= 1 için RMSE value 437.8926809162263\nk= 2 için RMSE value 2059.6504697866353\nk= 3 için RMSE value 2658.36783559754\nk= 4 için RMSE value 3010.0088750508057\nk= 5 için RMSE value 3290.981139480988\nk= 6 için RMSE value 3316.2207764195205\nk= 7 için RMSE value 3626.4501468147428\nk= 8 için RMSE value 3785.198960224913\nk= 9 için RMSE value 3809.8234906791104\nk= 10 için RMSE value 3904.452244464094\n"
     ]
    }
   ],
   "source": [
    "RMSE = []\n",
    "\n",
    "for k in range(10):\n",
    "    k = k+1\n",
    "    knn_model = KNeighborsRegressor(n_neighbors = k).fit(X_train, y_train)\n",
    "    y_pred = knn_model.predict(X_train)\n",
    "    rmse = np.sqrt(mean_squared_error(y_train,y_pred))\n",
    "    RMSE.append(rmse)\n",
    "    print(\"k=\",k, \"için RMSE value\", rmse)"
   ]
  },
  {
   "cell_type": "code",
   "execution_count": 317,
   "metadata": {},
   "outputs": [],
   "source": [
    "from sklearn.model_selection import GridSearchCV"
   ]
  },
  {
   "cell_type": "code",
   "execution_count": 328,
   "metadata": {},
   "outputs": [],
   "source": [
    "knn_params = {\"n_neighbors\": np.arange(1,30,1)}\n",
    "knn =KNeighborsRegressor(n_neighbors=1)\n"
   ]
  },
  {
   "cell_type": "code",
   "execution_count": 329,
   "metadata": {},
   "outputs": [],
   "source": [
    "knn_cv_model = GridSearchCV(knn,knn_params, cv =10)"
   ]
  },
  {
   "cell_type": "code",
   "execution_count": 330,
   "metadata": {},
   "outputs": [
    {
     "output_type": "execute_result",
     "data": {
      "text/plain": [
       "GridSearchCV(cv=10, error_score=nan,\n",
       "             estimator=KNeighborsRegressor(algorithm='auto', leaf_size=30,\n",
       "                                           metric='minkowski',\n",
       "                                           metric_params=None, n_jobs=None,\n",
       "                                           n_neighbors=1, p=2,\n",
       "                                           weights='uniform'),\n",
       "             n_jobs=None,\n",
       "             param_grid={'n_neighbors': array([ 1,  2,  3,  4,  5,  6,  7,  8,  9, 10, 11, 12, 13, 14, 15, 16, 17,\n",
       "       18, 19, 20, 21, 22, 23, 24, 25, 26, 27, 28, 29])},\n",
       "             pre_dispatch='2*n_jobs', refit=True, return_train_score=False,\n",
       "             scoring=None, verbose=0)"
      ]
     },
     "metadata": {},
     "execution_count": 330
    }
   ],
   "source": [
    "knn_cv_model.fit(X_train, y_train)"
   ]
  },
  {
   "cell_type": "code",
   "execution_count": 331,
   "metadata": {},
   "outputs": [
    {
     "output_type": "execute_result",
     "data": {
      "text/plain": [
       "1"
      ]
     },
     "metadata": {},
     "execution_count": 331
    }
   ],
   "source": [
    "knn_cv_model.best_params_[\"n_neighbors\"]"
   ]
  },
  {
   "cell_type": "code",
   "execution_count": 322,
   "metadata": {},
   "outputs": [
    {
     "output_type": "stream",
     "name": "stdout",
     "text": [
      "k= 1  RMSE value 437.8926809162263 RMSE_CV value: 4262.601262363718\n",
      "k= 2  RMSE value 2059.6504697866353 RMSE_CV value: 4116.084009190567\n",
      "k= 3  RMSE value 2658.36783559754 RMSE_CV value: 4108.72855245729\n",
      "k= 4  RMSE value 3010.0088750508057 RMSE_CV value: 4141.856002636666\n",
      "k= 5  RMSE value 3290.981139480988 RMSE_CV value: 4273.232349273345\n",
      "k= 6  RMSE value 3316.2207764195205 RMSE_CV value: 4323.261914459789\n",
      "k= 7  RMSE value 3626.4501468147428 RMSE_CV value: 4256.053836056708\n",
      "k= 8  RMSE value 3785.198960224913 RMSE_CV value: 4360.1512769344345\n",
      "k= 9  RMSE value 3809.8234906791104 RMSE_CV value: 4429.3873916812645\n",
      "k= 10  RMSE value 3904.452244464094 RMSE_CV value: 4453.936146611273\n"
     ]
    }
   ],
   "source": [
    "RMSE = []\n",
    "RMSE_CV =[]\n",
    "\n",
    "for k in range(10):\n",
    "    k = k+1\n",
    "    knn_model = KNeighborsRegressor(n_neighbors = k).fit(X_train, y_train)\n",
    "    y_pred = knn_model.predict(X_train)\n",
    "    rmse = np.sqrt(mean_squared_error(y_train,y_pred))\n",
    "    rmse_cv = np.sqrt(-1*cross_val_score(knn_model,X_train,y_train,cv=10,\n",
    "                                        scoring = \"neg_mean_squared_error\").mean())\n",
    "    RMSE.append(rmse)\n",
    "    RMSE_CV.append(rmse_cv)\n",
    "    print(\"k=\",k, \" RMSE value\", rmse, \"RMSE_CV value:\", rmse_cv)"
   ]
  },
  {
   "cell_type": "code",
   "execution_count": 327,
   "metadata": {},
   "outputs": [
    {
     "output_type": "execute_result",
     "data": {
      "text/plain": [
       "KNeighborsRegressor(algorithm='auto', leaf_size=30, metric='minkowski',\n",
       "                    metric_params=None, n_jobs=None, n_neighbors=1, p=2,\n",
       "                    weights='uniform')"
      ]
     },
     "metadata": {},
     "execution_count": 327
    }
   ],
   "source": [
    "knn_tuned = KNeighborsRegressor(n_neighbors = 1)\n",
    "knn_tuned.fit(X_train, y_train)"
   ]
  },
  {
   "cell_type": "code",
   "execution_count": 326,
   "metadata": {},
   "outputs": [
    {
     "output_type": "execute_result",
     "data": {
      "text/plain": [
       "4910.533506919655"
      ]
     },
     "metadata": {},
     "execution_count": 326
    }
   ],
   "source": [
    "np.sqrt(mean_squared_error(y_test,knn_tuned.predict(X_test)))"
   ]
  },
  {
   "source": [
    "# Logistic_Regression"
   ],
   "cell_type": "markdown",
   "metadata": {}
  },
  {
   "cell_type": "code",
   "execution_count": 340,
   "metadata": {},
   "outputs": [],
   "source": [
    "from sklearn.linear_model import LogisticRegression\n",
    "loj = LogisticRegression()\n",
    "loj_model = loj.fit(X_train,y_train)\n",
    "#loj_model.coef_"
   ]
  },
  {
   "cell_type": "code",
   "execution_count": 341,
   "metadata": {},
   "outputs": [],
   "source": [
    "\n",
    "\n",
    "y_pred = loj_model.predict(X)\n",
    "\n"
   ]
  },
  {
   "cell_type": "code",
   "execution_count": 342,
   "metadata": {},
   "outputs": [
    {
     "output_type": "execute_result",
     "data": {
      "text/plain": [
       "0.36097560975609755"
      ]
     },
     "metadata": {},
     "execution_count": 342
    }
   ],
   "source": [
    "accuracy_score(y,y_pred)"
   ]
  },
  {
   "source": [
    "# Random Forest"
   ],
   "cell_type": "markdown",
   "metadata": {}
  },
  {
   "cell_type": "code",
   "execution_count": 348,
   "metadata": {},
   "outputs": [],
   "source": [
    "from sklearn.ensemble import RandomForestRegressor"
   ]
  },
  {
   "cell_type": "code",
   "execution_count": 350,
   "metadata": {},
   "outputs": [
    {
     "output_type": "stream",
     "name": "stdout",
     "text": [
      "MSE train data: 1094477.856, MSE test data: 30411382.140\nR2 train data: 0.983, R2 test data: 0.552\n"
     ]
    }
   ],
   "source": [
    "forest = RandomForestRegressor(n_estimators= 100,\n",
    "                            criterion= \"mse\",\n",
    "                            random_state= 1,\n",
    "                            n_jobs= -1)\n",
    "\n",
    "forest.fit(X_train,y_train)\n",
    "forest_train_pred = forest.predict(X_train)\n",
    "forest_test_pred = forest.predict(X_test)\n",
    "print('MSE train data: %.3f, MSE test data: %.3f' % (\n",
    "mean_squared_error(y_train,forest_train_pred),\n",
    "mean_squared_error(y_test,forest_test_pred)))\n",
    "print('R2 train data: %.3f, R2 test data: %.3f' % (\n",
    "r2_score(y_train,forest_train_pred),\n",
    "r2_score(y_test,forest_test_pred)))"
   ]
  },
  {
   "cell_type": "code",
   "execution_count": 351,
   "metadata": {},
   "outputs": [
    {
     "output_type": "display_data",
     "data": {
      "text/plain": "<Figure size 720x432 with 1 Axes>",
      "image/png": "[encoded data removed]"
     },
     "metadata": {
      "image/png": {
       "width": 633,
       "height": 370
      },
      "needs_background": "light"
     }
    }
   ],
   "source": [
    "import matplotlib.pyplot as pl\n",
    "\n",
    "pl.figure(figsize=(10,6))\n",
    "\n",
    "pl.scatter(forest_train_pred,forest_train_pred - y_train,\n",
    "          c = 'black', marker = 'o', s = 35, alpha = 0.5,\n",
    "          label = 'Train data')\n",
    "pl.scatter(forest_test_pred,forest_test_pred - y_test,\n",
    "          c = 'c', marker = 'o', s = 35, alpha = 0.7,\n",
    "          label = 'Test data')\n",
    "pl.xlabel('Predicted values')\n",
    "pl.ylabel('Tailings')\n",
    "pl.legend(loc = 'upper left')\n",
    "pl.hlines(y = 0, xmin = 0, xmax = 1000, lw = 1, color = 'red')\n",
    "pl.show()"
   ]
  },
  {
   "cell_type": "code",
   "execution_count": 392,
   "metadata": {},
   "outputs": [
    {
     "output_type": "execute_result",
     "data": {
      "text/plain": [
       "array([14152.215])"
      ]
     },
     "metadata": {},
     "execution_count": 392
    }
   ],
   "source": [
    "new_data = [[64.1],[168.8],[2548],[130],[111.0]]\n",
    "new_data = pd.DataFrame(new_data).T\n",
    "y_pred1=forest.predict(new_data)\n",
    "y_pred1"
   ]
  },
  {
   "cell_type": "code",
   "execution_count": 353,
   "metadata": {},
   "outputs": [
    {
     "output_type": "execute_result",
     "data": {
      "text/plain": [
       "   Prediction  Real_vallue\n",
       "0   14152.215      13495.0\n",
       "1   14152.215      16500.0\n",
       "2   15247.000      16500.0\n",
       "3   13056.125      13950.0\n",
       "4   13715.095      17450.0\n",
       "5   12385.705      15250.0\n",
       "6   17451.700      17710.0\n",
       "7   17563.200      18920.0\n",
       "8   14557.090      23875.0\n",
       "9    6522.090          0.0"
      ],
      "text/html": "<div>\n<style scoped>\n    .dataframe tbody tr th:only-of-type {\n        vertical-align: middle;\n    }\n\n    .dataframe tbody tr th {\n        vertical-align: top;\n    }\n\n    .dataframe thead th {\n        text-align: right;\n    }\n</style>\n<table border=\"1\" class=\"dataframe\">\n  <thead>\n    <tr style=\"text-align: right;\">\n      <th></th>\n      <th>Prediction</th>\n      <th>Real_vallue</th>\n    </tr>\n  </thead>\n  <tbody>\n    <tr>\n      <th>0</th>\n      <td>14152.215</td>\n      <td>13495.0</td>\n    </tr>\n    <tr>\n      <th>1</th>\n      <td>14152.215</td>\n      <td>16500.0</td>\n    </tr>\n    <tr>\n      <th>2</th>\n      <td>15247.000</td>\n      <td>16500.0</td>\n    </tr>\n    <tr>\n      <th>3</th>\n      <td>13056.125</td>\n      <td>13950.0</td>\n    </tr>\n    <tr>\n      <th>4</th>\n      <td>13715.095</td>\n      <td>17450.0</td>\n    </tr>\n    <tr>\n      <th>5</th>\n      <td>12385.705</td>\n      <td>15250.0</td>\n    </tr>\n    <tr>\n      <th>6</th>\n      <td>17451.700</td>\n      <td>17710.0</td>\n    </tr>\n    <tr>\n      <th>7</th>\n      <td>17563.200</td>\n      <td>18920.0</td>\n    </tr>\n    <tr>\n      <th>8</th>\n      <td>14557.090</td>\n      <td>23875.0</td>\n    </tr>\n    <tr>\n      <th>9</th>\n      <td>6522.090</td>\n      <td>0.0</td>\n    </tr>\n  </tbody>\n</table>\n</div>"
     },
     "metadata": {},
     "execution_count": 353
    }
   ],
   "source": [
    "k_t = pd.DataFrame({\"Prediction\": y_pred1[0:10],\n",
    "                    \"Real_vallue\": y[0:10]})\n",
    "k_t"
   ]
  },
  {
   "cell_type": "code",
   "execution_count": 390,
   "metadata": {},
   "outputs": [
    {
     "output_type": "execute_result",
     "data": {
      "text/plain": [
       "0.9827611573188962"
      ]
     },
     "metadata": {},
     "execution_count": 390
    }
   ],
   "source": [
    "forest.score(X_train,y_train)"
   ]
  },
  {
   "cell_type": "code",
   "execution_count": 393,
   "metadata": {},
   "outputs": [
    {
     "output_type": "execute_result",
     "data": {
      "text/plain": [
       "5514.651588302404"
      ]
     },
     "metadata": {},
     "execution_count": 393
    }
   ],
   "source": [
    "np.sqrt(mean_squared_error(y_test,forest.predict(X_test)))"
   ]
  },
  {
   "cell_type": "code",
   "execution_count": null,
   "metadata": {},
   "outputs": [],
   "source": []
  },
  {
   "cell_type": "code",
   "execution_count": null,
   "metadata": {},
   "outputs": [],
   "source": []
  },
  {
   "cell_type": "code",
   "execution_count": null,
   "metadata": {},
   "outputs": [],
   "source": []
  },
  {
   "cell_type": "code",
   "execution_count": null,
   "metadata": {},
   "outputs": [],
   "source": []
  },
  {
   "source": [
    "# PY CARET"
   ],
   "cell_type": "markdown",
   "metadata": {}
  },
  {
   "cell_type": "code",
   "execution_count": 380,
   "metadata": {},
   "outputs": [
    {
     "output_type": "display_data",
     "data": {
      "text/plain": "   Number of times pregnant  \\\n0                         6   \n1                         1   \n2                         8   \n3                         1   \n4                         0   \n\n   Plasma glucose concentration a 2 hours in an oral glucose tolerance test  \\\n0                                                148                          \n1                                                 85                          \n2                                                183                          \n3                                                 89                          \n4                                                137                          \n\n   Diastolic blood pressure (mm Hg)  Triceps skin fold thickness (mm)  \\\n0                                72                                35   \n1                                66                                29   \n2                                64                                 0   \n3                                66                                23   \n4                                40                                35   \n\n   2-Hour serum insulin (mu U/ml)  \\\n0                               0   \n1                               0   \n2                               0   \n3                              94   \n4                             168   \n\n   Body mass index (weight in kg/(height in m)^2)  Diabetes pedigree function  \\\n0                                            33.6                       0.627   \n1                                            26.6                       0.351   \n2                                            23.3                       0.672   \n3                                            28.1                       0.167   \n4                                            43.1                       2.288   \n\n   Age (years)  Class variable  \n0           50               1  \n1           31               0  \n2           32               1  \n3           21               0  \n4           33               1  ",
      "text/html": "<div>\n<style scoped>\n    .dataframe tbody tr th:only-of-type {\n        vertical-align: middle;\n    }\n\n    .dataframe tbody tr th {\n        vertical-align: top;\n    }\n\n    .dataframe thead th {\n        text-align: right;\n    }\n</style>\n<table border=\"1\" class=\"dataframe\">\n  <thead>\n    <tr style=\"text-align: right;\">\n      <th></th>\n      <th>Number of times pregnant</th>\n      <th>Plasma glucose concentration a 2 hours in an oral glucose tolerance test</th>\n      <th>Diastolic blood pressure (mm Hg)</th>\n      <th>Triceps skin fold thickness (mm)</th>\n      <th>2-Hour serum insulin (mu U/ml)</th>\n      <th>Body mass index (weight in kg/(height in m)^2)</th>\n      <th>Diabetes pedigree function</th>\n      <th>Age (years)</th>\n      <th>Class variable</th>\n    </tr>\n  </thead>\n  <tbody>\n    <tr>\n      <th>0</th>\n      <td>6</td>\n      <td>148</td>\n      <td>72</td>\n      <td>35</td>\n      <td>0</td>\n      <td>33.6</td>\n      <td>0.627</td>\n      <td>50</td>\n      <td>1</td>\n    </tr>\n    <tr>\n      <th>1</th>\n      <td>1</td>\n      <td>85</td>\n      <td>66</td>\n      <td>29</td>\n      <td>0</td>\n      <td>26.6</td>\n      <td>0.351</td>\n      <td>31</td>\n      <td>0</td>\n    </tr>\n    <tr>\n      <th>2</th>\n      <td>8</td>\n      <td>183</td>\n      <td>64</td>\n      <td>0</td>\n      <td>0</td>\n      <td>23.3</td>\n      <td>0.672</td>\n      <td>32</td>\n      <td>1</td>\n    </tr>\n    <tr>\n      <th>3</th>\n      <td>1</td>\n      <td>89</td>\n      <td>66</td>\n      <td>23</td>\n      <td>94</td>\n      <td>28.1</td>\n      <td>0.167</td>\n      <td>21</td>\n      <td>0</td>\n    </tr>\n    <tr>\n      <th>4</th>\n      <td>0</td>\n      <td>137</td>\n      <td>40</td>\n      <td>35</td>\n      <td>168</td>\n      <td>43.1</td>\n      <td>2.288</td>\n      <td>33</td>\n      <td>1</td>\n    </tr>\n  </tbody>\n</table>\n</div>"
     },
     "metadata": {}
    }
   ],
   "source": [
    "from pycaret.classification import *\n",
    "from pycaret.datasets import get_data\n",
    "diabetes = get_data('diabetes')"
   ]
  },
  {
   "cell_type": "code",
   "execution_count": 389,
   "metadata": {},
   "outputs": [
    {
     "output_type": "display_data",
     "data": {
      "text/plain": "   Id Purchase  WeekofPurchase  StoreID  PriceCH  PriceMM  DiscCH  DiscMM  \\\n0   1       CH             237        1     1.75     1.99    0.00     0.0   \n1   2       CH             239        1     1.75     1.99    0.00     0.3   \n2   3       CH             245        1     1.86     2.09    0.17     0.0   \n3   4       MM             227        1     1.69     1.69    0.00     0.0   \n4   5       CH             228        7     1.69     1.69    0.00     0.0   \n\n   SpecialCH  SpecialMM   LoyalCH  SalePriceMM  SalePriceCH  PriceDiff Store7  \\\n0          0          0  0.500000         1.99         1.75       0.24     No   \n1          0          1  0.600000         1.69         1.75      -0.06     No   \n2          0          0  0.680000         2.09         1.69       0.40     No   \n3          0          0  0.400000         1.69         1.69       0.00     No   \n4          0          0  0.956535         1.69         1.69       0.00    Yes   \n\n   PctDiscMM  PctDiscCH  ListPriceDiff  STORE  \n0   0.000000   0.000000           0.24      1  \n1   0.150754   0.000000           0.24      1  \n2   0.000000   0.091398           0.23      1  \n3   0.000000   0.000000           0.00      1  \n4   0.000000   0.000000           0.00      0  ",
      "text/html": "<div>\n<style scoped>\n    .dataframe tbody tr th:only-of-type {\n        vertical-align: middle;\n    }\n\n    .dataframe tbody tr th {\n        vertical-align: top;\n    }\n\n    .dataframe thead th {\n        text-align: right;\n    }\n</style>\n<table border=\"1\" class=\"dataframe\">\n  <thead>\n    <tr style=\"text-align: right;\">\n      <th></th>\n      <th>Id</th>\n      <th>Purchase</th>\n      <th>WeekofPurchase</th>\n      <th>StoreID</th>\n      <th>PriceCH</th>\n      <th>PriceMM</th>\n      <th>DiscCH</th>\n      <th>DiscMM</th>\n      <th>SpecialCH</th>\n      <th>SpecialMM</th>\n      <th>LoyalCH</th>\n      <th>SalePriceMM</th>\n      <th>SalePriceCH</th>\n      <th>PriceDiff</th>\n      <th>Store7</th>\n      <th>PctDiscMM</th>\n      <th>PctDiscCH</th>\n      <th>ListPriceDiff</th>\n      <th>STORE</th>\n    </tr>\n  </thead>\n  <tbody>\n    <tr>\n      <th>0</th>\n      <td>1</td>\n      <td>CH</td>\n      <td>237</td>\n      <td>1</td>\n      <td>1.75</td>\n      <td>1.99</td>\n      <td>0.00</td>\n      <td>0.0</td>\n      <td>0</td>\n      <td>0</td>\n      <td>0.500000</td>\n      <td>1.99</td>\n      <td>1.75</td>\n      <td>0.24</td>\n      <td>No</td>\n      <td>0.000000</td>\n      <td>0.000000</td>\n      <td>0.24</td>\n      <td>1</td>\n    </tr>\n    <tr>\n      <th>1</th>\n      <td>2</td>\n      <td>CH</td>\n      <td>239</td>\n      <td>1</td>\n      <td>1.75</td>\n      <td>1.99</td>\n      <td>0.00</td>\n      <td>0.3</td>\n      <td>0</td>\n      <td>1</td>\n      <td>0.600000</td>\n      <td>1.69</td>\n      <td>1.75</td>\n      <td>-0.06</td>\n      <td>No</td>\n      <td>0.150754</td>\n      <td>0.000000</td>\n      <td>0.24</td>\n      <td>1</td>\n    </tr>\n    <tr>\n      <th>2</th>\n      <td>3</td>\n      <td>CH</td>\n      <td>245</td>\n      <td>1</td>\n      <td>1.86</td>\n      <td>2.09</td>\n      <td>0.17</td>\n      <td>0.0</td>\n      <td>0</td>\n      <td>0</td>\n      <td>0.680000</td>\n      <td>2.09</td>\n      <td>1.69</td>\n      <td>0.40</td>\n      <td>No</td>\n      <td>0.000000</td>\n      <td>0.091398</td>\n      <td>0.23</td>\n      <td>1</td>\n    </tr>\n    <tr>\n      <th>3</th>\n      <td>4</td>\n      <td>MM</td>\n      <td>227</td>\n      <td>1</td>\n      <td>1.69</td>\n      <td>1.69</td>\n      <td>0.00</td>\n      <td>0.0</td>\n      <td>0</td>\n      <td>0</td>\n      <td>0.400000</td>\n      <td>1.69</td>\n      <td>1.69</td>\n      <td>0.00</td>\n      <td>No</td>\n      <td>0.000000</td>\n      <td>0.000000</td>\n      <td>0.00</td>\n      <td>1</td>\n    </tr>\n    <tr>\n      <th>4</th>\n      <td>5</td>\n      <td>CH</td>\n      <td>228</td>\n      <td>7</td>\n      <td>1.69</td>\n      <td>1.69</td>\n      <td>0.00</td>\n      <td>0.0</td>\n      <td>0</td>\n      <td>0</td>\n      <td>0.956535</td>\n      <td>1.69</td>\n      <td>1.69</td>\n      <td>0.00</td>\n      <td>Yes</td>\n      <td>0.000000</td>\n      <td>0.000000</td>\n      <td>0.00</td>\n      <td>0</td>\n    </tr>\n  </tbody>\n</table>\n</div>"
     },
     "metadata": {}
    },
    {
     "output_type": "display_data",
     "data": {
      "text/plain": "IntProgress(value=0, description='Processing: ', max=3)",
      "application/vnd.jupyter.widget-view+json": {
       "version_major": 2,
       "version_minor": 0,
       "model_id": "8254eb73938345db849c54e053928d96"
      }
     },
     "metadata": {}
    },
    {
     "output_type": "display_data",
     "data": {
      "text/plain": "                                                                    \n                                                                    \nInitiated  . . . . . . . . . . . . . . . . . .              23:47:55\nStatus     . . . . . . . . . . . . . . . . . .  Loading Dependencies",
      "text/html": "<div>\n<style scoped>\n    .dataframe tbody tr th:only-of-type {\n        vertical-align: middle;\n    }\n\n    .dataframe tbody tr th {\n        vertical-align: top;\n    }\n\n    .dataframe thead th {\n        text-align: right;\n    }\n</style>\n<table border=\"1\" class=\"dataframe\">\n  <thead>\n    <tr style=\"text-align: right;\">\n      <th></th>\n      <th></th>\n      <th></th>\n    </tr>\n    <tr>\n      <th></th>\n      <th></th>\n      <th></th>\n    </tr>\n  </thead>\n  <tbody>\n    <tr>\n      <th>Initiated</th>\n      <td>. . . . . . . . . . . . . . . . . .</td>\n      <td>23:47:55</td>\n    </tr>\n    <tr>\n      <th>Status</th>\n      <td>. . . . . . . . . . . . . . . . . .</td>\n      <td>Loading Dependencies</td>\n    </tr>\n  </tbody>\n</table>\n</div>"
     },
     "metadata": {}
    },
    {
     "output_type": "error",
     "ename": "ValueError",
     "evalue": "Setting a random_state has no effect since shuffle is False. You should leave random_state to its default (None), or set shuffle=True.",
     "traceback": [
      "\u001b[0;31m---------------------------------------------------------------------------\u001b[0m",
      "\u001b[0;31mValueError\u001b[0m                                Traceback (most recent call last)",
      "\u001b[0;32m<ipython-input-389-ee6369b0d431>\u001b[0m in \u001b[0;36m<module>\u001b[0;34m\u001b[0m\n\u001b[1;32m      5\u001b[0m \u001b[0;32mfrom\u001b[0m \u001b[0mpycaret\u001b[0m\u001b[0;34m.\u001b[0m\u001b[0mclassification\u001b[0m \u001b[0;32mimport\u001b[0m \u001b[0;34m*\u001b[0m\u001b[0;34m\u001b[0m\u001b[0;34m\u001b[0m\u001b[0m\n\u001b[1;32m      6\u001b[0m \u001b[0;34m\u001b[0m\u001b[0m\n\u001b[0;32m----> 7\u001b[0;31m \u001b[0mexp_name\u001b[0m \u001b[0;34m=\u001b[0m \u001b[0msetup\u001b[0m\u001b[0;34m(\u001b[0m\u001b[0mdata\u001b[0m \u001b[0;34m=\u001b[0m \u001b[0mjuice\u001b[0m\u001b[0;34m,\u001b[0m  \u001b[0mtarget\u001b[0m \u001b[0;34m=\u001b[0m \u001b[0;34m'Purchase'\u001b[0m\u001b[0;34m)\u001b[0m\u001b[0;34m\u001b[0m\u001b[0;34m\u001b[0m\u001b[0m\n\u001b[0m\u001b[1;32m      8\u001b[0m \u001b[0;34m\u001b[0m\u001b[0m\n\u001b[1;32m      9\u001b[0m \u001b[0mbest_model\u001b[0m \u001b[0;34m=\u001b[0m \u001b[0mcompare_models\u001b[0m\u001b[0;34m(\u001b[0m\u001b[0;34m)\u001b[0m\u001b[0;34m\u001b[0m\u001b[0;34m\u001b[0m\u001b[0m\n",
      "\u001b[0;32m~/.local/lib/python3.8/site-packages/pycaret/classification.py\u001b[0m in \u001b[0;36msetup\u001b[0;34m(data, target, train_size, test_data, preprocess, imputation_type, iterative_imputation_iters, categorical_features, categorical_imputation, categorical_iterative_imputer, ordinal_features, high_cardinality_features, high_cardinality_method, numeric_features, numeric_imputation, numeric_iterative_imputer, date_features, ignore_features, normalize, normalize_method, transformation, transformation_method, handle_unknown_categorical, unknown_categorical_method, pca, pca_method, pca_components, ignore_low_variance, combine_rare_levels, rare_level_threshold, bin_numeric_features, remove_outliers, outliers_threshold, remove_multicollinearity, multicollinearity_threshold, remove_perfect_collinearity, create_clusters, cluster_iter, polynomial_features, polynomial_degree, trigonometry_features, polynomial_threshold, group_features, group_names, feature_selection, feature_selection_threshold, feature_selection_method, feature_interaction, feature_ratio, interaction_threshold, fix_imbalance, fix_imbalance_method, data_split_shuffle, data_split_stratify, fold_strategy, fold, fold_shuffle, fold_groups, n_jobs, use_gpu, custom_pipeline, html, session_id, log_experiment, experiment_name, log_plots, log_profile, log_data, silent, verbose, profile, profile_kwargs)\u001b[0m\n\u001b[1;32m    578\u001b[0m         \u001b[0mlog_plots\u001b[0m \u001b[0;34m=\u001b[0m \u001b[0;34m[\u001b[0m\u001b[0;34m\"auc\"\u001b[0m\u001b[0;34m,\u001b[0m \u001b[0;34m\"confusion_matrix\"\u001b[0m\u001b[0;34m,\u001b[0m \u001b[0;34m\"feature\"\u001b[0m\u001b[0;34m]\u001b[0m\u001b[0;34m\u001b[0m\u001b[0;34m\u001b[0m\u001b[0m\n\u001b[1;32m    579\u001b[0m \u001b[0;34m\u001b[0m\u001b[0m\n\u001b[0;32m--> 580\u001b[0;31m     return pycaret.internal.tabular.setup(\n\u001b[0m\u001b[1;32m    581\u001b[0m         \u001b[0mml_usecase\u001b[0m\u001b[0;34m=\u001b[0m\u001b[0;34m\"classification\"\u001b[0m\u001b[0;34m,\u001b[0m\u001b[0;34m\u001b[0m\u001b[0;34m\u001b[0m\u001b[0m\n\u001b[1;32m    582\u001b[0m         \u001b[0mavailable_plots\u001b[0m\u001b[0;34m=\u001b[0m\u001b[0mavailable_plots\u001b[0m\u001b[0;34m,\u001b[0m\u001b[0;34m\u001b[0m\u001b[0;34m\u001b[0m\u001b[0m\n",
      "\u001b[0;32m~/.local/lib/python3.8/site-packages/pycaret/internal/tabular.py\u001b[0m in \u001b[0;36msetup\u001b[0;34m(data, target, ml_usecase, available_plots, train_size, test_data, preprocess, imputation_type, iterative_imputation_iters, categorical_features, categorical_imputation, categorical_iterative_imputer, ordinal_features, high_cardinality_features, high_cardinality_method, numeric_features, numeric_imputation, numeric_iterative_imputer, date_features, ignore_features, normalize, normalize_method, transformation, transformation_method, handle_unknown_categorical, unknown_categorical_method, pca, pca_method, pca_components, ignore_low_variance, combine_rare_levels, rare_level_threshold, bin_numeric_features, remove_outliers, outliers_threshold, remove_multicollinearity, multicollinearity_threshold, remove_perfect_collinearity, create_clusters, cluster_iter, polynomial_features, polynomial_degree, trigonometry_features, polynomial_threshold, group_features, group_names, feature_selection, feature_selection_threshold, feature_selection_method, feature_interaction, feature_ratio, interaction_threshold, fix_imbalance, fix_imbalance_method, transform_target, transform_target_method, data_split_shuffle, data_split_stratify, fold_strategy, fold, fold_shuffle, fold_groups, n_jobs, use_gpu, custom_pipeline, html, session_id, log_experiment, experiment_name, log_plots, log_profile, log_data, silent, verbose, profile, profile_kwargs, display)\u001b[0m\n\u001b[1;32m   1215\u001b[0m         )\n\u001b[1;32m   1216\u001b[0m     \u001b[0;32melif\u001b[0m \u001b[0mfold_strategy\u001b[0m \u001b[0;34m==\u001b[0m \u001b[0;34m\"stratifiedkfold\"\u001b[0m\u001b[0;34m:\u001b[0m\u001b[0;34m\u001b[0m\u001b[0;34m\u001b[0m\u001b[0m\n\u001b[0;32m-> 1217\u001b[0;31m         fold_generator = StratifiedKFold(\n\u001b[0m\u001b[1;32m   1218\u001b[0m             \u001b[0mfold_param\u001b[0m\u001b[0;34m,\u001b[0m \u001b[0mrandom_state\u001b[0m\u001b[0;34m=\u001b[0m\u001b[0mseed\u001b[0m\u001b[0;34m,\u001b[0m \u001b[0mshuffle\u001b[0m\u001b[0;34m=\u001b[0m\u001b[0mfold_shuffle_param\u001b[0m\u001b[0;34m\u001b[0m\u001b[0;34m\u001b[0m\u001b[0m\n\u001b[1;32m   1219\u001b[0m         )\n",
      "\u001b[0;32m~/.local/lib/python3.8/site-packages/sklearn/utils/validation.py\u001b[0m in \u001b[0;36minner_f\u001b[0;34m(*args, **kwargs)\u001b[0m\n\u001b[1;32m     61\u001b[0m         \u001b[0mextra_args\u001b[0m \u001b[0;34m=\u001b[0m \u001b[0mlen\u001b[0m\u001b[0;34m(\u001b[0m\u001b[0margs\u001b[0m\u001b[0;34m)\u001b[0m \u001b[0;34m-\u001b[0m \u001b[0mlen\u001b[0m\u001b[0;34m(\u001b[0m\u001b[0mall_args\u001b[0m\u001b[0;34m)\u001b[0m\u001b[0;34m\u001b[0m\u001b[0;34m\u001b[0m\u001b[0m\n\u001b[1;32m     62\u001b[0m         \u001b[0;32mif\u001b[0m \u001b[0mextra_args\u001b[0m \u001b[0;34m>\u001b[0m \u001b[0;36m0\u001b[0m\u001b[0;34m:\u001b[0m\u001b[0;34m\u001b[0m\u001b[0;34m\u001b[0m\u001b[0m\n\u001b[0;32m---> 63\u001b[0;31m             \u001b[0;31m# ignore first 'self' argument for instance methods\u001b[0m\u001b[0;34m\u001b[0m\u001b[0;34m\u001b[0m\u001b[0;34m\u001b[0m\u001b[0m\n\u001b[0m\u001b[1;32m     64\u001b[0m             args_msg = ['{}={}'.format(name, arg)\n\u001b[1;32m     65\u001b[0m                         for name, arg in zip(kwonly_args[:extra_args],\n",
      "\u001b[0;32m~/.local/lib/python3.8/site-packages/sklearn/model_selection/_split.py\u001b[0m in \u001b[0;36m__init__\u001b[0;34m(self, n_splits, shuffle, random_state)\u001b[0m\n\u001b[1;32m    634\u001b[0m     \u001b[0mSee\u001b[0m \u001b[0malso\u001b[0m\u001b[0;34m\u001b[0m\u001b[0;34m\u001b[0m\u001b[0m\n\u001b[1;32m    635\u001b[0m     \u001b[0;34m-\u001b[0m\u001b[0;34m-\u001b[0m\u001b[0;34m-\u001b[0m\u001b[0;34m-\u001b[0m\u001b[0;34m-\u001b[0m\u001b[0;34m-\u001b[0m\u001b[0;34m-\u001b[0m\u001b[0;34m-\u001b[0m\u001b[0;34m\u001b[0m\u001b[0;34m\u001b[0m\u001b[0m\n\u001b[0;32m--> 636\u001b[0;31m     \u001b[0mRepeatedStratifiedKFold\u001b[0m\u001b[0;34m:\u001b[0m \u001b[0mRepeats\u001b[0m \u001b[0mStratified\u001b[0m \u001b[0mK\u001b[0m\u001b[0;34m-\u001b[0m\u001b[0mFold\u001b[0m \u001b[0mn\u001b[0m \u001b[0mtimes\u001b[0m\u001b[0;34m.\u001b[0m\u001b[0;34m\u001b[0m\u001b[0;34m\u001b[0m\u001b[0m\n\u001b[0m\u001b[1;32m    637\u001b[0m     \"\"\"\n\u001b[1;32m    638\u001b[0m     \u001b[0;34m@\u001b[0m\u001b[0m_deprecate_positional_args\u001b[0m\u001b[0;34m\u001b[0m\u001b[0;34m\u001b[0m\u001b[0m\n",
      "\u001b[0;32m~/.local/lib/python3.8/site-packages/sklearn/utils/validation.py\u001b[0m in \u001b[0;36minner_f\u001b[0;34m(*args, **kwargs)\u001b[0m\n\u001b[1;32m     61\u001b[0m         \u001b[0mextra_args\u001b[0m \u001b[0;34m=\u001b[0m \u001b[0mlen\u001b[0m\u001b[0;34m(\u001b[0m\u001b[0margs\u001b[0m\u001b[0;34m)\u001b[0m \u001b[0;34m-\u001b[0m \u001b[0mlen\u001b[0m\u001b[0;34m(\u001b[0m\u001b[0mall_args\u001b[0m\u001b[0;34m)\u001b[0m\u001b[0;34m\u001b[0m\u001b[0;34m\u001b[0m\u001b[0m\n\u001b[1;32m     62\u001b[0m         \u001b[0;32mif\u001b[0m \u001b[0mextra_args\u001b[0m \u001b[0;34m>\u001b[0m \u001b[0;36m0\u001b[0m\u001b[0;34m:\u001b[0m\u001b[0;34m\u001b[0m\u001b[0;34m\u001b[0m\u001b[0m\n\u001b[0;32m---> 63\u001b[0;31m             \u001b[0;31m# ignore first 'self' argument for instance methods\u001b[0m\u001b[0;34m\u001b[0m\u001b[0;34m\u001b[0m\u001b[0;34m\u001b[0m\u001b[0m\n\u001b[0m\u001b[1;32m     64\u001b[0m             args_msg = ['{}={}'.format(name, arg)\n\u001b[1;32m     65\u001b[0m                         for name, arg in zip(kwonly_args[:extra_args],\n",
      "\u001b[0;32m~/.local/lib/python3.8/site-packages/sklearn/model_selection/_split.py\u001b[0m in \u001b[0;36m__init__\u001b[0;34m(self, n_splits, shuffle, random_state)\u001b[0m\n\u001b[1;32m    288\u001b[0m             raise TypeError(\"shuffle must be True or False;\"\n\u001b[1;32m    289\u001b[0m                             \" got {0}\".format(shuffle))\n\u001b[0;32m--> 290\u001b[0;31m \u001b[0;34m\u001b[0m\u001b[0m\n\u001b[0m\u001b[1;32m    291\u001b[0m         \u001b[0;32mif\u001b[0m \u001b[0;32mnot\u001b[0m \u001b[0mshuffle\u001b[0m \u001b[0;32mand\u001b[0m \u001b[0mrandom_state\u001b[0m \u001b[0;32mis\u001b[0m \u001b[0;32mnot\u001b[0m \u001b[0;32mNone\u001b[0m\u001b[0;34m:\u001b[0m  \u001b[0;31m# None is the default\u001b[0m\u001b[0;34m\u001b[0m\u001b[0;34m\u001b[0m\u001b[0m\n\u001b[1;32m    292\u001b[0m             \u001b[0;31m# TODO 0.24: raise a ValueError instead of a warning\u001b[0m\u001b[0;34m\u001b[0m\u001b[0;34m\u001b[0m\u001b[0;34m\u001b[0m\u001b[0m\n",
      "\u001b[0;31mValueError\u001b[0m: Setting a random_state has no effect since shuffle is False. You should leave random_state to its default (None), or set shuffle=True."
     ]
    }
   ],
   "source": [
    "from pycaret.datasets import get_data\n",
    "\n",
    "juice = get_data('juice')\n",
    "\n",
    "from pycaret.classification import *\n",
    "\n",
    "exp_name = setup(data = juice,  target = 'Purchase')\n",
    "\n",
    "best_model = compare_models()"
   ]
  },
  {
   "cell_type": "code",
   "execution_count": 376,
   "metadata": {},
   "outputs": [],
   "source": []
  },
  {
   "cell_type": "code",
   "execution_count": 378,
   "metadata": {},
   "outputs": [
    {
     "output_type": "display_data",
     "data": {
      "text/plain": "<pandas.io.formats.style.Styler at 0x7f7cd9943310>",
      "text/html": "<style  type=\"text/css\" >\n</style><table id=\"T_32eb0740_47ca_11eb_aa86_c93bc128ca5e\" ><thead>    <tr>        <th class=\"blank level0\" ></th>        <th class=\"col_heading level0 col0\" >Description</th>        <th class=\"col_heading level0 col1\" >Value</th>    </tr></thead><tbody>\n                <tr>\n                        <th id=\"T_32eb0740_47ca_11eb_aa86_c93bc128ca5elevel0_row0\" class=\"row_heading level0 row0\" >0</th>\n                        <td id=\"T_32eb0740_47ca_11eb_aa86_c93bc128ca5erow0_col0\" class=\"data row0 col0\" >session_id</td>\n                        <td id=\"T_32eb0740_47ca_11eb_aa86_c93bc128ca5erow0_col1\" class=\"data row0 col1\" >7064</td>\n            </tr>\n            <tr>\n                        <th id=\"T_32eb0740_47ca_11eb_aa86_c93bc128ca5elevel0_row1\" class=\"row_heading level0 row1\" >1</th>\n                        <td id=\"T_32eb0740_47ca_11eb_aa86_c93bc128ca5erow1_col0\" class=\"data row1 col0\" >Target</td>\n                        <td id=\"T_32eb0740_47ca_11eb_aa86_c93bc128ca5erow1_col1\" class=\"data row1 col1\" >price</td>\n            </tr>\n            <tr>\n                        <th id=\"T_32eb0740_47ca_11eb_aa86_c93bc128ca5elevel0_row2\" class=\"row_heading level0 row2\" >2</th>\n                        <td id=\"T_32eb0740_47ca_11eb_aa86_c93bc128ca5erow2_col0\" class=\"data row2 col0\" >Target Type</td>\n                        <td id=\"T_32eb0740_47ca_11eb_aa86_c93bc128ca5erow2_col1\" class=\"data row2 col1\" >Binary</td>\n            </tr>\n            <tr>\n                        <th id=\"T_32eb0740_47ca_11eb_aa86_c93bc128ca5elevel0_row3\" class=\"row_heading level0 row3\" >3</th>\n                        <td id=\"T_32eb0740_47ca_11eb_aa86_c93bc128ca5erow3_col0\" class=\"data row3 col0\" >Label Encoded</td>\n                        <td id=\"T_32eb0740_47ca_11eb_aa86_c93bc128ca5erow3_col1\" class=\"data row3 col1\" >0: 0, 1: 1</td>\n            </tr>\n            <tr>\n                        <th id=\"T_32eb0740_47ca_11eb_aa86_c93bc128ca5elevel0_row4\" class=\"row_heading level0 row4\" >4</th>\n                        <td id=\"T_32eb0740_47ca_11eb_aa86_c93bc128ca5erow4_col0\" class=\"data row4 col0\" >Original Data</td>\n                        <td id=\"T_32eb0740_47ca_11eb_aa86_c93bc128ca5erow4_col1\" class=\"data row4 col1\" >(205, 6)</td>\n            </tr>\n            <tr>\n                        <th id=\"T_32eb0740_47ca_11eb_aa86_c93bc128ca5elevel0_row5\" class=\"row_heading level0 row5\" >5</th>\n                        <td id=\"T_32eb0740_47ca_11eb_aa86_c93bc128ca5erow5_col0\" class=\"data row5 col0\" >Missing Values</td>\n                        <td id=\"T_32eb0740_47ca_11eb_aa86_c93bc128ca5erow5_col1\" class=\"data row5 col1\" >False</td>\n            </tr>\n            <tr>\n                        <th id=\"T_32eb0740_47ca_11eb_aa86_c93bc128ca5elevel0_row6\" class=\"row_heading level0 row6\" >6</th>\n                        <td id=\"T_32eb0740_47ca_11eb_aa86_c93bc128ca5erow6_col0\" class=\"data row6 col0\" >Numeric Features</td>\n                        <td id=\"T_32eb0740_47ca_11eb_aa86_c93bc128ca5erow6_col1\" class=\"data row6 col1\" >5</td>\n            </tr>\n            <tr>\n                        <th id=\"T_32eb0740_47ca_11eb_aa86_c93bc128ca5elevel0_row7\" class=\"row_heading level0 row7\" >7</th>\n                        <td id=\"T_32eb0740_47ca_11eb_aa86_c93bc128ca5erow7_col0\" class=\"data row7 col0\" >Categorical Features</td>\n                        <td id=\"T_32eb0740_47ca_11eb_aa86_c93bc128ca5erow7_col1\" class=\"data row7 col1\" >0</td>\n            </tr>\n            <tr>\n                        <th id=\"T_32eb0740_47ca_11eb_aa86_c93bc128ca5elevel0_row8\" class=\"row_heading level0 row8\" >8</th>\n                        <td id=\"T_32eb0740_47ca_11eb_aa86_c93bc128ca5erow8_col0\" class=\"data row8 col0\" >Ordinal Features</td>\n                        <td id=\"T_32eb0740_47ca_11eb_aa86_c93bc128ca5erow8_col1\" class=\"data row8 col1\" >False</td>\n            </tr>\n            <tr>\n                        <th id=\"T_32eb0740_47ca_11eb_aa86_c93bc128ca5elevel0_row9\" class=\"row_heading level0 row9\" >9</th>\n                        <td id=\"T_32eb0740_47ca_11eb_aa86_c93bc128ca5erow9_col0\" class=\"data row9 col0\" >High Cardinality Features</td>\n                        <td id=\"T_32eb0740_47ca_11eb_aa86_c93bc128ca5erow9_col1\" class=\"data row9 col1\" >False</td>\n            </tr>\n            <tr>\n                        <th id=\"T_32eb0740_47ca_11eb_aa86_c93bc128ca5elevel0_row10\" class=\"row_heading level0 row10\" >10</th>\n                        <td id=\"T_32eb0740_47ca_11eb_aa86_c93bc128ca5erow10_col0\" class=\"data row10 col0\" >High Cardinality Method</td>\n                        <td id=\"T_32eb0740_47ca_11eb_aa86_c93bc128ca5erow10_col1\" class=\"data row10 col1\" >None</td>\n            </tr>\n            <tr>\n                        <th id=\"T_32eb0740_47ca_11eb_aa86_c93bc128ca5elevel0_row11\" class=\"row_heading level0 row11\" >11</th>\n                        <td id=\"T_32eb0740_47ca_11eb_aa86_c93bc128ca5erow11_col0\" class=\"data row11 col0\" >Transformed Train Set</td>\n                        <td id=\"T_32eb0740_47ca_11eb_aa86_c93bc128ca5erow11_col1\" class=\"data row11 col1\" >(143, 5)</td>\n            </tr>\n            <tr>\n                        <th id=\"T_32eb0740_47ca_11eb_aa86_c93bc128ca5elevel0_row12\" class=\"row_heading level0 row12\" >12</th>\n                        <td id=\"T_32eb0740_47ca_11eb_aa86_c93bc128ca5erow12_col0\" class=\"data row12 col0\" >Transformed Test Set</td>\n                        <td id=\"T_32eb0740_47ca_11eb_aa86_c93bc128ca5erow12_col1\" class=\"data row12 col1\" >(62, 5)</td>\n            </tr>\n            <tr>\n                        <th id=\"T_32eb0740_47ca_11eb_aa86_c93bc128ca5elevel0_row13\" class=\"row_heading level0 row13\" >13</th>\n                        <td id=\"T_32eb0740_47ca_11eb_aa86_c93bc128ca5erow13_col0\" class=\"data row13 col0\" >Shuffle Train-Test</td>\n                        <td id=\"T_32eb0740_47ca_11eb_aa86_c93bc128ca5erow13_col1\" class=\"data row13 col1\" >True</td>\n            </tr>\n            <tr>\n                        <th id=\"T_32eb0740_47ca_11eb_aa86_c93bc128ca5elevel0_row14\" class=\"row_heading level0 row14\" >14</th>\n                        <td id=\"T_32eb0740_47ca_11eb_aa86_c93bc128ca5erow14_col0\" class=\"data row14 col0\" >Stratify Train-Test</td>\n                        <td id=\"T_32eb0740_47ca_11eb_aa86_c93bc128ca5erow14_col1\" class=\"data row14 col1\" >False</td>\n            </tr>\n            <tr>\n                        <th id=\"T_32eb0740_47ca_11eb_aa86_c93bc128ca5elevel0_row15\" class=\"row_heading level0 row15\" >15</th>\n                        <td id=\"T_32eb0740_47ca_11eb_aa86_c93bc128ca5erow15_col0\" class=\"data row15 col0\" >Fold Generator</td>\n                        <td id=\"T_32eb0740_47ca_11eb_aa86_c93bc128ca5erow15_col1\" class=\"data row15 col1\" >StratifiedKFold</td>\n            </tr>\n            <tr>\n                        <th id=\"T_32eb0740_47ca_11eb_aa86_c93bc128ca5elevel0_row16\" class=\"row_heading level0 row16\" >16</th>\n                        <td id=\"T_32eb0740_47ca_11eb_aa86_c93bc128ca5erow16_col0\" class=\"data row16 col0\" >Fold Number</td>\n                        <td id=\"T_32eb0740_47ca_11eb_aa86_c93bc128ca5erow16_col1\" class=\"data row16 col1\" >10</td>\n            </tr>\n            <tr>\n                        <th id=\"T_32eb0740_47ca_11eb_aa86_c93bc128ca5elevel0_row17\" class=\"row_heading level0 row17\" >17</th>\n                        <td id=\"T_32eb0740_47ca_11eb_aa86_c93bc128ca5erow17_col0\" class=\"data row17 col0\" >CPU Jobs</td>\n                        <td id=\"T_32eb0740_47ca_11eb_aa86_c93bc128ca5erow17_col1\" class=\"data row17 col1\" >-1</td>\n            </tr>\n            <tr>\n                        <th id=\"T_32eb0740_47ca_11eb_aa86_c93bc128ca5elevel0_row18\" class=\"row_heading level0 row18\" >18</th>\n                        <td id=\"T_32eb0740_47ca_11eb_aa86_c93bc128ca5erow18_col0\" class=\"data row18 col0\" >Use GPU</td>\n                        <td id=\"T_32eb0740_47ca_11eb_aa86_c93bc128ca5erow18_col1\" class=\"data row18 col1\" >False</td>\n            </tr>\n            <tr>\n                        <th id=\"T_32eb0740_47ca_11eb_aa86_c93bc128ca5elevel0_row19\" class=\"row_heading level0 row19\" >19</th>\n                        <td id=\"T_32eb0740_47ca_11eb_aa86_c93bc128ca5erow19_col0\" class=\"data row19 col0\" >Log Experiment</td>\n                        <td id=\"T_32eb0740_47ca_11eb_aa86_c93bc128ca5erow19_col1\" class=\"data row19 col1\" >False</td>\n            </tr>\n            <tr>\n                        <th id=\"T_32eb0740_47ca_11eb_aa86_c93bc128ca5elevel0_row20\" class=\"row_heading level0 row20\" >20</th>\n                        <td id=\"T_32eb0740_47ca_11eb_aa86_c93bc128ca5erow20_col0\" class=\"data row20 col0\" >Experiment Name</td>\n                        <td id=\"T_32eb0740_47ca_11eb_aa86_c93bc128ca5erow20_col1\" class=\"data row20 col1\" >clf-default-name</td>\n            </tr>\n            <tr>\n                        <th id=\"T_32eb0740_47ca_11eb_aa86_c93bc128ca5elevel0_row21\" class=\"row_heading level0 row21\" >21</th>\n                        <td id=\"T_32eb0740_47ca_11eb_aa86_c93bc128ca5erow21_col0\" class=\"data row21 col0\" >USI</td>\n                        <td id=\"T_32eb0740_47ca_11eb_aa86_c93bc128ca5erow21_col1\" class=\"data row21 col1\" >ce13</td>\n            </tr>\n            <tr>\n                        <th id=\"T_32eb0740_47ca_11eb_aa86_c93bc128ca5elevel0_row22\" class=\"row_heading level0 row22\" >22</th>\n                        <td id=\"T_32eb0740_47ca_11eb_aa86_c93bc128ca5erow22_col0\" class=\"data row22 col0\" >Imputation Type</td>\n                        <td id=\"T_32eb0740_47ca_11eb_aa86_c93bc128ca5erow22_col1\" class=\"data row22 col1\" >simple</td>\n            </tr>\n            <tr>\n                        <th id=\"T_32eb0740_47ca_11eb_aa86_c93bc128ca5elevel0_row23\" class=\"row_heading level0 row23\" >23</th>\n                        <td id=\"T_32eb0740_47ca_11eb_aa86_c93bc128ca5erow23_col0\" class=\"data row23 col0\" >Iterative Imputation Iteration</td>\n                        <td id=\"T_32eb0740_47ca_11eb_aa86_c93bc128ca5erow23_col1\" class=\"data row23 col1\" >None</td>\n            </tr>\n            <tr>\n                        <th id=\"T_32eb0740_47ca_11eb_aa86_c93bc128ca5elevel0_row24\" class=\"row_heading level0 row24\" >24</th>\n                        <td id=\"T_32eb0740_47ca_11eb_aa86_c93bc128ca5erow24_col0\" class=\"data row24 col0\" >Numeric Imputer</td>\n                        <td id=\"T_32eb0740_47ca_11eb_aa86_c93bc128ca5erow24_col1\" class=\"data row24 col1\" >mean</td>\n            </tr>\n            <tr>\n                        <th id=\"T_32eb0740_47ca_11eb_aa86_c93bc128ca5elevel0_row25\" class=\"row_heading level0 row25\" >25</th>\n                        <td id=\"T_32eb0740_47ca_11eb_aa86_c93bc128ca5erow25_col0\" class=\"data row25 col0\" >Iterative Imputation Numeric Model</td>\n                        <td id=\"T_32eb0740_47ca_11eb_aa86_c93bc128ca5erow25_col1\" class=\"data row25 col1\" >None</td>\n            </tr>\n            <tr>\n                        <th id=\"T_32eb0740_47ca_11eb_aa86_c93bc128ca5elevel0_row26\" class=\"row_heading level0 row26\" >26</th>\n                        <td id=\"T_32eb0740_47ca_11eb_aa86_c93bc128ca5erow26_col0\" class=\"data row26 col0\" >Categorical Imputer</td>\n                        <td id=\"T_32eb0740_47ca_11eb_aa86_c93bc128ca5erow26_col1\" class=\"data row26 col1\" >constant</td>\n            </tr>\n            <tr>\n                        <th id=\"T_32eb0740_47ca_11eb_aa86_c93bc128ca5elevel0_row27\" class=\"row_heading level0 row27\" >27</th>\n                        <td id=\"T_32eb0740_47ca_11eb_aa86_c93bc128ca5erow27_col0\" class=\"data row27 col0\" >Iterative Imputation Categorical Model</td>\n                        <td id=\"T_32eb0740_47ca_11eb_aa86_c93bc128ca5erow27_col1\" class=\"data row27 col1\" >None</td>\n            </tr>\n            <tr>\n                        <th id=\"T_32eb0740_47ca_11eb_aa86_c93bc128ca5elevel0_row28\" class=\"row_heading level0 row28\" >28</th>\n                        <td id=\"T_32eb0740_47ca_11eb_aa86_c93bc128ca5erow28_col0\" class=\"data row28 col0\" >Unknown Categoricals Handling</td>\n                        <td id=\"T_32eb0740_47ca_11eb_aa86_c93bc128ca5erow28_col1\" class=\"data row28 col1\" >least_frequent</td>\n            </tr>\n            <tr>\n                        <th id=\"T_32eb0740_47ca_11eb_aa86_c93bc128ca5elevel0_row29\" class=\"row_heading level0 row29\" >29</th>\n                        <td id=\"T_32eb0740_47ca_11eb_aa86_c93bc128ca5erow29_col0\" class=\"data row29 col0\" >Normalize</td>\n                        <td id=\"T_32eb0740_47ca_11eb_aa86_c93bc128ca5erow29_col1\" class=\"data row29 col1\" >False</td>\n            </tr>\n            <tr>\n                        <th id=\"T_32eb0740_47ca_11eb_aa86_c93bc128ca5elevel0_row30\" class=\"row_heading level0 row30\" >30</th>\n                        <td id=\"T_32eb0740_47ca_11eb_aa86_c93bc128ca5erow30_col0\" class=\"data row30 col0\" >Normalize Method</td>\n                        <td id=\"T_32eb0740_47ca_11eb_aa86_c93bc128ca5erow30_col1\" class=\"data row30 col1\" >None</td>\n            </tr>\n            <tr>\n                        <th id=\"T_32eb0740_47ca_11eb_aa86_c93bc128ca5elevel0_row31\" class=\"row_heading level0 row31\" >31</th>\n                        <td id=\"T_32eb0740_47ca_11eb_aa86_c93bc128ca5erow31_col0\" class=\"data row31 col0\" >Transformation</td>\n                        <td id=\"T_32eb0740_47ca_11eb_aa86_c93bc128ca5erow31_col1\" class=\"data row31 col1\" >False</td>\n            </tr>\n            <tr>\n                        <th id=\"T_32eb0740_47ca_11eb_aa86_c93bc128ca5elevel0_row32\" class=\"row_heading level0 row32\" >32</th>\n                        <td id=\"T_32eb0740_47ca_11eb_aa86_c93bc128ca5erow32_col0\" class=\"data row32 col0\" >Transformation Method</td>\n                        <td id=\"T_32eb0740_47ca_11eb_aa86_c93bc128ca5erow32_col1\" class=\"data row32 col1\" >None</td>\n            </tr>\n            <tr>\n                        <th id=\"T_32eb0740_47ca_11eb_aa86_c93bc128ca5elevel0_row33\" class=\"row_heading level0 row33\" >33</th>\n                        <td id=\"T_32eb0740_47ca_11eb_aa86_c93bc128ca5erow33_col0\" class=\"data row33 col0\" >PCA</td>\n                        <td id=\"T_32eb0740_47ca_11eb_aa86_c93bc128ca5erow33_col1\" class=\"data row33 col1\" >False</td>\n            </tr>\n            <tr>\n                        <th id=\"T_32eb0740_47ca_11eb_aa86_c93bc128ca5elevel0_row34\" class=\"row_heading level0 row34\" >34</th>\n                        <td id=\"T_32eb0740_47ca_11eb_aa86_c93bc128ca5erow34_col0\" class=\"data row34 col0\" >PCA Method</td>\n                        <td id=\"T_32eb0740_47ca_11eb_aa86_c93bc128ca5erow34_col1\" class=\"data row34 col1\" >None</td>\n            </tr>\n            <tr>\n                        <th id=\"T_32eb0740_47ca_11eb_aa86_c93bc128ca5elevel0_row35\" class=\"row_heading level0 row35\" >35</th>\n                        <td id=\"T_32eb0740_47ca_11eb_aa86_c93bc128ca5erow35_col0\" class=\"data row35 col0\" >PCA Components</td>\n                        <td id=\"T_32eb0740_47ca_11eb_aa86_c93bc128ca5erow35_col1\" class=\"data row35 col1\" >None</td>\n            </tr>\n            <tr>\n                        <th id=\"T_32eb0740_47ca_11eb_aa86_c93bc128ca5elevel0_row36\" class=\"row_heading level0 row36\" >36</th>\n                        <td id=\"T_32eb0740_47ca_11eb_aa86_c93bc128ca5erow36_col0\" class=\"data row36 col0\" >Ignore Low Variance</td>\n                        <td id=\"T_32eb0740_47ca_11eb_aa86_c93bc128ca5erow36_col1\" class=\"data row36 col1\" >False</td>\n            </tr>\n            <tr>\n                        <th id=\"T_32eb0740_47ca_11eb_aa86_c93bc128ca5elevel0_row37\" class=\"row_heading level0 row37\" >37</th>\n                        <td id=\"T_32eb0740_47ca_11eb_aa86_c93bc128ca5erow37_col0\" class=\"data row37 col0\" >Combine Rare Levels</td>\n                        <td id=\"T_32eb0740_47ca_11eb_aa86_c93bc128ca5erow37_col1\" class=\"data row37 col1\" >False</td>\n            </tr>\n            <tr>\n                        <th id=\"T_32eb0740_47ca_11eb_aa86_c93bc128ca5elevel0_row38\" class=\"row_heading level0 row38\" >38</th>\n                        <td id=\"T_32eb0740_47ca_11eb_aa86_c93bc128ca5erow38_col0\" class=\"data row38 col0\" >Rare Level Threshold</td>\n                        <td id=\"T_32eb0740_47ca_11eb_aa86_c93bc128ca5erow38_col1\" class=\"data row38 col1\" >None</td>\n            </tr>\n            <tr>\n                        <th id=\"T_32eb0740_47ca_11eb_aa86_c93bc128ca5elevel0_row39\" class=\"row_heading level0 row39\" >39</th>\n                        <td id=\"T_32eb0740_47ca_11eb_aa86_c93bc128ca5erow39_col0\" class=\"data row39 col0\" >Numeric Binning</td>\n                        <td id=\"T_32eb0740_47ca_11eb_aa86_c93bc128ca5erow39_col1\" class=\"data row39 col1\" >False</td>\n            </tr>\n            <tr>\n                        <th id=\"T_32eb0740_47ca_11eb_aa86_c93bc128ca5elevel0_row40\" class=\"row_heading level0 row40\" >40</th>\n                        <td id=\"T_32eb0740_47ca_11eb_aa86_c93bc128ca5erow40_col0\" class=\"data row40 col0\" >Remove Outliers</td>\n                        <td id=\"T_32eb0740_47ca_11eb_aa86_c93bc128ca5erow40_col1\" class=\"data row40 col1\" >False</td>\n            </tr>\n            <tr>\n                        <th id=\"T_32eb0740_47ca_11eb_aa86_c93bc128ca5elevel0_row41\" class=\"row_heading level0 row41\" >41</th>\n                        <td id=\"T_32eb0740_47ca_11eb_aa86_c93bc128ca5erow41_col0\" class=\"data row41 col0\" >Outliers Threshold</td>\n                        <td id=\"T_32eb0740_47ca_11eb_aa86_c93bc128ca5erow41_col1\" class=\"data row41 col1\" >None</td>\n            </tr>\n            <tr>\n                        <th id=\"T_32eb0740_47ca_11eb_aa86_c93bc128ca5elevel0_row42\" class=\"row_heading level0 row42\" >42</th>\n                        <td id=\"T_32eb0740_47ca_11eb_aa86_c93bc128ca5erow42_col0\" class=\"data row42 col0\" >Remove Multicollinearity</td>\n                        <td id=\"T_32eb0740_47ca_11eb_aa86_c93bc128ca5erow42_col1\" class=\"data row42 col1\" >False</td>\n            </tr>\n            <tr>\n                        <th id=\"T_32eb0740_47ca_11eb_aa86_c93bc128ca5elevel0_row43\" class=\"row_heading level0 row43\" >43</th>\n                        <td id=\"T_32eb0740_47ca_11eb_aa86_c93bc128ca5erow43_col0\" class=\"data row43 col0\" >Multicollinearity Threshold</td>\n                        <td id=\"T_32eb0740_47ca_11eb_aa86_c93bc128ca5erow43_col1\" class=\"data row43 col1\" >None</td>\n            </tr>\n            <tr>\n                        <th id=\"T_32eb0740_47ca_11eb_aa86_c93bc128ca5elevel0_row44\" class=\"row_heading level0 row44\" >44</th>\n                        <td id=\"T_32eb0740_47ca_11eb_aa86_c93bc128ca5erow44_col0\" class=\"data row44 col0\" >Clustering</td>\n                        <td id=\"T_32eb0740_47ca_11eb_aa86_c93bc128ca5erow44_col1\" class=\"data row44 col1\" >False</td>\n            </tr>\n            <tr>\n                        <th id=\"T_32eb0740_47ca_11eb_aa86_c93bc128ca5elevel0_row45\" class=\"row_heading level0 row45\" >45</th>\n                        <td id=\"T_32eb0740_47ca_11eb_aa86_c93bc128ca5erow45_col0\" class=\"data row45 col0\" >Clustering Iteration</td>\n                        <td id=\"T_32eb0740_47ca_11eb_aa86_c93bc128ca5erow45_col1\" class=\"data row45 col1\" >None</td>\n            </tr>\n            <tr>\n                        <th id=\"T_32eb0740_47ca_11eb_aa86_c93bc128ca5elevel0_row46\" class=\"row_heading level0 row46\" >46</th>\n                        <td id=\"T_32eb0740_47ca_11eb_aa86_c93bc128ca5erow46_col0\" class=\"data row46 col0\" >Polynomial Features</td>\n                        <td id=\"T_32eb0740_47ca_11eb_aa86_c93bc128ca5erow46_col1\" class=\"data row46 col1\" >False</td>\n            </tr>\n            <tr>\n                        <th id=\"T_32eb0740_47ca_11eb_aa86_c93bc128ca5elevel0_row47\" class=\"row_heading level0 row47\" >47</th>\n                        <td id=\"T_32eb0740_47ca_11eb_aa86_c93bc128ca5erow47_col0\" class=\"data row47 col0\" >Polynomial Degree</td>\n                        <td id=\"T_32eb0740_47ca_11eb_aa86_c93bc128ca5erow47_col1\" class=\"data row47 col1\" >None</td>\n            </tr>\n            <tr>\n                        <th id=\"T_32eb0740_47ca_11eb_aa86_c93bc128ca5elevel0_row48\" class=\"row_heading level0 row48\" >48</th>\n                        <td id=\"T_32eb0740_47ca_11eb_aa86_c93bc128ca5erow48_col0\" class=\"data row48 col0\" >Trignometry Features</td>\n                        <td id=\"T_32eb0740_47ca_11eb_aa86_c93bc128ca5erow48_col1\" class=\"data row48 col1\" >False</td>\n            </tr>\n            <tr>\n                        <th id=\"T_32eb0740_47ca_11eb_aa86_c93bc128ca5elevel0_row49\" class=\"row_heading level0 row49\" >49</th>\n                        <td id=\"T_32eb0740_47ca_11eb_aa86_c93bc128ca5erow49_col0\" class=\"data row49 col0\" >Polynomial Threshold</td>\n                        <td id=\"T_32eb0740_47ca_11eb_aa86_c93bc128ca5erow49_col1\" class=\"data row49 col1\" >None</td>\n            </tr>\n            <tr>\n                        <th id=\"T_32eb0740_47ca_11eb_aa86_c93bc128ca5elevel0_row50\" class=\"row_heading level0 row50\" >50</th>\n                        <td id=\"T_32eb0740_47ca_11eb_aa86_c93bc128ca5erow50_col0\" class=\"data row50 col0\" >Group Features</td>\n                        <td id=\"T_32eb0740_47ca_11eb_aa86_c93bc128ca5erow50_col1\" class=\"data row50 col1\" >False</td>\n            </tr>\n            <tr>\n                        <th id=\"T_32eb0740_47ca_11eb_aa86_c93bc128ca5elevel0_row51\" class=\"row_heading level0 row51\" >51</th>\n                        <td id=\"T_32eb0740_47ca_11eb_aa86_c93bc128ca5erow51_col0\" class=\"data row51 col0\" >Feature Selection</td>\n                        <td id=\"T_32eb0740_47ca_11eb_aa86_c93bc128ca5erow51_col1\" class=\"data row51 col1\" >False</td>\n            </tr>\n            <tr>\n                        <th id=\"T_32eb0740_47ca_11eb_aa86_c93bc128ca5elevel0_row52\" class=\"row_heading level0 row52\" >52</th>\n                        <td id=\"T_32eb0740_47ca_11eb_aa86_c93bc128ca5erow52_col0\" class=\"data row52 col0\" >Features Selection Threshold</td>\n                        <td id=\"T_32eb0740_47ca_11eb_aa86_c93bc128ca5erow52_col1\" class=\"data row52 col1\" >None</td>\n            </tr>\n            <tr>\n                        <th id=\"T_32eb0740_47ca_11eb_aa86_c93bc128ca5elevel0_row53\" class=\"row_heading level0 row53\" >53</th>\n                        <td id=\"T_32eb0740_47ca_11eb_aa86_c93bc128ca5erow53_col0\" class=\"data row53 col0\" >Feature Interaction</td>\n                        <td id=\"T_32eb0740_47ca_11eb_aa86_c93bc128ca5erow53_col1\" class=\"data row53 col1\" >False</td>\n            </tr>\n            <tr>\n                        <th id=\"T_32eb0740_47ca_11eb_aa86_c93bc128ca5elevel0_row54\" class=\"row_heading level0 row54\" >54</th>\n                        <td id=\"T_32eb0740_47ca_11eb_aa86_c93bc128ca5erow54_col0\" class=\"data row54 col0\" >Feature Ratio</td>\n                        <td id=\"T_32eb0740_47ca_11eb_aa86_c93bc128ca5erow54_col1\" class=\"data row54 col1\" >False</td>\n            </tr>\n            <tr>\n                        <th id=\"T_32eb0740_47ca_11eb_aa86_c93bc128ca5elevel0_row55\" class=\"row_heading level0 row55\" >55</th>\n                        <td id=\"T_32eb0740_47ca_11eb_aa86_c93bc128ca5erow55_col0\" class=\"data row55 col0\" >Interaction Threshold</td>\n                        <td id=\"T_32eb0740_47ca_11eb_aa86_c93bc128ca5erow55_col1\" class=\"data row55 col1\" >None</td>\n            </tr>\n            <tr>\n                        <th id=\"T_32eb0740_47ca_11eb_aa86_c93bc128ca5elevel0_row56\" class=\"row_heading level0 row56\" >56</th>\n                        <td id=\"T_32eb0740_47ca_11eb_aa86_c93bc128ca5erow56_col0\" class=\"data row56 col0\" >Fix Imbalance</td>\n                        <td id=\"T_32eb0740_47ca_11eb_aa86_c93bc128ca5erow56_col1\" class=\"data row56 col1\" >False</td>\n            </tr>\n            <tr>\n                        <th id=\"T_32eb0740_47ca_11eb_aa86_c93bc128ca5elevel0_row57\" class=\"row_heading level0 row57\" >57</th>\n                        <td id=\"T_32eb0740_47ca_11eb_aa86_c93bc128ca5erow57_col0\" class=\"data row57 col0\" >Fix Imbalance Method</td>\n                        <td id=\"T_32eb0740_47ca_11eb_aa86_c93bc128ca5erow57_col1\" class=\"data row57 col1\" >SMOTE</td>\n            </tr>\n    </tbody></table>"
     },
     "metadata": {}
    },
    {
     "output_type": "error",
     "ename": "AttributeError",
     "evalue": "'Simple_Imputer' object has no attribute 'fill_value_categorical'",
     "traceback": [
      "\u001b[0;31m---------------------------------------------------------------------------\u001b[0m",
      "\u001b[0;31mAttributeError\u001b[0m                            Traceback (most recent call last)",
      "\u001b[0;32m<ipython-input-378-b15ef5f31daa>\u001b[0m in \u001b[0;36m<module>\u001b[0;34m\u001b[0m\n\u001b[0;32m----> 1\u001b[0;31m \u001b[0mexp1\u001b[0m \u001b[0;34m=\u001b[0m \u001b[0msetup\u001b[0m\u001b[0;34m(\u001b[0m\u001b[0mdata1\u001b[0m\u001b[0;34m,\u001b[0m \u001b[0mtarget\u001b[0m\u001b[0;34m=\u001b[0m\u001b[0;34m\"price\"\u001b[0m\u001b[0;34m,\u001b[0m \u001b[0mfold_shuffle\u001b[0m\u001b[0;34m=\u001b[0m\u001b[0;32mTrue\u001b[0m\u001b[0;34m)\u001b[0m\u001b[0;34m\u001b[0m\u001b[0;34m\u001b[0m\u001b[0m\n\u001b[0m",
      "\u001b[0;32m~/.local/lib/python3.8/site-packages/pycaret/classification.py\u001b[0m in \u001b[0;36msetup\u001b[0;34m(data, target, train_size, test_data, preprocess, imputation_type, iterative_imputation_iters, categorical_features, categorical_imputation, categorical_iterative_imputer, ordinal_features, high_cardinality_features, high_cardinality_method, numeric_features, numeric_imputation, numeric_iterative_imputer, date_features, ignore_features, normalize, normalize_method, transformation, transformation_method, handle_unknown_categorical, unknown_categorical_method, pca, pca_method, pca_components, ignore_low_variance, combine_rare_levels, rare_level_threshold, bin_numeric_features, remove_outliers, outliers_threshold, remove_multicollinearity, multicollinearity_threshold, remove_perfect_collinearity, create_clusters, cluster_iter, polynomial_features, polynomial_degree, trigonometry_features, polynomial_threshold, group_features, group_names, feature_selection, feature_selection_threshold, feature_selection_method, feature_interaction, feature_ratio, interaction_threshold, fix_imbalance, fix_imbalance_method, data_split_shuffle, data_split_stratify, fold_strategy, fold, fold_shuffle, fold_groups, n_jobs, use_gpu, custom_pipeline, html, session_id, log_experiment, experiment_name, log_plots, log_profile, log_data, silent, verbose, profile, profile_kwargs)\u001b[0m\n\u001b[1;32m    578\u001b[0m         \u001b[0mlog_plots\u001b[0m \u001b[0;34m=\u001b[0m \u001b[0;34m[\u001b[0m\u001b[0;34m\"auc\"\u001b[0m\u001b[0;34m,\u001b[0m \u001b[0;34m\"confusion_matrix\"\u001b[0m\u001b[0;34m,\u001b[0m \u001b[0;34m\"feature\"\u001b[0m\u001b[0;34m]\u001b[0m\u001b[0;34m\u001b[0m\u001b[0;34m\u001b[0m\u001b[0m\n\u001b[1;32m    579\u001b[0m \u001b[0;34m\u001b[0m\u001b[0m\n\u001b[0;32m--> 580\u001b[0;31m     return pycaret.internal.tabular.setup(\n\u001b[0m\u001b[1;32m    581\u001b[0m         \u001b[0mml_usecase\u001b[0m\u001b[0;34m=\u001b[0m\u001b[0;34m\"classification\"\u001b[0m\u001b[0;34m,\u001b[0m\u001b[0;34m\u001b[0m\u001b[0;34m\u001b[0m\u001b[0m\n\u001b[1;32m    582\u001b[0m         \u001b[0mavailable_plots\u001b[0m\u001b[0;34m=\u001b[0m\u001b[0mavailable_plots\u001b[0m\u001b[0;34m,\u001b[0m\u001b[0;34m\u001b[0m\u001b[0;34m\u001b[0m\u001b[0m\n",
      "\u001b[0;32m~/.local/lib/python3.8/site-packages/pycaret/internal/tabular.py\u001b[0m in \u001b[0;36msetup\u001b[0;34m(data, target, ml_usecase, available_plots, train_size, test_data, preprocess, imputation_type, iterative_imputation_iters, categorical_features, categorical_imputation, categorical_iterative_imputer, ordinal_features, high_cardinality_features, high_cardinality_method, numeric_features, numeric_imputation, numeric_iterative_imputer, date_features, ignore_features, normalize, normalize_method, transformation, transformation_method, handle_unknown_categorical, unknown_categorical_method, pca, pca_method, pca_components, ignore_low_variance, combine_rare_levels, rare_level_threshold, bin_numeric_features, remove_outliers, outliers_threshold, remove_multicollinearity, multicollinearity_threshold, remove_perfect_collinearity, create_clusters, cluster_iter, polynomial_features, polynomial_degree, trigonometry_features, polynomial_threshold, group_features, group_names, feature_selection, feature_selection_threshold, feature_selection_method, feature_interaction, feature_ratio, interaction_threshold, fix_imbalance, fix_imbalance_method, transform_target, transform_target_method, data_split_shuffle, data_split_stratify, fold_strategy, fold, fold_shuffle, fold_groups, n_jobs, use_gpu, custom_pipeline, html, session_id, log_experiment, experiment_name, log_plots, log_profile, log_data, silent, verbose, profile, profile_kwargs, display)\u001b[0m\n\u001b[1;32m   1748\u001b[0m     \u001b[0mlogger\u001b[0m\u001b[0;34m.\u001b[0m\u001b[0minfo\u001b[0m\u001b[0;34m(\u001b[0m\u001b[0;34mf\"display_container: {len(display_container)}\"\u001b[0m\u001b[0;34m)\u001b[0m\u001b[0;34m\u001b[0m\u001b[0;34m\u001b[0m\u001b[0m\n\u001b[1;32m   1749\u001b[0m \u001b[0;34m\u001b[0m\u001b[0m\n\u001b[0;32m-> 1750\u001b[0;31m     \u001b[0mlogger\u001b[0m\u001b[0;34m.\u001b[0m\u001b[0minfo\u001b[0m\u001b[0;34m(\u001b[0m\u001b[0mstr\u001b[0m\u001b[0;34m(\u001b[0m\u001b[0mprep_pipe\u001b[0m\u001b[0;34m)\u001b[0m\u001b[0;34m)\u001b[0m\u001b[0;34m\u001b[0m\u001b[0;34m\u001b[0m\u001b[0m\n\u001b[0m\u001b[1;32m   1751\u001b[0m     \u001b[0mlogger\u001b[0m\u001b[0;34m.\u001b[0m\u001b[0minfo\u001b[0m\u001b[0;34m(\u001b[0m\u001b[0;34m\"setup() succesfully completed......................................\"\u001b[0m\u001b[0;34m)\u001b[0m\u001b[0;34m\u001b[0m\u001b[0;34m\u001b[0m\u001b[0m\n\u001b[1;32m   1752\u001b[0m \u001b[0;34m\u001b[0m\u001b[0m\n",
      "\u001b[0;32m~/.local/lib/python3.8/site-packages/sklearn/base.py\u001b[0m in \u001b[0;36m__repr__\u001b[0;34m(self, N_CHAR_MAX)\u001b[0m\n\u001b[1;32m    258\u001b[0m                 \u001b[0mvalid_params\u001b[0m\u001b[0;34m[\u001b[0m\u001b[0mkey\u001b[0m\u001b[0;34m]\u001b[0m \u001b[0;34m=\u001b[0m \u001b[0mvalue\u001b[0m\u001b[0;34m\u001b[0m\u001b[0;34m\u001b[0m\u001b[0m\n\u001b[1;32m    259\u001b[0m \u001b[0;34m\u001b[0m\u001b[0m\n\u001b[0;32m--> 260\u001b[0;31m         \u001b[0;32mfor\u001b[0m \u001b[0mkey\u001b[0m\u001b[0;34m,\u001b[0m \u001b[0msub_params\u001b[0m \u001b[0;32min\u001b[0m \u001b[0mnested_params\u001b[0m\u001b[0;34m.\u001b[0m\u001b[0mitems\u001b[0m\u001b[0;34m(\u001b[0m\u001b[0;34m)\u001b[0m\u001b[0;34m:\u001b[0m\u001b[0;34m\u001b[0m\u001b[0;34m\u001b[0m\u001b[0m\n\u001b[0m\u001b[1;32m    261\u001b[0m             \u001b[0mvalid_params\u001b[0m\u001b[0;34m[\u001b[0m\u001b[0mkey\u001b[0m\u001b[0;34m]\u001b[0m\u001b[0;34m.\u001b[0m\u001b[0mset_params\u001b[0m\u001b[0;34m(\u001b[0m\u001b[0;34m**\u001b[0m\u001b[0msub_params\u001b[0m\u001b[0;34m)\u001b[0m\u001b[0;34m\u001b[0m\u001b[0;34m\u001b[0m\u001b[0m\n\u001b[1;32m    262\u001b[0m \u001b[0;34m\u001b[0m\u001b[0m\n",
      "\u001b[0;32m/usr/lib/python3.8/pprint.py\u001b[0m in \u001b[0;36mpformat\u001b[0;34m(self, object)\u001b[0m\n\u001b[1;32m    151\u001b[0m     \u001b[0;32mdef\u001b[0m \u001b[0mpformat\u001b[0m\u001b[0;34m(\u001b[0m\u001b[0mself\u001b[0m\u001b[0;34m,\u001b[0m \u001b[0mobject\u001b[0m\u001b[0;34m)\u001b[0m\u001b[0;34m:\u001b[0m\u001b[0;34m\u001b[0m\u001b[0;34m\u001b[0m\u001b[0m\n\u001b[1;32m    152\u001b[0m         \u001b[0msio\u001b[0m \u001b[0;34m=\u001b[0m \u001b[0m_StringIO\u001b[0m\u001b[0;34m(\u001b[0m\u001b[0;34m)\u001b[0m\u001b[0;34m\u001b[0m\u001b[0;34m\u001b[0m\u001b[0m\n\u001b[0;32m--> 153\u001b[0;31m         \u001b[0mself\u001b[0m\u001b[0;34m.\u001b[0m\u001b[0m_format\u001b[0m\u001b[0;34m(\u001b[0m\u001b[0mobject\u001b[0m\u001b[0;34m,\u001b[0m \u001b[0msio\u001b[0m\u001b[0;34m,\u001b[0m \u001b[0;36m0\u001b[0m\u001b[0;34m,\u001b[0m \u001b[0;36m0\u001b[0m\u001b[0;34m,\u001b[0m \u001b[0;34m{\u001b[0m\u001b[0;34m}\u001b[0m\u001b[0;34m,\u001b[0m \u001b[0;36m0\u001b[0m\u001b[0;34m)\u001b[0m\u001b[0;34m\u001b[0m\u001b[0;34m\u001b[0m\u001b[0m\n\u001b[0m\u001b[1;32m    154\u001b[0m         \u001b[0;32mreturn\u001b[0m \u001b[0msio\u001b[0m\u001b[0;34m.\u001b[0m\u001b[0mgetvalue\u001b[0m\u001b[0;34m(\u001b[0m\u001b[0;34m)\u001b[0m\u001b[0;34m\u001b[0m\u001b[0;34m\u001b[0m\u001b[0m\n\u001b[1;32m    155\u001b[0m \u001b[0;34m\u001b[0m\u001b[0m\n",
      "\u001b[0;32m/usr/lib/python3.8/pprint.py\u001b[0m in \u001b[0;36m_format\u001b[0;34m(self, object, stream, indent, allowance, context, level)\u001b[0m\n\u001b[1;32m    168\u001b[0m             \u001b[0mself\u001b[0m\u001b[0;34m.\u001b[0m\u001b[0m_readable\u001b[0m \u001b[0;34m=\u001b[0m \u001b[0;32mFalse\u001b[0m\u001b[0;34m\u001b[0m\u001b[0;34m\u001b[0m\u001b[0m\n\u001b[1;32m    169\u001b[0m             \u001b[0;32mreturn\u001b[0m\u001b[0;34m\u001b[0m\u001b[0;34m\u001b[0m\u001b[0m\n\u001b[0;32m--> 170\u001b[0;31m         \u001b[0mrep\u001b[0m \u001b[0;34m=\u001b[0m \u001b[0mself\u001b[0m\u001b[0;34m.\u001b[0m\u001b[0m_repr\u001b[0m\u001b[0;34m(\u001b[0m\u001b[0mobject\u001b[0m\u001b[0;34m,\u001b[0m \u001b[0mcontext\u001b[0m\u001b[0;34m,\u001b[0m \u001b[0mlevel\u001b[0m\u001b[0;34m)\u001b[0m\u001b[0;34m\u001b[0m\u001b[0;34m\u001b[0m\u001b[0m\n\u001b[0m\u001b[1;32m    171\u001b[0m         \u001b[0mmax_width\u001b[0m \u001b[0;34m=\u001b[0m \u001b[0mself\u001b[0m\u001b[0;34m.\u001b[0m\u001b[0m_width\u001b[0m \u001b[0;34m-\u001b[0m \u001b[0mindent\u001b[0m \u001b[0;34m-\u001b[0m \u001b[0mallowance\u001b[0m\u001b[0;34m\u001b[0m\u001b[0;34m\u001b[0m\u001b[0m\n\u001b[1;32m    172\u001b[0m         \u001b[0;32mif\u001b[0m \u001b[0mlen\u001b[0m\u001b[0;34m(\u001b[0m\u001b[0mrep\u001b[0m\u001b[0;34m)\u001b[0m \u001b[0;34m>\u001b[0m \u001b[0mmax_width\u001b[0m\u001b[0;34m:\u001b[0m\u001b[0;34m\u001b[0m\u001b[0;34m\u001b[0m\u001b[0m\n",
      "\u001b[0;32m/usr/lib/python3.8/pprint.py\u001b[0m in \u001b[0;36m_repr\u001b[0;34m(self, object, context, level)\u001b[0m\n\u001b[1;32m    402\u001b[0m \u001b[0;34m\u001b[0m\u001b[0m\n\u001b[1;32m    403\u001b[0m     \u001b[0;32mdef\u001b[0m \u001b[0m_repr\u001b[0m\u001b[0;34m(\u001b[0m\u001b[0mself\u001b[0m\u001b[0;34m,\u001b[0m \u001b[0mobject\u001b[0m\u001b[0;34m,\u001b[0m \u001b[0mcontext\u001b[0m\u001b[0;34m,\u001b[0m \u001b[0mlevel\u001b[0m\u001b[0;34m)\u001b[0m\u001b[0;34m:\u001b[0m\u001b[0;34m\u001b[0m\u001b[0;34m\u001b[0m\u001b[0m\n\u001b[0;32m--> 404\u001b[0;31m         repr, readable, recursive = self.format(object, context.copy(),\n\u001b[0m\u001b[1;32m    405\u001b[0m                                                 self._depth, level)\n\u001b[1;32m    406\u001b[0m         \u001b[0;32mif\u001b[0m \u001b[0;32mnot\u001b[0m \u001b[0mreadable\u001b[0m\u001b[0;34m:\u001b[0m\u001b[0;34m\u001b[0m\u001b[0;34m\u001b[0m\u001b[0m\n",
      "\u001b[0;32m~/.local/lib/python3.8/site-packages/sklearn/utils/_pprint.py\u001b[0m in \u001b[0;36mformat\u001b[0;34m(self, object, context, maxlevels, level)\u001b[0m\n\u001b[1;32m    178\u001b[0m             \u001b[0mindent\u001b[0m \u001b[0;34m+=\u001b[0m \u001b[0mlen\u001b[0m\u001b[0;34m(\u001b[0m\u001b[0mobject\u001b[0m\u001b[0;34m.\u001b[0m\u001b[0m__class__\u001b[0m\u001b[0;34m.\u001b[0m\u001b[0m__name__\u001b[0m\u001b[0;34m)\u001b[0m\u001b[0;34m\u001b[0m\u001b[0;34m\u001b[0m\u001b[0m\n\u001b[1;32m    179\u001b[0m \u001b[0;34m\u001b[0m\u001b[0m\n\u001b[0;32m--> 180\u001b[0;31m         \u001b[0;32mif\u001b[0m \u001b[0mself\u001b[0m\u001b[0;34m.\u001b[0m\u001b[0m_changed_only\u001b[0m\u001b[0;34m:\u001b[0m\u001b[0;34m\u001b[0m\u001b[0;34m\u001b[0m\u001b[0m\n\u001b[0m\u001b[1;32m    181\u001b[0m             \u001b[0mparams\u001b[0m \u001b[0;34m=\u001b[0m \u001b[0m_changed_params\u001b[0m\u001b[0;34m(\u001b[0m\u001b[0mobject\u001b[0m\u001b[0;34m)\u001b[0m\u001b[0;34m\u001b[0m\u001b[0;34m\u001b[0m\u001b[0m\n\u001b[1;32m    182\u001b[0m         \u001b[0;32melse\u001b[0m\u001b[0;34m:\u001b[0m\u001b[0;34m\u001b[0m\u001b[0;34m\u001b[0m\u001b[0m\n",
      "\u001b[0;32m~/.local/lib/python3.8/site-packages/sklearn/utils/_pprint.py\u001b[0m in \u001b[0;36m_safe_repr\u001b[0;34m(object, context, maxlevels, level, changed_only)\u001b[0m\n\u001b[1;32m    434\u001b[0m         return (\"%s(%s)\" % (typ.__name__, \", \".join(components)), readable,\n\u001b[1;32m    435\u001b[0m                 recursive)\n\u001b[0;32m--> 436\u001b[0;31m \u001b[0;34m\u001b[0m\u001b[0m\n\u001b[0m\u001b[1;32m    437\u001b[0m     \u001b[0mrep\u001b[0m \u001b[0;34m=\u001b[0m \u001b[0mrepr\u001b[0m\u001b[0;34m(\u001b[0m\u001b[0mobject\u001b[0m\u001b[0;34m)\u001b[0m\u001b[0;34m\u001b[0m\u001b[0;34m\u001b[0m\u001b[0m\n\u001b[1;32m    438\u001b[0m     \u001b[0;32mreturn\u001b[0m \u001b[0mrep\u001b[0m\u001b[0;34m,\u001b[0m \u001b[0;34m(\u001b[0m\u001b[0mrep\u001b[0m \u001b[0;32mand\u001b[0m \u001b[0;32mnot\u001b[0m \u001b[0mrep\u001b[0m\u001b[0;34m.\u001b[0m\u001b[0mstartswith\u001b[0m\u001b[0;34m(\u001b[0m\u001b[0;34m'<'\u001b[0m\u001b[0;34m)\u001b[0m\u001b[0;34m)\u001b[0m\u001b[0;34m,\u001b[0m \u001b[0;32mFalse\u001b[0m\u001b[0;34m\u001b[0m\u001b[0;34m\u001b[0m\u001b[0m\n",
      "\u001b[0;32m~/.local/lib/python3.8/site-packages/sklearn/utils/_pprint.py\u001b[0m in \u001b[0;36m_safe_repr\u001b[0;34m(object, context, maxlevels, level, changed_only)\u001b[0m\n\u001b[1;32m    403\u001b[0m         \u001b[0;32mdel\u001b[0m \u001b[0mcontext\u001b[0m\u001b[0;34m[\u001b[0m\u001b[0mobjid\u001b[0m\u001b[0;34m]\u001b[0m\u001b[0;34m\u001b[0m\u001b[0;34m\u001b[0m\u001b[0m\n\u001b[1;32m    404\u001b[0m         \u001b[0;32mreturn\u001b[0m \u001b[0mformat\u001b[0m \u001b[0;34m%\u001b[0m \u001b[0;34m\", \"\u001b[0m\u001b[0;34m.\u001b[0m\u001b[0mjoin\u001b[0m\u001b[0;34m(\u001b[0m\u001b[0mcomponents\u001b[0m\u001b[0;34m)\u001b[0m\u001b[0;34m,\u001b[0m \u001b[0mreadable\u001b[0m\u001b[0;34m,\u001b[0m \u001b[0mrecursive\u001b[0m\u001b[0;34m\u001b[0m\u001b[0;34m\u001b[0m\u001b[0m\n\u001b[0;32m--> 405\u001b[0;31m \u001b[0;34m\u001b[0m\u001b[0m\n\u001b[0m\u001b[1;32m    406\u001b[0m     \u001b[0;32mif\u001b[0m \u001b[0missubclass\u001b[0m\u001b[0;34m(\u001b[0m\u001b[0mtyp\u001b[0m\u001b[0;34m,\u001b[0m \u001b[0mBaseEstimator\u001b[0m\u001b[0;34m)\u001b[0m\u001b[0;34m:\u001b[0m\u001b[0;34m\u001b[0m\u001b[0;34m\u001b[0m\u001b[0m\n\u001b[1;32m    407\u001b[0m         \u001b[0mobjid\u001b[0m \u001b[0;34m=\u001b[0m \u001b[0mid\u001b[0m\u001b[0;34m(\u001b[0m\u001b[0mobject\u001b[0m\u001b[0;34m)\u001b[0m\u001b[0;34m\u001b[0m\u001b[0;34m\u001b[0m\u001b[0m\n",
      "\u001b[0;32m~/.local/lib/python3.8/site-packages/sklearn/utils/_pprint.py\u001b[0m in \u001b[0;36m_safe_repr\u001b[0;34m(object, context, maxlevels, level, changed_only)\u001b[0m\n\u001b[1;32m    403\u001b[0m         \u001b[0;32mdel\u001b[0m \u001b[0mcontext\u001b[0m\u001b[0;34m[\u001b[0m\u001b[0mobjid\u001b[0m\u001b[0;34m]\u001b[0m\u001b[0;34m\u001b[0m\u001b[0;34m\u001b[0m\u001b[0m\n\u001b[1;32m    404\u001b[0m         \u001b[0;32mreturn\u001b[0m \u001b[0mformat\u001b[0m \u001b[0;34m%\u001b[0m \u001b[0;34m\", \"\u001b[0m\u001b[0;34m.\u001b[0m\u001b[0mjoin\u001b[0m\u001b[0;34m(\u001b[0m\u001b[0mcomponents\u001b[0m\u001b[0;34m)\u001b[0m\u001b[0;34m,\u001b[0m \u001b[0mreadable\u001b[0m\u001b[0;34m,\u001b[0m \u001b[0mrecursive\u001b[0m\u001b[0;34m\u001b[0m\u001b[0;34m\u001b[0m\u001b[0m\n\u001b[0;32m--> 405\u001b[0;31m \u001b[0;34m\u001b[0m\u001b[0m\n\u001b[0m\u001b[1;32m    406\u001b[0m     \u001b[0;32mif\u001b[0m \u001b[0missubclass\u001b[0m\u001b[0;34m(\u001b[0m\u001b[0mtyp\u001b[0m\u001b[0;34m,\u001b[0m \u001b[0mBaseEstimator\u001b[0m\u001b[0;34m)\u001b[0m\u001b[0;34m:\u001b[0m\u001b[0;34m\u001b[0m\u001b[0;34m\u001b[0m\u001b[0m\n\u001b[1;32m    407\u001b[0m         \u001b[0mobjid\u001b[0m \u001b[0;34m=\u001b[0m \u001b[0mid\u001b[0m\u001b[0;34m(\u001b[0m\u001b[0mobject\u001b[0m\u001b[0;34m)\u001b[0m\u001b[0;34m\u001b[0m\u001b[0;34m\u001b[0m\u001b[0m\n",
      "\u001b[0;32m~/.local/lib/python3.8/site-packages/sklearn/utils/_pprint.py\u001b[0m in \u001b[0;36m_safe_repr\u001b[0;34m(object, context, maxlevels, level, changed_only)\u001b[0m\n\u001b[1;32m    425\u001b[0m             krepr, kreadable, krecur = saferepr(\n\u001b[1;32m    426\u001b[0m                 k, context, maxlevels, level, changed_only=changed_only)\n\u001b[0;32m--> 427\u001b[0;31m             vrepr, vreadable, vrecur = saferepr(\n\u001b[0m\u001b[1;32m    428\u001b[0m                 v, context, maxlevels, level, changed_only=changed_only)\n\u001b[1;32m    429\u001b[0m             \u001b[0mappend\u001b[0m\u001b[0;34m(\u001b[0m\u001b[0;34m\"%s=%s\"\u001b[0m \u001b[0;34m%\u001b[0m \u001b[0;34m(\u001b[0m\u001b[0mkrepr\u001b[0m\u001b[0;34m.\u001b[0m\u001b[0mstrip\u001b[0m\u001b[0;34m(\u001b[0m\u001b[0;34m\"'\"\u001b[0m\u001b[0;34m)\u001b[0m\u001b[0;34m,\u001b[0m \u001b[0mvrepr\u001b[0m\u001b[0;34m)\u001b[0m\u001b[0;34m)\u001b[0m\u001b[0;34m\u001b[0m\u001b[0;34m\u001b[0m\u001b[0m\n",
      "\u001b[0;32m~/.local/lib/python3.8/site-packages/sklearn/base.py\u001b[0m in \u001b[0;36mget_params\u001b[0;34m(self, deep)\u001b[0m\n\u001b[1;32m    193\u001b[0m         \u001b[0mParameters\u001b[0m\u001b[0;34m\u001b[0m\u001b[0;34m\u001b[0m\u001b[0m\n\u001b[1;32m    194\u001b[0m         \u001b[0;34m-\u001b[0m\u001b[0;34m-\u001b[0m\u001b[0;34m-\u001b[0m\u001b[0;34m-\u001b[0m\u001b[0;34m-\u001b[0m\u001b[0;34m-\u001b[0m\u001b[0;34m-\u001b[0m\u001b[0;34m-\u001b[0m\u001b[0;34m-\u001b[0m\u001b[0;34m-\u001b[0m\u001b[0;34m\u001b[0m\u001b[0;34m\u001b[0m\u001b[0m\n\u001b[0;32m--> 195\u001b[0;31m         \u001b[0mdeep\u001b[0m \u001b[0;34m:\u001b[0m \u001b[0mbool\u001b[0m\u001b[0;34m,\u001b[0m \u001b[0mdefault\u001b[0m\u001b[0;34m=\u001b[0m\u001b[0;32mTrue\u001b[0m\u001b[0;34m\u001b[0m\u001b[0;34m\u001b[0m\u001b[0m\n\u001b[0m\u001b[1;32m    196\u001b[0m             \u001b[0mIf\u001b[0m \u001b[0;32mTrue\u001b[0m\u001b[0;34m,\u001b[0m \u001b[0mwill\u001b[0m \u001b[0;32mreturn\u001b[0m \u001b[0mthe\u001b[0m \u001b[0mparameters\u001b[0m \u001b[0;32mfor\u001b[0m \u001b[0mthis\u001b[0m \u001b[0mestimator\u001b[0m \u001b[0;32mand\u001b[0m\u001b[0;34m\u001b[0m\u001b[0;34m\u001b[0m\u001b[0m\n\u001b[1;32m    197\u001b[0m             \u001b[0mcontained\u001b[0m \u001b[0msubobjects\u001b[0m \u001b[0mthat\u001b[0m \u001b[0mare\u001b[0m \u001b[0mestimators\u001b[0m\u001b[0;34m.\u001b[0m\u001b[0;34m\u001b[0m\u001b[0;34m\u001b[0m\u001b[0m\n",
      "\u001b[0;31mAttributeError\u001b[0m: 'Simple_Imputer' object has no attribute 'fill_value_categorical'"
     ]
    }
   ],
   "source": []
  },
  {
   "cell_type": "code",
   "execution_count": 379,
   "metadata": {
    "tags": [
     "outputPrepend"
    ]
   },
   "outputs": [
    {
     "output_type": "display_data",
     "data": {
      "text/plain": "<pandas.io.formats.style.Styler at 0x7f7d2ec05d60>",
      "text/html": "<style  type=\"text/css\" >\n</style><table id=\"T_62a2d526_47ca_11eb_aa86_c93bc128ca5e\" ><thead></thead><tbody>\n        </tbody></table>"
     },
     "metadata": {}
    },
    {
     "output_type": "execute_result",
     "data": {
      "text/plain": [
       "[]"
      ]
     },
     "metadata": {},
     "execution_count": 379
    }
   ],
   "source": [
    "compare_models()"
   ]
  },
  {
   "cell_type": "code",
   "execution_count": 311,
   "metadata": {},
   "outputs": [
    {
     "output_type": "error",
     "ename": "IndexError",
     "evalue": "pop from empty list",
     "traceback": [
      "\u001b[0;31m---------------------------------------------------------------------------\u001b[0m",
      "\u001b[0;31mIndexError\u001b[0m                                Traceback (most recent call last)",
      "\u001b[0;32m<ipython-input-311-3380022d38c0>\u001b[0m in \u001b[0;36m<module>\u001b[0;34m\u001b[0m\n\u001b[0;32m----> 1\u001b[0;31m \u001b[0maa\u001b[0m\u001b[0;34m.\u001b[0m\u001b[0mpop\u001b[0m\u001b[0;34m(\u001b[0m\u001b[0;34m)\u001b[0m\u001b[0;34m\u001b[0m\u001b[0;34m\u001b[0m\u001b[0m\n\u001b[0m",
      "\u001b[0;31mIndexError\u001b[0m: pop from empty list"
     ]
    }
   ],
   "source": []
  },
  {
   "cell_type": "code",
   "execution_count": null,
   "metadata": {},
   "outputs": [],
   "source": []
  },
  {
   "cell_type": "code",
   "execution_count": null,
   "metadata": {},
   "outputs": [],
   "source": []
  },
  {
   "cell_type": "code",
   "execution_count": null,
   "metadata": {},
   "outputs": [],
   "source": []
  },
  {
   "cell_type": "code",
   "execution_count": null,
   "metadata": {},
   "outputs": [],
   "source": []
  },
  {
   "cell_type": "code",
   "execution_count": null,
   "metadata": {},
   "outputs": [],
   "source": []
  },
  {
   "cell_type": "code",
   "execution_count": null,
   "metadata": {},
   "outputs": [],
   "source": []
  },
  {
   "cell_type": "code",
   "execution_count": null,
   "metadata": {},
   "outputs": [],
   "source": []
  }
 ]
}