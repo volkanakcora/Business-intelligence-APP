{
 "metadata": {
  "language_info": {
   "codemirror_mode": {
    "name": "ipython",
    "version": 3
   },
   "file_extension": ".py",
   "mimetype": "text/x-python",
   "name": "python",
   "nbconvert_exporter": "python",
   "pygments_lexer": "ipython3",
   "version": "3.8.5-final"
  },
  "orig_nbformat": 2,
  "kernelspec": {
   "name": "python38264bit4d8d1a608d0345d58a0ff17be4288663",
   "display_name": "Python 3.8.2 64-bit",
   "language": "python"
  }
 },
 "nbformat": 4,
 "nbformat_minor": 2,
 "cells": [
  {
   "cell_type": "code",
   "execution_count": 1,
   "metadata": {},
   "outputs": [
    {
     "output_type": "stream",
     "name": "stdout",
     "text": [
      "Welcome to atoti 0.5.0!\n\nBy using this community edition, you agree with the license available at https://www.atoti.io/eula.\nBrowse the official documentation at https://docs.atoti.io.\nJoin the community at https://www.atoti.io/register.\n\nYou can hide this message by setting the ATOTI_HIDE_EULA_MESSAGE environment variable to True.\n"
     ]
    }
   ],
   "source": [
    "import atoti"
   ]
  },
  {
   "cell_type": "code",
   "execution_count": 7,
   "metadata": {},
   "outputs": [
    {
     "output_type": "stream",
     "name": "stderr",
     "text": [
      "Deleting existing \"Unnamed\" session to create the new one.\n"
     ]
    }
   ],
   "source": [
    "\n",
    "session = atoti.create_session()\n"
   ]
  },
  {
   "cell_type": "code",
   "execution_count": 8,
   "metadata": {},
   "outputs": [
    {
     "output_type": "execute_result",
     "data": {
      "text/plain": [
       "'http://localhost:39759'"
      ]
     },
     "metadata": {},
     "execution_count": 8
    }
   ],
   "source": [
    "session.url"
   ]
  },
  {
   "cell_type": "code",
   "execution_count": 17,
   "metadata": {},
   "outputs": [],
   "source": [
    "classified_products_datastore = session.read_csv(\"/home/volkan/Desktop/PY/TRY/car_sales.csv\")"
   ]
  },
  {
   "cell_type": "code",
   "execution_count": 10,
   "metadata": {},
   "outputs": [
    {
     "output_type": "execute_result",
     "data": {
      "text/plain": [
       "  manufact    model   sales  resale        type  price  engine_s  horsepow  \\\n",
       "0    Acura  Integra  16.919  16.360  Automobile   21.5       1.8       140   \n",
       "1    Acura       TL  39.384  19.875  Automobile   28.4       3.2       225   \n",
       "2    Acura       CL  14.114  18.225  Automobile    N/A       3.2       225   \n",
       "3    Acura       RL   8.588  29.725  Automobile     42       3.5       210   \n",
       "4     Audi       A4  20.397  22.255  Automobile  23.99       1.8       150   \n",
       "\n",
       "   wheelbas  width  ...     ztype             zprice  zengine_  zhorsepo  \\\n",
       "0     101.2   67.3  ... -0.592619  -.410458276899195 -1.207001 -0.810378   \n",
       "1     108.1   70.3  ... -0.592619  .0703225717610769  0.133157  0.688731   \n",
       "2     106.9   70.6  ... -0.592619                N/A  0.133157  0.688731   \n",
       "3     114.6   71.4  ... -0.592619   1.01794859230886  0.420333  0.424182   \n",
       "4     102.6   68.2  ... -0.592619  -.236959101078314 -1.207001 -0.634013   \n",
       "\n",
       "   zwheelba    zwidth   zlength  zcurb_wg  zfuel_ca      zmpg  \n",
       "0 -0.822789 -1.115337 -1.112557 -1.172124 -1.222227  0.970527  \n",
       "1  0.080198 -0.246243  0.413677  0.220418 -0.193400  0.270037  \n",
       "2 -0.076843 -0.159334  0.346672  0.145875 -0.193400  0.503534  \n",
       "3  0.930839  0.072424  0.689144  0.748569  0.012366 -0.430452  \n",
       "4 -0.639574 -0.854609 -0.695634 -0.602736 -0.399165  0.737030  \n",
       "\n",
       "[5 rows x 26 columns]"
      ],
      "text/html": "<div>\n<style scoped>\n    .dataframe tbody tr th:only-of-type {\n        vertical-align: middle;\n    }\n\n    .dataframe tbody tr th {\n        vertical-align: top;\n    }\n\n    .dataframe thead th {\n        text-align: right;\n    }\n</style>\n<table border=\"1\" class=\"dataframe\">\n  <thead>\n    <tr style=\"text-align: right;\">\n      <th></th>\n      <th>manufact</th>\n      <th>model</th>\n      <th>sales</th>\n      <th>resale</th>\n      <th>type</th>\n      <th>price</th>\n      <th>engine_s</th>\n      <th>horsepow</th>\n      <th>wheelbas</th>\n      <th>width</th>\n      <th>...</th>\n      <th>ztype</th>\n      <th>zprice</th>\n      <th>zengine_</th>\n      <th>zhorsepo</th>\n      <th>zwheelba</th>\n      <th>zwidth</th>\n      <th>zlength</th>\n      <th>zcurb_wg</th>\n      <th>zfuel_ca</th>\n      <th>zmpg</th>\n    </tr>\n  </thead>\n  <tbody>\n    <tr>\n      <th>0</th>\n      <td>Acura</td>\n      <td>Integra</td>\n      <td>16.919</td>\n      <td>16.360</td>\n      <td>Automobile</td>\n      <td>21.5</td>\n      <td>1.8</td>\n      <td>140</td>\n      <td>101.2</td>\n      <td>67.3</td>\n      <td>...</td>\n      <td>-0.592619</td>\n      <td>-.410458276899195</td>\n      <td>-1.207001</td>\n      <td>-0.810378</td>\n      <td>-0.822789</td>\n      <td>-1.115337</td>\n      <td>-1.112557</td>\n      <td>-1.172124</td>\n      <td>-1.222227</td>\n      <td>0.970527</td>\n    </tr>\n    <tr>\n      <th>1</th>\n      <td>Acura</td>\n      <td>TL</td>\n      <td>39.384</td>\n      <td>19.875</td>\n      <td>Automobile</td>\n      <td>28.4</td>\n      <td>3.2</td>\n      <td>225</td>\n      <td>108.1</td>\n      <td>70.3</td>\n      <td>...</td>\n      <td>-0.592619</td>\n      <td>.0703225717610769</td>\n      <td>0.133157</td>\n      <td>0.688731</td>\n      <td>0.080198</td>\n      <td>-0.246243</td>\n      <td>0.413677</td>\n      <td>0.220418</td>\n      <td>-0.193400</td>\n      <td>0.270037</td>\n    </tr>\n    <tr>\n      <th>2</th>\n      <td>Acura</td>\n      <td>CL</td>\n      <td>14.114</td>\n      <td>18.225</td>\n      <td>Automobile</td>\n      <td>N/A</td>\n      <td>3.2</td>\n      <td>225</td>\n      <td>106.9</td>\n      <td>70.6</td>\n      <td>...</td>\n      <td>-0.592619</td>\n      <td>N/A</td>\n      <td>0.133157</td>\n      <td>0.688731</td>\n      <td>-0.076843</td>\n      <td>-0.159334</td>\n      <td>0.346672</td>\n      <td>0.145875</td>\n      <td>-0.193400</td>\n      <td>0.503534</td>\n    </tr>\n    <tr>\n      <th>3</th>\n      <td>Acura</td>\n      <td>RL</td>\n      <td>8.588</td>\n      <td>29.725</td>\n      <td>Automobile</td>\n      <td>42</td>\n      <td>3.5</td>\n      <td>210</td>\n      <td>114.6</td>\n      <td>71.4</td>\n      <td>...</td>\n      <td>-0.592619</td>\n      <td>1.01794859230886</td>\n      <td>0.420333</td>\n      <td>0.424182</td>\n      <td>0.930839</td>\n      <td>0.072424</td>\n      <td>0.689144</td>\n      <td>0.748569</td>\n      <td>0.012366</td>\n      <td>-0.430452</td>\n    </tr>\n    <tr>\n      <th>4</th>\n      <td>Audi</td>\n      <td>A4</td>\n      <td>20.397</td>\n      <td>22.255</td>\n      <td>Automobile</td>\n      <td>23.99</td>\n      <td>1.8</td>\n      <td>150</td>\n      <td>102.6</td>\n      <td>68.2</td>\n      <td>...</td>\n      <td>-0.592619</td>\n      <td>-.236959101078314</td>\n      <td>-1.207001</td>\n      <td>-0.634013</td>\n      <td>-0.639574</td>\n      <td>-0.854609</td>\n      <td>-0.695634</td>\n      <td>-0.602736</td>\n      <td>-0.399165</td>\n      <td>0.737030</td>\n    </tr>\n  </tbody>\n</table>\n<p>5 rows × 26 columns</p>\n</div>"
     },
     "metadata": {},
     "execution_count": 10
    }
   ],
   "source": [
    "classified_products_datastore.head()"
   ]
  },
  {
   "cell_type": "code",
   "execution_count": 12,
   "metadata": {},
   "outputs": [],
   "source": [
    "cube = session.create_cube(classified_products_datastore,\"Car Cube\")"
   ]
  },
  {
   "cell_type": "code",
   "execution_count": 15,
   "metadata": {},
   "outputs": [
    {
     "output_type": "execute_result",
     "data": {
      "text/plain": [
       "'http://localhost:39759'"
      ]
     },
     "metadata": {},
     "execution_count": 15
    }
   ],
   "source": [
    "session.url"
   ]
  },
  {
   "source": [
    "# Creating measures"
   ],
   "cell_type": "markdown",
   "metadata": {}
  },
  {
   "cell_type": "code",
   "execution_count": 19,
   "metadata": {},
   "outputs": [],
   "source": [
    "n = cube.measures\n",
    "lvl = cube.levels"
   ]
  },
  {
   "cell_type": "code",
   "execution_count": null,
   "metadata": {},
   "outputs": [],
   "source": []
  },
  {
   "cell_type": "code",
   "execution_count": null,
   "metadata": {},
   "outputs": [],
   "source": []
  },
  {
   "cell_type": "code",
   "execution_count": null,
   "metadata": {},
   "outputs": [],
   "source": []
  },
  {
   "cell_type": "code",
   "execution_count": null,
   "metadata": {},
   "outputs": [],
   "source": []
  },
  {
   "cell_type": "code",
   "execution_count": null,
   "metadata": {},
   "outputs": [],
   "source": []
  }
 ]
}